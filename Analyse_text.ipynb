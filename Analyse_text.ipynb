{
  "nbformat": 4,
  "nbformat_minor": 0,
  "metadata": {
    "colab": {
      "provenance": []
    },
    "kernelspec": {
      "name": "python3",
      "display_name": "Python 3"
    },
    "language_info": {
      "name": "python"
    },
    "widgets": {
      "application/vnd.jupyter.widget-state+json": {
        "2830c0d0207b43829e5edb31e4214386": {
          "model_module": "@jupyter-widgets/controls",
          "model_name": "HBoxModel",
          "model_module_version": "1.5.0",
          "state": {
            "_dom_classes": [],
            "_model_module": "@jupyter-widgets/controls",
            "_model_module_version": "1.5.0",
            "_model_name": "HBoxModel",
            "_view_count": null,
            "_view_module": "@jupyter-widgets/controls",
            "_view_module_version": "1.5.0",
            "_view_name": "HBoxView",
            "box_style": "",
            "children": [
              "IPY_MODEL_a58d60f9934c46e2bf6c6ecc1912fb27",
              "IPY_MODEL_040d4b33cbec4599b0233999a09d4023",
              "IPY_MODEL_1d2facb24ee143c6a1f18eb8c14204c7"
            ],
            "layout": "IPY_MODEL_12da2c9205894cf4b6bc9b1b34828913"
          }
        },
        "a58d60f9934c46e2bf6c6ecc1912fb27": {
          "model_module": "@jupyter-widgets/controls",
          "model_name": "HTMLModel",
          "model_module_version": "1.5.0",
          "state": {
            "_dom_classes": [],
            "_model_module": "@jupyter-widgets/controls",
            "_model_module_version": "1.5.0",
            "_model_name": "HTMLModel",
            "_view_count": null,
            "_view_module": "@jupyter-widgets/controls",
            "_view_module_version": "1.5.0",
            "_view_name": "HTMLView",
            "description": "",
            "description_tooltip": null,
            "layout": "IPY_MODEL_f1ed83aa4737412d952928c0f4acbcc9",
            "placeholder": "​",
            "style": "IPY_MODEL_c5bc37521bc84b3c98e9335ee320666b",
            "value": "config.json: 100%"
          }
        },
        "040d4b33cbec4599b0233999a09d4023": {
          "model_module": "@jupyter-widgets/controls",
          "model_name": "FloatProgressModel",
          "model_module_version": "1.5.0",
          "state": {
            "_dom_classes": [],
            "_model_module": "@jupyter-widgets/controls",
            "_model_module_version": "1.5.0",
            "_model_name": "FloatProgressModel",
            "_view_count": null,
            "_view_module": "@jupyter-widgets/controls",
            "_view_module_version": "1.5.0",
            "_view_name": "ProgressView",
            "bar_style": "success",
            "description": "",
            "description_tooltip": null,
            "layout": "IPY_MODEL_4ef7fdc9433246679eef2f3e97c6ffce",
            "max": 629,
            "min": 0,
            "orientation": "horizontal",
            "style": "IPY_MODEL_efad2f30eb024498be344ad8b251e957",
            "value": 629
          }
        },
        "1d2facb24ee143c6a1f18eb8c14204c7": {
          "model_module": "@jupyter-widgets/controls",
          "model_name": "HTMLModel",
          "model_module_version": "1.5.0",
          "state": {
            "_dom_classes": [],
            "_model_module": "@jupyter-widgets/controls",
            "_model_module_version": "1.5.0",
            "_model_name": "HTMLModel",
            "_view_count": null,
            "_view_module": "@jupyter-widgets/controls",
            "_view_module_version": "1.5.0",
            "_view_name": "HTMLView",
            "description": "",
            "description_tooltip": null,
            "layout": "IPY_MODEL_270996a1243a431cb8bc1f475a940ab6",
            "placeholder": "​",
            "style": "IPY_MODEL_a0744227e6b44eb0a582aac7fe3dbc88",
            "value": " 629/629 [00:00&lt;00:00, 40.4kB/s]"
          }
        },
        "12da2c9205894cf4b6bc9b1b34828913": {
          "model_module": "@jupyter-widgets/base",
          "model_name": "LayoutModel",
          "model_module_version": "1.2.0",
          "state": {
            "_model_module": "@jupyter-widgets/base",
            "_model_module_version": "1.2.0",
            "_model_name": "LayoutModel",
            "_view_count": null,
            "_view_module": "@jupyter-widgets/base",
            "_view_module_version": "1.2.0",
            "_view_name": "LayoutView",
            "align_content": null,
            "align_items": null,
            "align_self": null,
            "border": null,
            "bottom": null,
            "display": null,
            "flex": null,
            "flex_flow": null,
            "grid_area": null,
            "grid_auto_columns": null,
            "grid_auto_flow": null,
            "grid_auto_rows": null,
            "grid_column": null,
            "grid_gap": null,
            "grid_row": null,
            "grid_template_areas": null,
            "grid_template_columns": null,
            "grid_template_rows": null,
            "height": null,
            "justify_content": null,
            "justify_items": null,
            "left": null,
            "margin": null,
            "max_height": null,
            "max_width": null,
            "min_height": null,
            "min_width": null,
            "object_fit": null,
            "object_position": null,
            "order": null,
            "overflow": null,
            "overflow_x": null,
            "overflow_y": null,
            "padding": null,
            "right": null,
            "top": null,
            "visibility": null,
            "width": null
          }
        },
        "f1ed83aa4737412d952928c0f4acbcc9": {
          "model_module": "@jupyter-widgets/base",
          "model_name": "LayoutModel",
          "model_module_version": "1.2.0",
          "state": {
            "_model_module": "@jupyter-widgets/base",
            "_model_module_version": "1.2.0",
            "_model_name": "LayoutModel",
            "_view_count": null,
            "_view_module": "@jupyter-widgets/base",
            "_view_module_version": "1.2.0",
            "_view_name": "LayoutView",
            "align_content": null,
            "align_items": null,
            "align_self": null,
            "border": null,
            "bottom": null,
            "display": null,
            "flex": null,
            "flex_flow": null,
            "grid_area": null,
            "grid_auto_columns": null,
            "grid_auto_flow": null,
            "grid_auto_rows": null,
            "grid_column": null,
            "grid_gap": null,
            "grid_row": null,
            "grid_template_areas": null,
            "grid_template_columns": null,
            "grid_template_rows": null,
            "height": null,
            "justify_content": null,
            "justify_items": null,
            "left": null,
            "margin": null,
            "max_height": null,
            "max_width": null,
            "min_height": null,
            "min_width": null,
            "object_fit": null,
            "object_position": null,
            "order": null,
            "overflow": null,
            "overflow_x": null,
            "overflow_y": null,
            "padding": null,
            "right": null,
            "top": null,
            "visibility": null,
            "width": null
          }
        },
        "c5bc37521bc84b3c98e9335ee320666b": {
          "model_module": "@jupyter-widgets/controls",
          "model_name": "DescriptionStyleModel",
          "model_module_version": "1.5.0",
          "state": {
            "_model_module": "@jupyter-widgets/controls",
            "_model_module_version": "1.5.0",
            "_model_name": "DescriptionStyleModel",
            "_view_count": null,
            "_view_module": "@jupyter-widgets/base",
            "_view_module_version": "1.2.0",
            "_view_name": "StyleView",
            "description_width": ""
          }
        },
        "4ef7fdc9433246679eef2f3e97c6ffce": {
          "model_module": "@jupyter-widgets/base",
          "model_name": "LayoutModel",
          "model_module_version": "1.2.0",
          "state": {
            "_model_module": "@jupyter-widgets/base",
            "_model_module_version": "1.2.0",
            "_model_name": "LayoutModel",
            "_view_count": null,
            "_view_module": "@jupyter-widgets/base",
            "_view_module_version": "1.2.0",
            "_view_name": "LayoutView",
            "align_content": null,
            "align_items": null,
            "align_self": null,
            "border": null,
            "bottom": null,
            "display": null,
            "flex": null,
            "flex_flow": null,
            "grid_area": null,
            "grid_auto_columns": null,
            "grid_auto_flow": null,
            "grid_auto_rows": null,
            "grid_column": null,
            "grid_gap": null,
            "grid_row": null,
            "grid_template_areas": null,
            "grid_template_columns": null,
            "grid_template_rows": null,
            "height": null,
            "justify_content": null,
            "justify_items": null,
            "left": null,
            "margin": null,
            "max_height": null,
            "max_width": null,
            "min_height": null,
            "min_width": null,
            "object_fit": null,
            "object_position": null,
            "order": null,
            "overflow": null,
            "overflow_x": null,
            "overflow_y": null,
            "padding": null,
            "right": null,
            "top": null,
            "visibility": null,
            "width": null
          }
        },
        "efad2f30eb024498be344ad8b251e957": {
          "model_module": "@jupyter-widgets/controls",
          "model_name": "ProgressStyleModel",
          "model_module_version": "1.5.0",
          "state": {
            "_model_module": "@jupyter-widgets/controls",
            "_model_module_version": "1.5.0",
            "_model_name": "ProgressStyleModel",
            "_view_count": null,
            "_view_module": "@jupyter-widgets/base",
            "_view_module_version": "1.2.0",
            "_view_name": "StyleView",
            "bar_color": null,
            "description_width": ""
          }
        },
        "270996a1243a431cb8bc1f475a940ab6": {
          "model_module": "@jupyter-widgets/base",
          "model_name": "LayoutModel",
          "model_module_version": "1.2.0",
          "state": {
            "_model_module": "@jupyter-widgets/base",
            "_model_module_version": "1.2.0",
            "_model_name": "LayoutModel",
            "_view_count": null,
            "_view_module": "@jupyter-widgets/base",
            "_view_module_version": "1.2.0",
            "_view_name": "LayoutView",
            "align_content": null,
            "align_items": null,
            "align_self": null,
            "border": null,
            "bottom": null,
            "display": null,
            "flex": null,
            "flex_flow": null,
            "grid_area": null,
            "grid_auto_columns": null,
            "grid_auto_flow": null,
            "grid_auto_rows": null,
            "grid_column": null,
            "grid_gap": null,
            "grid_row": null,
            "grid_template_areas": null,
            "grid_template_columns": null,
            "grid_template_rows": null,
            "height": null,
            "justify_content": null,
            "justify_items": null,
            "left": null,
            "margin": null,
            "max_height": null,
            "max_width": null,
            "min_height": null,
            "min_width": null,
            "object_fit": null,
            "object_position": null,
            "order": null,
            "overflow": null,
            "overflow_x": null,
            "overflow_y": null,
            "padding": null,
            "right": null,
            "top": null,
            "visibility": null,
            "width": null
          }
        },
        "a0744227e6b44eb0a582aac7fe3dbc88": {
          "model_module": "@jupyter-widgets/controls",
          "model_name": "DescriptionStyleModel",
          "model_module_version": "1.5.0",
          "state": {
            "_model_module": "@jupyter-widgets/controls",
            "_model_module_version": "1.5.0",
            "_model_name": "DescriptionStyleModel",
            "_view_count": null,
            "_view_module": "@jupyter-widgets/base",
            "_view_module_version": "1.2.0",
            "_view_name": "StyleView",
            "description_width": ""
          }
        },
        "14b405539fa341dd991829f1427ad879": {
          "model_module": "@jupyter-widgets/controls",
          "model_name": "HBoxModel",
          "model_module_version": "1.5.0",
          "state": {
            "_dom_classes": [],
            "_model_module": "@jupyter-widgets/controls",
            "_model_module_version": "1.5.0",
            "_model_name": "HBoxModel",
            "_view_count": null,
            "_view_module": "@jupyter-widgets/controls",
            "_view_module_version": "1.5.0",
            "_view_name": "HBoxView",
            "box_style": "",
            "children": [
              "IPY_MODEL_6fb517053ebf4473b77270ae53a12dfb",
              "IPY_MODEL_cbee7f34885243dfb67dbabd674de70f",
              "IPY_MODEL_9bd820f754b84210a4e70301b1de2edd"
            ],
            "layout": "IPY_MODEL_4b3a7b6520c641fb944e707e60f75f1b"
          }
        },
        "6fb517053ebf4473b77270ae53a12dfb": {
          "model_module": "@jupyter-widgets/controls",
          "model_name": "HTMLModel",
          "model_module_version": "1.5.0",
          "state": {
            "_dom_classes": [],
            "_model_module": "@jupyter-widgets/controls",
            "_model_module_version": "1.5.0",
            "_model_name": "HTMLModel",
            "_view_count": null,
            "_view_module": "@jupyter-widgets/controls",
            "_view_module_version": "1.5.0",
            "_view_name": "HTMLView",
            "description": "",
            "description_tooltip": null,
            "layout": "IPY_MODEL_aa5919cf542241f5b2b2ebaa5afece78",
            "placeholder": "​",
            "style": "IPY_MODEL_503a448c81f342b6b235d70f9c4a2f4c",
            "value": "model.safetensors: 100%"
          }
        },
        "cbee7f34885243dfb67dbabd674de70f": {
          "model_module": "@jupyter-widgets/controls",
          "model_name": "FloatProgressModel",
          "model_module_version": "1.5.0",
          "state": {
            "_dom_classes": [],
            "_model_module": "@jupyter-widgets/controls",
            "_model_module_version": "1.5.0",
            "_model_name": "FloatProgressModel",
            "_view_count": null,
            "_view_module": "@jupyter-widgets/controls",
            "_view_module_version": "1.5.0",
            "_view_name": "ProgressView",
            "bar_style": "success",
            "description": "",
            "description_tooltip": null,
            "layout": "IPY_MODEL_1a0ba0825df44d61ad5ac2bb19ddc1a6",
            "max": 267832558,
            "min": 0,
            "orientation": "horizontal",
            "style": "IPY_MODEL_6abdb76ef8814cc696e26b6215bcaf91",
            "value": 267832558
          }
        },
        "9bd820f754b84210a4e70301b1de2edd": {
          "model_module": "@jupyter-widgets/controls",
          "model_name": "HTMLModel",
          "model_module_version": "1.5.0",
          "state": {
            "_dom_classes": [],
            "_model_module": "@jupyter-widgets/controls",
            "_model_module_version": "1.5.0",
            "_model_name": "HTMLModel",
            "_view_count": null,
            "_view_module": "@jupyter-widgets/controls",
            "_view_module_version": "1.5.0",
            "_view_name": "HTMLView",
            "description": "",
            "description_tooltip": null,
            "layout": "IPY_MODEL_9ca07039c9014068b64f6dc721b2db39",
            "placeholder": "​",
            "style": "IPY_MODEL_2da309823f25480c927b3d71c0c7e090",
            "value": " 268M/268M [00:02&lt;00:00, 158MB/s]"
          }
        },
        "4b3a7b6520c641fb944e707e60f75f1b": {
          "model_module": "@jupyter-widgets/base",
          "model_name": "LayoutModel",
          "model_module_version": "1.2.0",
          "state": {
            "_model_module": "@jupyter-widgets/base",
            "_model_module_version": "1.2.0",
            "_model_name": "LayoutModel",
            "_view_count": null,
            "_view_module": "@jupyter-widgets/base",
            "_view_module_version": "1.2.0",
            "_view_name": "LayoutView",
            "align_content": null,
            "align_items": null,
            "align_self": null,
            "border": null,
            "bottom": null,
            "display": null,
            "flex": null,
            "flex_flow": null,
            "grid_area": null,
            "grid_auto_columns": null,
            "grid_auto_flow": null,
            "grid_auto_rows": null,
            "grid_column": null,
            "grid_gap": null,
            "grid_row": null,
            "grid_template_areas": null,
            "grid_template_columns": null,
            "grid_template_rows": null,
            "height": null,
            "justify_content": null,
            "justify_items": null,
            "left": null,
            "margin": null,
            "max_height": null,
            "max_width": null,
            "min_height": null,
            "min_width": null,
            "object_fit": null,
            "object_position": null,
            "order": null,
            "overflow": null,
            "overflow_x": null,
            "overflow_y": null,
            "padding": null,
            "right": null,
            "top": null,
            "visibility": null,
            "width": null
          }
        },
        "aa5919cf542241f5b2b2ebaa5afece78": {
          "model_module": "@jupyter-widgets/base",
          "model_name": "LayoutModel",
          "model_module_version": "1.2.0",
          "state": {
            "_model_module": "@jupyter-widgets/base",
            "_model_module_version": "1.2.0",
            "_model_name": "LayoutModel",
            "_view_count": null,
            "_view_module": "@jupyter-widgets/base",
            "_view_module_version": "1.2.0",
            "_view_name": "LayoutView",
            "align_content": null,
            "align_items": null,
            "align_self": null,
            "border": null,
            "bottom": null,
            "display": null,
            "flex": null,
            "flex_flow": null,
            "grid_area": null,
            "grid_auto_columns": null,
            "grid_auto_flow": null,
            "grid_auto_rows": null,
            "grid_column": null,
            "grid_gap": null,
            "grid_row": null,
            "grid_template_areas": null,
            "grid_template_columns": null,
            "grid_template_rows": null,
            "height": null,
            "justify_content": null,
            "justify_items": null,
            "left": null,
            "margin": null,
            "max_height": null,
            "max_width": null,
            "min_height": null,
            "min_width": null,
            "object_fit": null,
            "object_position": null,
            "order": null,
            "overflow": null,
            "overflow_x": null,
            "overflow_y": null,
            "padding": null,
            "right": null,
            "top": null,
            "visibility": null,
            "width": null
          }
        },
        "503a448c81f342b6b235d70f9c4a2f4c": {
          "model_module": "@jupyter-widgets/controls",
          "model_name": "DescriptionStyleModel",
          "model_module_version": "1.5.0",
          "state": {
            "_model_module": "@jupyter-widgets/controls",
            "_model_module_version": "1.5.0",
            "_model_name": "DescriptionStyleModel",
            "_view_count": null,
            "_view_module": "@jupyter-widgets/base",
            "_view_module_version": "1.2.0",
            "_view_name": "StyleView",
            "description_width": ""
          }
        },
        "1a0ba0825df44d61ad5ac2bb19ddc1a6": {
          "model_module": "@jupyter-widgets/base",
          "model_name": "LayoutModel",
          "model_module_version": "1.2.0",
          "state": {
            "_model_module": "@jupyter-widgets/base",
            "_model_module_version": "1.2.0",
            "_model_name": "LayoutModel",
            "_view_count": null,
            "_view_module": "@jupyter-widgets/base",
            "_view_module_version": "1.2.0",
            "_view_name": "LayoutView",
            "align_content": null,
            "align_items": null,
            "align_self": null,
            "border": null,
            "bottom": null,
            "display": null,
            "flex": null,
            "flex_flow": null,
            "grid_area": null,
            "grid_auto_columns": null,
            "grid_auto_flow": null,
            "grid_auto_rows": null,
            "grid_column": null,
            "grid_gap": null,
            "grid_row": null,
            "grid_template_areas": null,
            "grid_template_columns": null,
            "grid_template_rows": null,
            "height": null,
            "justify_content": null,
            "justify_items": null,
            "left": null,
            "margin": null,
            "max_height": null,
            "max_width": null,
            "min_height": null,
            "min_width": null,
            "object_fit": null,
            "object_position": null,
            "order": null,
            "overflow": null,
            "overflow_x": null,
            "overflow_y": null,
            "padding": null,
            "right": null,
            "top": null,
            "visibility": null,
            "width": null
          }
        },
        "6abdb76ef8814cc696e26b6215bcaf91": {
          "model_module": "@jupyter-widgets/controls",
          "model_name": "ProgressStyleModel",
          "model_module_version": "1.5.0",
          "state": {
            "_model_module": "@jupyter-widgets/controls",
            "_model_module_version": "1.5.0",
            "_model_name": "ProgressStyleModel",
            "_view_count": null,
            "_view_module": "@jupyter-widgets/base",
            "_view_module_version": "1.2.0",
            "_view_name": "StyleView",
            "bar_color": null,
            "description_width": ""
          }
        },
        "9ca07039c9014068b64f6dc721b2db39": {
          "model_module": "@jupyter-widgets/base",
          "model_name": "LayoutModel",
          "model_module_version": "1.2.0",
          "state": {
            "_model_module": "@jupyter-widgets/base",
            "_model_module_version": "1.2.0",
            "_model_name": "LayoutModel",
            "_view_count": null,
            "_view_module": "@jupyter-widgets/base",
            "_view_module_version": "1.2.0",
            "_view_name": "LayoutView",
            "align_content": null,
            "align_items": null,
            "align_self": null,
            "border": null,
            "bottom": null,
            "display": null,
            "flex": null,
            "flex_flow": null,
            "grid_area": null,
            "grid_auto_columns": null,
            "grid_auto_flow": null,
            "grid_auto_rows": null,
            "grid_column": null,
            "grid_gap": null,
            "grid_row": null,
            "grid_template_areas": null,
            "grid_template_columns": null,
            "grid_template_rows": null,
            "height": null,
            "justify_content": null,
            "justify_items": null,
            "left": null,
            "margin": null,
            "max_height": null,
            "max_width": null,
            "min_height": null,
            "min_width": null,
            "object_fit": null,
            "object_position": null,
            "order": null,
            "overflow": null,
            "overflow_x": null,
            "overflow_y": null,
            "padding": null,
            "right": null,
            "top": null,
            "visibility": null,
            "width": null
          }
        },
        "2da309823f25480c927b3d71c0c7e090": {
          "model_module": "@jupyter-widgets/controls",
          "model_name": "DescriptionStyleModel",
          "model_module_version": "1.5.0",
          "state": {
            "_model_module": "@jupyter-widgets/controls",
            "_model_module_version": "1.5.0",
            "_model_name": "DescriptionStyleModel",
            "_view_count": null,
            "_view_module": "@jupyter-widgets/base",
            "_view_module_version": "1.2.0",
            "_view_name": "StyleView",
            "description_width": ""
          }
        },
        "cc980a6b17484b4b8970a79b7d62e467": {
          "model_module": "@jupyter-widgets/controls",
          "model_name": "HBoxModel",
          "model_module_version": "1.5.0",
          "state": {
            "_dom_classes": [],
            "_model_module": "@jupyter-widgets/controls",
            "_model_module_version": "1.5.0",
            "_model_name": "HBoxModel",
            "_view_count": null,
            "_view_module": "@jupyter-widgets/controls",
            "_view_module_version": "1.5.0",
            "_view_name": "HBoxView",
            "box_style": "",
            "children": [
              "IPY_MODEL_4e636e0be67d42b1969f08549be0c669",
              "IPY_MODEL_0acf199117e64be5b1c9f5e4c0b35408",
              "IPY_MODEL_3d1505768d2647028eb1e27b9e1204bf"
            ],
            "layout": "IPY_MODEL_5d0ba503b0bc4b168efbb252774ace36"
          }
        },
        "4e636e0be67d42b1969f08549be0c669": {
          "model_module": "@jupyter-widgets/controls",
          "model_name": "HTMLModel",
          "model_module_version": "1.5.0",
          "state": {
            "_dom_classes": [],
            "_model_module": "@jupyter-widgets/controls",
            "_model_module_version": "1.5.0",
            "_model_name": "HTMLModel",
            "_view_count": null,
            "_view_module": "@jupyter-widgets/controls",
            "_view_module_version": "1.5.0",
            "_view_name": "HTMLView",
            "description": "",
            "description_tooltip": null,
            "layout": "IPY_MODEL_f4680952c5b84d8f8ab233f7caae012a",
            "placeholder": "​",
            "style": "IPY_MODEL_c0a171df34eb4ea2a243154a5b6d7b90",
            "value": "tokenizer_config.json: 100%"
          }
        },
        "0acf199117e64be5b1c9f5e4c0b35408": {
          "model_module": "@jupyter-widgets/controls",
          "model_name": "FloatProgressModel",
          "model_module_version": "1.5.0",
          "state": {
            "_dom_classes": [],
            "_model_module": "@jupyter-widgets/controls",
            "_model_module_version": "1.5.0",
            "_model_name": "FloatProgressModel",
            "_view_count": null,
            "_view_module": "@jupyter-widgets/controls",
            "_view_module_version": "1.5.0",
            "_view_name": "ProgressView",
            "bar_style": "success",
            "description": "",
            "description_tooltip": null,
            "layout": "IPY_MODEL_e8a6885adb4b42f28c57e9ee677fcd4e",
            "max": 48,
            "min": 0,
            "orientation": "horizontal",
            "style": "IPY_MODEL_df6e26c5da3a484ea109eb6b3078f9e8",
            "value": 48
          }
        },
        "3d1505768d2647028eb1e27b9e1204bf": {
          "model_module": "@jupyter-widgets/controls",
          "model_name": "HTMLModel",
          "model_module_version": "1.5.0",
          "state": {
            "_dom_classes": [],
            "_model_module": "@jupyter-widgets/controls",
            "_model_module_version": "1.5.0",
            "_model_name": "HTMLModel",
            "_view_count": null,
            "_view_module": "@jupyter-widgets/controls",
            "_view_module_version": "1.5.0",
            "_view_name": "HTMLView",
            "description": "",
            "description_tooltip": null,
            "layout": "IPY_MODEL_55e4d1a7ceda4526b3022c916441d89c",
            "placeholder": "​",
            "style": "IPY_MODEL_3146b6474a774beb9bc3952ddd968f71",
            "value": " 48.0/48.0 [00:00&lt;00:00, 2.83kB/s]"
          }
        },
        "5d0ba503b0bc4b168efbb252774ace36": {
          "model_module": "@jupyter-widgets/base",
          "model_name": "LayoutModel",
          "model_module_version": "1.2.0",
          "state": {
            "_model_module": "@jupyter-widgets/base",
            "_model_module_version": "1.2.0",
            "_model_name": "LayoutModel",
            "_view_count": null,
            "_view_module": "@jupyter-widgets/base",
            "_view_module_version": "1.2.0",
            "_view_name": "LayoutView",
            "align_content": null,
            "align_items": null,
            "align_self": null,
            "border": null,
            "bottom": null,
            "display": null,
            "flex": null,
            "flex_flow": null,
            "grid_area": null,
            "grid_auto_columns": null,
            "grid_auto_flow": null,
            "grid_auto_rows": null,
            "grid_column": null,
            "grid_gap": null,
            "grid_row": null,
            "grid_template_areas": null,
            "grid_template_columns": null,
            "grid_template_rows": null,
            "height": null,
            "justify_content": null,
            "justify_items": null,
            "left": null,
            "margin": null,
            "max_height": null,
            "max_width": null,
            "min_height": null,
            "min_width": null,
            "object_fit": null,
            "object_position": null,
            "order": null,
            "overflow": null,
            "overflow_x": null,
            "overflow_y": null,
            "padding": null,
            "right": null,
            "top": null,
            "visibility": null,
            "width": null
          }
        },
        "f4680952c5b84d8f8ab233f7caae012a": {
          "model_module": "@jupyter-widgets/base",
          "model_name": "LayoutModel",
          "model_module_version": "1.2.0",
          "state": {
            "_model_module": "@jupyter-widgets/base",
            "_model_module_version": "1.2.0",
            "_model_name": "LayoutModel",
            "_view_count": null,
            "_view_module": "@jupyter-widgets/base",
            "_view_module_version": "1.2.0",
            "_view_name": "LayoutView",
            "align_content": null,
            "align_items": null,
            "align_self": null,
            "border": null,
            "bottom": null,
            "display": null,
            "flex": null,
            "flex_flow": null,
            "grid_area": null,
            "grid_auto_columns": null,
            "grid_auto_flow": null,
            "grid_auto_rows": null,
            "grid_column": null,
            "grid_gap": null,
            "grid_row": null,
            "grid_template_areas": null,
            "grid_template_columns": null,
            "grid_template_rows": null,
            "height": null,
            "justify_content": null,
            "justify_items": null,
            "left": null,
            "margin": null,
            "max_height": null,
            "max_width": null,
            "min_height": null,
            "min_width": null,
            "object_fit": null,
            "object_position": null,
            "order": null,
            "overflow": null,
            "overflow_x": null,
            "overflow_y": null,
            "padding": null,
            "right": null,
            "top": null,
            "visibility": null,
            "width": null
          }
        },
        "c0a171df34eb4ea2a243154a5b6d7b90": {
          "model_module": "@jupyter-widgets/controls",
          "model_name": "DescriptionStyleModel",
          "model_module_version": "1.5.0",
          "state": {
            "_model_module": "@jupyter-widgets/controls",
            "_model_module_version": "1.5.0",
            "_model_name": "DescriptionStyleModel",
            "_view_count": null,
            "_view_module": "@jupyter-widgets/base",
            "_view_module_version": "1.2.0",
            "_view_name": "StyleView",
            "description_width": ""
          }
        },
        "e8a6885adb4b42f28c57e9ee677fcd4e": {
          "model_module": "@jupyter-widgets/base",
          "model_name": "LayoutModel",
          "model_module_version": "1.2.0",
          "state": {
            "_model_module": "@jupyter-widgets/base",
            "_model_module_version": "1.2.0",
            "_model_name": "LayoutModel",
            "_view_count": null,
            "_view_module": "@jupyter-widgets/base",
            "_view_module_version": "1.2.0",
            "_view_name": "LayoutView",
            "align_content": null,
            "align_items": null,
            "align_self": null,
            "border": null,
            "bottom": null,
            "display": null,
            "flex": null,
            "flex_flow": null,
            "grid_area": null,
            "grid_auto_columns": null,
            "grid_auto_flow": null,
            "grid_auto_rows": null,
            "grid_column": null,
            "grid_gap": null,
            "grid_row": null,
            "grid_template_areas": null,
            "grid_template_columns": null,
            "grid_template_rows": null,
            "height": null,
            "justify_content": null,
            "justify_items": null,
            "left": null,
            "margin": null,
            "max_height": null,
            "max_width": null,
            "min_height": null,
            "min_width": null,
            "object_fit": null,
            "object_position": null,
            "order": null,
            "overflow": null,
            "overflow_x": null,
            "overflow_y": null,
            "padding": null,
            "right": null,
            "top": null,
            "visibility": null,
            "width": null
          }
        },
        "df6e26c5da3a484ea109eb6b3078f9e8": {
          "model_module": "@jupyter-widgets/controls",
          "model_name": "ProgressStyleModel",
          "model_module_version": "1.5.0",
          "state": {
            "_model_module": "@jupyter-widgets/controls",
            "_model_module_version": "1.5.0",
            "_model_name": "ProgressStyleModel",
            "_view_count": null,
            "_view_module": "@jupyter-widgets/base",
            "_view_module_version": "1.2.0",
            "_view_name": "StyleView",
            "bar_color": null,
            "description_width": ""
          }
        },
        "55e4d1a7ceda4526b3022c916441d89c": {
          "model_module": "@jupyter-widgets/base",
          "model_name": "LayoutModel",
          "model_module_version": "1.2.0",
          "state": {
            "_model_module": "@jupyter-widgets/base",
            "_model_module_version": "1.2.0",
            "_model_name": "LayoutModel",
            "_view_count": null,
            "_view_module": "@jupyter-widgets/base",
            "_view_module_version": "1.2.0",
            "_view_name": "LayoutView",
            "align_content": null,
            "align_items": null,
            "align_self": null,
            "border": null,
            "bottom": null,
            "display": null,
            "flex": null,
            "flex_flow": null,
            "grid_area": null,
            "grid_auto_columns": null,
            "grid_auto_flow": null,
            "grid_auto_rows": null,
            "grid_column": null,
            "grid_gap": null,
            "grid_row": null,
            "grid_template_areas": null,
            "grid_template_columns": null,
            "grid_template_rows": null,
            "height": null,
            "justify_content": null,
            "justify_items": null,
            "left": null,
            "margin": null,
            "max_height": null,
            "max_width": null,
            "min_height": null,
            "min_width": null,
            "object_fit": null,
            "object_position": null,
            "order": null,
            "overflow": null,
            "overflow_x": null,
            "overflow_y": null,
            "padding": null,
            "right": null,
            "top": null,
            "visibility": null,
            "width": null
          }
        },
        "3146b6474a774beb9bc3952ddd968f71": {
          "model_module": "@jupyter-widgets/controls",
          "model_name": "DescriptionStyleModel",
          "model_module_version": "1.5.0",
          "state": {
            "_model_module": "@jupyter-widgets/controls",
            "_model_module_version": "1.5.0",
            "_model_name": "DescriptionStyleModel",
            "_view_count": null,
            "_view_module": "@jupyter-widgets/base",
            "_view_module_version": "1.2.0",
            "_view_name": "StyleView",
            "description_width": ""
          }
        },
        "775f2a963f0f4f9687e3eec1495e4103": {
          "model_module": "@jupyter-widgets/controls",
          "model_name": "HBoxModel",
          "model_module_version": "1.5.0",
          "state": {
            "_dom_classes": [],
            "_model_module": "@jupyter-widgets/controls",
            "_model_module_version": "1.5.0",
            "_model_name": "HBoxModel",
            "_view_count": null,
            "_view_module": "@jupyter-widgets/controls",
            "_view_module_version": "1.5.0",
            "_view_name": "HBoxView",
            "box_style": "",
            "children": [
              "IPY_MODEL_ac70b3c74a114a539b4bdc6ebcb29a13",
              "IPY_MODEL_e122de7f1ed74404b595b33aff39ec0e",
              "IPY_MODEL_1f4d1237ffa64ada801d0699c8a6f773"
            ],
            "layout": "IPY_MODEL_a689bf1a1987405199a66cf999d9b082"
          }
        },
        "ac70b3c74a114a539b4bdc6ebcb29a13": {
          "model_module": "@jupyter-widgets/controls",
          "model_name": "HTMLModel",
          "model_module_version": "1.5.0",
          "state": {
            "_dom_classes": [],
            "_model_module": "@jupyter-widgets/controls",
            "_model_module_version": "1.5.0",
            "_model_name": "HTMLModel",
            "_view_count": null,
            "_view_module": "@jupyter-widgets/controls",
            "_view_module_version": "1.5.0",
            "_view_name": "HTMLView",
            "description": "",
            "description_tooltip": null,
            "layout": "IPY_MODEL_2181f636fd6b4a4b817b267a9224d995",
            "placeholder": "​",
            "style": "IPY_MODEL_b85d3996b14d4a63af4f1218bdf306fc",
            "value": "vocab.txt: 100%"
          }
        },
        "e122de7f1ed74404b595b33aff39ec0e": {
          "model_module": "@jupyter-widgets/controls",
          "model_name": "FloatProgressModel",
          "model_module_version": "1.5.0",
          "state": {
            "_dom_classes": [],
            "_model_module": "@jupyter-widgets/controls",
            "_model_module_version": "1.5.0",
            "_model_name": "FloatProgressModel",
            "_view_count": null,
            "_view_module": "@jupyter-widgets/controls",
            "_view_module_version": "1.5.0",
            "_view_name": "ProgressView",
            "bar_style": "success",
            "description": "",
            "description_tooltip": null,
            "layout": "IPY_MODEL_94a1c8720072493fa4ccab5fca92e3ea",
            "max": 231508,
            "min": 0,
            "orientation": "horizontal",
            "style": "IPY_MODEL_05c493ecbb074a7aa8a43089fcfc8089",
            "value": 231508
          }
        },
        "1f4d1237ffa64ada801d0699c8a6f773": {
          "model_module": "@jupyter-widgets/controls",
          "model_name": "HTMLModel",
          "model_module_version": "1.5.0",
          "state": {
            "_dom_classes": [],
            "_model_module": "@jupyter-widgets/controls",
            "_model_module_version": "1.5.0",
            "_model_name": "HTMLModel",
            "_view_count": null,
            "_view_module": "@jupyter-widgets/controls",
            "_view_module_version": "1.5.0",
            "_view_name": "HTMLView",
            "description": "",
            "description_tooltip": null,
            "layout": "IPY_MODEL_72f999430c6a42e4b895f7d3a486f82c",
            "placeholder": "​",
            "style": "IPY_MODEL_54bd7129978746b1ae80f0749f9a9155",
            "value": " 232k/232k [00:00&lt;00:00, 3.43MB/s]"
          }
        },
        "a689bf1a1987405199a66cf999d9b082": {
          "model_module": "@jupyter-widgets/base",
          "model_name": "LayoutModel",
          "model_module_version": "1.2.0",
          "state": {
            "_model_module": "@jupyter-widgets/base",
            "_model_module_version": "1.2.0",
            "_model_name": "LayoutModel",
            "_view_count": null,
            "_view_module": "@jupyter-widgets/base",
            "_view_module_version": "1.2.0",
            "_view_name": "LayoutView",
            "align_content": null,
            "align_items": null,
            "align_self": null,
            "border": null,
            "bottom": null,
            "display": null,
            "flex": null,
            "flex_flow": null,
            "grid_area": null,
            "grid_auto_columns": null,
            "grid_auto_flow": null,
            "grid_auto_rows": null,
            "grid_column": null,
            "grid_gap": null,
            "grid_row": null,
            "grid_template_areas": null,
            "grid_template_columns": null,
            "grid_template_rows": null,
            "height": null,
            "justify_content": null,
            "justify_items": null,
            "left": null,
            "margin": null,
            "max_height": null,
            "max_width": null,
            "min_height": null,
            "min_width": null,
            "object_fit": null,
            "object_position": null,
            "order": null,
            "overflow": null,
            "overflow_x": null,
            "overflow_y": null,
            "padding": null,
            "right": null,
            "top": null,
            "visibility": null,
            "width": null
          }
        },
        "2181f636fd6b4a4b817b267a9224d995": {
          "model_module": "@jupyter-widgets/base",
          "model_name": "LayoutModel",
          "model_module_version": "1.2.0",
          "state": {
            "_model_module": "@jupyter-widgets/base",
            "_model_module_version": "1.2.0",
            "_model_name": "LayoutModel",
            "_view_count": null,
            "_view_module": "@jupyter-widgets/base",
            "_view_module_version": "1.2.0",
            "_view_name": "LayoutView",
            "align_content": null,
            "align_items": null,
            "align_self": null,
            "border": null,
            "bottom": null,
            "display": null,
            "flex": null,
            "flex_flow": null,
            "grid_area": null,
            "grid_auto_columns": null,
            "grid_auto_flow": null,
            "grid_auto_rows": null,
            "grid_column": null,
            "grid_gap": null,
            "grid_row": null,
            "grid_template_areas": null,
            "grid_template_columns": null,
            "grid_template_rows": null,
            "height": null,
            "justify_content": null,
            "justify_items": null,
            "left": null,
            "margin": null,
            "max_height": null,
            "max_width": null,
            "min_height": null,
            "min_width": null,
            "object_fit": null,
            "object_position": null,
            "order": null,
            "overflow": null,
            "overflow_x": null,
            "overflow_y": null,
            "padding": null,
            "right": null,
            "top": null,
            "visibility": null,
            "width": null
          }
        },
        "b85d3996b14d4a63af4f1218bdf306fc": {
          "model_module": "@jupyter-widgets/controls",
          "model_name": "DescriptionStyleModel",
          "model_module_version": "1.5.0",
          "state": {
            "_model_module": "@jupyter-widgets/controls",
            "_model_module_version": "1.5.0",
            "_model_name": "DescriptionStyleModel",
            "_view_count": null,
            "_view_module": "@jupyter-widgets/base",
            "_view_module_version": "1.2.0",
            "_view_name": "StyleView",
            "description_width": ""
          }
        },
        "94a1c8720072493fa4ccab5fca92e3ea": {
          "model_module": "@jupyter-widgets/base",
          "model_name": "LayoutModel",
          "model_module_version": "1.2.0",
          "state": {
            "_model_module": "@jupyter-widgets/base",
            "_model_module_version": "1.2.0",
            "_model_name": "LayoutModel",
            "_view_count": null,
            "_view_module": "@jupyter-widgets/base",
            "_view_module_version": "1.2.0",
            "_view_name": "LayoutView",
            "align_content": null,
            "align_items": null,
            "align_self": null,
            "border": null,
            "bottom": null,
            "display": null,
            "flex": null,
            "flex_flow": null,
            "grid_area": null,
            "grid_auto_columns": null,
            "grid_auto_flow": null,
            "grid_auto_rows": null,
            "grid_column": null,
            "grid_gap": null,
            "grid_row": null,
            "grid_template_areas": null,
            "grid_template_columns": null,
            "grid_template_rows": null,
            "height": null,
            "justify_content": null,
            "justify_items": null,
            "left": null,
            "margin": null,
            "max_height": null,
            "max_width": null,
            "min_height": null,
            "min_width": null,
            "object_fit": null,
            "object_position": null,
            "order": null,
            "overflow": null,
            "overflow_x": null,
            "overflow_y": null,
            "padding": null,
            "right": null,
            "top": null,
            "visibility": null,
            "width": null
          }
        },
        "05c493ecbb074a7aa8a43089fcfc8089": {
          "model_module": "@jupyter-widgets/controls",
          "model_name": "ProgressStyleModel",
          "model_module_version": "1.5.0",
          "state": {
            "_model_module": "@jupyter-widgets/controls",
            "_model_module_version": "1.5.0",
            "_model_name": "ProgressStyleModel",
            "_view_count": null,
            "_view_module": "@jupyter-widgets/base",
            "_view_module_version": "1.2.0",
            "_view_name": "StyleView",
            "bar_color": null,
            "description_width": ""
          }
        },
        "72f999430c6a42e4b895f7d3a486f82c": {
          "model_module": "@jupyter-widgets/base",
          "model_name": "LayoutModel",
          "model_module_version": "1.2.0",
          "state": {
            "_model_module": "@jupyter-widgets/base",
            "_model_module_version": "1.2.0",
            "_model_name": "LayoutModel",
            "_view_count": null,
            "_view_module": "@jupyter-widgets/base",
            "_view_module_version": "1.2.0",
            "_view_name": "LayoutView",
            "align_content": null,
            "align_items": null,
            "align_self": null,
            "border": null,
            "bottom": null,
            "display": null,
            "flex": null,
            "flex_flow": null,
            "grid_area": null,
            "grid_auto_columns": null,
            "grid_auto_flow": null,
            "grid_auto_rows": null,
            "grid_column": null,
            "grid_gap": null,
            "grid_row": null,
            "grid_template_areas": null,
            "grid_template_columns": null,
            "grid_template_rows": null,
            "height": null,
            "justify_content": null,
            "justify_items": null,
            "left": null,
            "margin": null,
            "max_height": null,
            "max_width": null,
            "min_height": null,
            "min_width": null,
            "object_fit": null,
            "object_position": null,
            "order": null,
            "overflow": null,
            "overflow_x": null,
            "overflow_y": null,
            "padding": null,
            "right": null,
            "top": null,
            "visibility": null,
            "width": null
          }
        },
        "54bd7129978746b1ae80f0749f9a9155": {
          "model_module": "@jupyter-widgets/controls",
          "model_name": "DescriptionStyleModel",
          "model_module_version": "1.5.0",
          "state": {
            "_model_module": "@jupyter-widgets/controls",
            "_model_module_version": "1.5.0",
            "_model_name": "DescriptionStyleModel",
            "_view_count": null,
            "_view_module": "@jupyter-widgets/base",
            "_view_module_version": "1.2.0",
            "_view_name": "StyleView",
            "description_width": ""
          }
        }
      }
    }
  },
  "cells": [
    {
      "cell_type": "markdown",
      "source": [
        "# L'analyse du roman The Hound of the Baskervilles"
      ],
      "metadata": {
        "id": "TAul6-uf2-kY"
      }
    },
    {
      "cell_type": "markdown",
      "source": [
        "## Telechargement/Nettoyage l'en-tête et le pied de texte"
      ],
      "metadata": {
        "id": "8KxLU1uW3S7Y"
      }
    },
    {
      "cell_type": "code",
      "source": [
        "import requests\n",
        "\n",
        "# URL du livre \"The Hound of the Baskervilles\" sur Project Gutenberg\n",
        "url = 'https://www.gutenberg.org/cache/epub/2852/pg2852.txt'\n",
        "\n",
        "# Télécharger le contenu du fichier\n",
        "response = requests.get(url)\n",
        "\n",
        "# Lire le texte du livre\n",
        "text = response.text\n",
        "\n",
        "# Afficher les 1000 premiers caractères\n",
        "print(text[:1000])\n"
      ],
      "metadata": {
        "colab": {
          "base_uri": "https://localhost:8080/"
        },
        "id": "Nf95MHq-imCK",
        "outputId": "fb539e71-041c-47b4-a341-4b516841573c"
      },
      "execution_count": null,
      "outputs": [
        {
          "output_type": "stream",
          "name": "stdout",
          "text": [
            "﻿The Project Gutenberg eBook of The Hound of the Baskervilles\r\n",
            "    \r\n",
            "This ebook is for the use of anyone anywhere in the United States and\r\n",
            "most other parts of the world at no cost and with almost no restrictions\r\n",
            "whatsoever. You may copy it, give it away or re-use it under the terms\r\n",
            "of the Project Gutenberg License included with this ebook or online\r\n",
            "at www.gutenberg.org. If you are not located in the United States,\r\n",
            "you will have to check the laws of the country where you are located\r\n",
            "before using this eBook.\r\n",
            "\r\n",
            "Title: The Hound of the Baskervilles\r\n",
            "\r\n",
            "Author: Arthur Conan Doyle\r\n",
            "\r\n",
            "Release date: October 1, 2001 [eBook #2852]\r\n",
            "                Most recently updated: June 27, 2021\r\n",
            "\r\n",
            "Language: English\r\n",
            "\r\n",
            "Credits: Shreevatsa R, and David Widger\r\n",
            "\r\n",
            "\r\n",
            "*** START OF THE PROJECT GUTENBERG EBOOK THE HOUND OF THE BASKERVILLES ***\r\n",
            "\r\n",
            "cover \r\n",
            "\r\n",
            "\r\n",
            "\r\n",
            "THE HOUND OF THE BASKERVILLES\r\n",
            "\r\n",
            "Another Adventure of Sherlock Holmes\r\n",
            "\r\n",
            "\r\n",
            "by A. Conan Doyle\r\n",
            "\r\n",
            "\r\n",
            "\r\n",
            "\r\n",
            "My dear Robinson,\r\n",
            "\r\n",
            "\r\n",
            "    It was to your accoun\n"
          ]
        }
      ]
    },
    {
      "cell_type": "code",
      "source": [
        "def clean_gutenberg_text(text):\n",
        "    lines = text.split(\"\\n\")  # Diviser le texte en lignes\n",
        "\n",
        "    # Trouver les indices des lignes marquant le début et la fin du texte\n",
        "    start_idx = 0\n",
        "    end_idx = len(lines)\n",
        "\n",
        "    for i, line in enumerate(lines):\n",
        "        if \"START OF THE PROJECT GUTENBERG EBOOK THE HOUND OF THE BASKERVILLES\" in line:\n",
        "            start_idx = i + 1  # Commencer après cette ligne\n",
        "        elif \"END OF THE PROJECT GUTENBERG EBOOK THE HOUND OF THE BASKERVILLES\" in line:\n",
        "            end_idx = i\n",
        "            break  # Arrêter dès qu'on trouve la fin\n",
        "\n",
        "    # Extraire uniquement le texte du livre\n",
        "    cleaned_text = \"\\n\".join(lines[start_idx:end_idx]).strip()\n",
        "    return cleaned_text\n",
        "\n",
        "# Nettoyer le texte\n",
        "cleaned_text = clean_gutenberg_text(text)\n",
        "\n",
        "# Afficher un extrait nettoyé\n",
        "print(cleaned_text[:1000])"
      ],
      "metadata": {
        "colab": {
          "base_uri": "https://localhost:8080/"
        },
        "id": "tDNcisG6mVjX",
        "outputId": "d93fa4e1-87d3-49f4-d9ac-c925c2255c82"
      },
      "execution_count": null,
      "outputs": [
        {
          "output_type": "stream",
          "name": "stdout",
          "text": [
            "cover \r\n",
            "\r\n",
            "\r\n",
            "\r\n",
            "THE HOUND OF THE BASKERVILLES\r\n",
            "\r\n",
            "Another Adventure of Sherlock Holmes\r\n",
            "\r\n",
            "\r\n",
            "by A. Conan Doyle\r\n",
            "\r\n",
            "\r\n",
            "\r\n",
            "\r\n",
            "My dear Robinson,\r\n",
            "\r\n",
            "\r\n",
            "    It was to your account of a West-Country legend that this tale owes its\r\n",
            "inception. For this and for your help in the details all thanks.\r\n",
            "\r\n",
            "\r\n",
            "\r\n",
            "Yours most truly,        \r\n",
            "\r\n",
            "A. Conan Doyle.    \r\n",
            "\r\n",
            "\r\n",
            "\r\n",
            "Hindhead,\r\n",
            "\r\n",
            "    Haslemere.\r\n",
            "\r\n",
            "\r\n",
            "\r\n",
            "Contents\r\n",
            "\r\n",
            "\r\n",
            " Chapter 1  Mr. Sherlock Holmes\r\n",
            " Chapter 2  The Curse of the Baskervilles\r\n",
            " Chapter 3  The Problem\r\n",
            " Chapter 4  Sir Henry Baskerville\r\n",
            " Chapter 5  Three Broken Threads\r\n",
            " Chapter 6  Baskerville Hall\r\n",
            " Chapter 7  The Stapletons of Merripit House\r\n",
            " Chapter 8  First Report of Dr. Watson\r\n",
            " Chapter 9  The Light upon the Moor [Second Report of Dr. Watson]\r\n",
            " Chapter 10 Extract from the Diary of Dr. Watson\r\n",
            " Chapter 11 The Man on the Tor\r\n",
            " Chapter 12 Death on the Moor\r\n",
            " Chapter 13 Fixing the Nets\r\n",
            " Chapter 14 The Hound of the Baskervilles\r\n",
            " Chapter 15 A Retrospection\r\n",
            "\r\n",
            "\r\n",
            "\r\n",
            "\r\n",
            "Chapter 1.\r\n",
            "Mr. Sherlock Holmes\r\n"
          ]
        }
      ]
    },
    {
      "cell_type": "code",
      "source": [
        "print(cleaned_text[-1000:]) # afficher les 1000 dernieres"
      ],
      "metadata": {
        "colab": {
          "base_uri": "https://localhost:8080/"
        },
        "id": "RDRAd78BnABs",
        "outputId": "fada288c-445b-4a3b-f1f5-ce3e6b3c0263"
      },
      "execution_count": null,
      "outputs": [
        {
          "output_type": "stream",
          "name": "stdout",
          "text": [
            "al occasions. There were\r\n",
            "      three possible courses. He might claim the property from South\r\n",
            "      America, establish his identity before the British authorities\r\n",
            "      there and so obtain the fortune without ever coming to England at\r\n",
            "      all, or he might adopt an elaborate disguise during the short\r\n",
            "      time that he need be in London; or, again, he might furnish an\r\n",
            "      accomplice with the proofs and papers, putting him in as heir,\r\n",
            "      and retaining a claim upon some proportion of his income. We\r\n",
            "      cannot doubt from what we know of him that he would have found\r\n",
            "      some way out of the difficulty. And now, my dear Watson, we have\r\n",
            "      had some weeks of severe work, and for one evening, I think, we\r\n",
            "      may turn our thoughts into more pleasant channels. I have a box\r\n",
            "      for _Les Huguenots_. Have you heard the De Reszkes? Might I\r\n",
            "      trouble you then to be ready in half an hour, and we can stop at\r\n",
            "      Marcini’s for a little dinner on the way?”\r\n",
            "\r\n",
            "\r\n",
            "THE END\n"
          ]
        }
      ]
    },
    {
      "cell_type": "code",
      "source": [
        "print(cleaned_text[:3000])"
      ],
      "metadata": {
        "colab": {
          "base_uri": "https://localhost:8080/"
        },
        "id": "AyI86n7mrYwc",
        "outputId": "a37107e1-9982-4517-fd72-3b31ba013819"
      },
      "execution_count": null,
      "outputs": [
        {
          "output_type": "stream",
          "name": "stdout",
          "text": [
            "cover \r\n",
            "\r\n",
            "\r\n",
            "\r\n",
            "THE HOUND OF THE BASKERVILLES\r\n",
            "\r\n",
            "Another Adventure of Sherlock Holmes\r\n",
            "\r\n",
            "\r\n",
            "by A. Conan Doyle\r\n",
            "\r\n",
            "\r\n",
            "\r\n",
            "\r\n",
            "My dear Robinson,\r\n",
            "\r\n",
            "\r\n",
            "    It was to your account of a West-Country legend that this tale owes its\r\n",
            "inception. For this and for your help in the details all thanks.\r\n",
            "\r\n",
            "\r\n",
            "\r\n",
            "Yours most truly,        \r\n",
            "\r\n",
            "A. Conan Doyle.    \r\n",
            "\r\n",
            "\r\n",
            "\r\n",
            "Hindhead,\r\n",
            "\r\n",
            "    Haslemere.\r\n",
            "\r\n",
            "\r\n",
            "\r\n",
            "Contents\r\n",
            "\r\n",
            "\r\n",
            " Chapter 1  Mr. Sherlock Holmes\r\n",
            " Chapter 2  The Curse of the Baskervilles\r\n",
            " Chapter 3  The Problem\r\n",
            " Chapter 4  Sir Henry Baskerville\r\n",
            " Chapter 5  Three Broken Threads\r\n",
            " Chapter 6  Baskerville Hall\r\n",
            " Chapter 7  The Stapletons of Merripit House\r\n",
            " Chapter 8  First Report of Dr. Watson\r\n",
            " Chapter 9  The Light upon the Moor [Second Report of Dr. Watson]\r\n",
            " Chapter 10 Extract from the Diary of Dr. Watson\r\n",
            " Chapter 11 The Man on the Tor\r\n",
            " Chapter 12 Death on the Moor\r\n",
            " Chapter 13 Fixing the Nets\r\n",
            " Chapter 14 The Hound of the Baskervilles\r\n",
            " Chapter 15 A Retrospection\r\n",
            "\r\n",
            "\r\n",
            "\r\n",
            "\r\n",
            "Chapter 1.\r\n",
            "Mr. Sherlock Holmes\r\n",
            "\r\n",
            "\r\n",
            "      Mr. Sherlock Holmes, who was usually very late in the mornings,\r\n",
            "      save upon those not infrequent occasions when he was up all\r\n",
            "      night, was seated at the breakfast table. I stood upon the\r\n",
            "      hearth-rug and picked up the stick which our visitor had left\r\n",
            "      behind him the night before. It was a fine, thick piece of wood,\r\n",
            "      bulbous-headed, of the sort which is known as a “Penang lawyer.”\r\n",
            "      Just under the head was a broad silver band nearly an inch\r\n",
            "      across. “To James Mortimer, M.R.C.S., from his friends of the\r\n",
            "      C.C.H.,” was engraved upon it, with the date “1884.” It was just\r\n",
            "      such a stick as the old-fashioned family practitioner used to\r\n",
            "      carry—dignified, solid, and reassuring.\r\n",
            "\r\n",
            "      “Well, Watson, what do you make of it?”\r\n",
            "\r\n",
            "      Holmes was sitting with his back to me, and I had given him no\r\n",
            "      sign of my occupation.\r\n",
            "\r\n",
            "      “How did you know what I was doing? I believe you have eyes in\r\n",
            "      the back of your head.”\r\n",
            "\r\n",
            "      “I have, at least, a well-polished, silver-plated coffee-pot in\r\n",
            "      front of me,” said he. “But, tell me, Watson, what do you make of\r\n",
            "      our visitor’s stick? Since we have been so unfortunate as to miss\r\n",
            "      him and have no notion of his errand, this accidental souvenir\r\n",
            "      becomes of importance. Let me hear you reconstruct the man by an\r\n",
            "      examination of it.”\r\n",
            "\r\n",
            "      “I think,” said I, following as far as I could the methods of my\r\n",
            "      companion, “that Dr. Mortimer is a successful, elderly medical\r\n",
            "      man, well-esteemed since those who know him give him this mark of\r\n",
            "      their appreciation.”\r\n",
            "\r\n",
            "      “Good!” said Holmes. “Excellent!”\r\n",
            "\r\n",
            "      “I think also that the probability is in favour of his being a\r\n",
            "      country practitioner who does a great deal of his visiting on\r\n",
            "      foot.”\r\n",
            "\r\n",
            "      “Why so?”\r\n",
            "\r\n",
            "      “Because this stick, though originally a very handsome one has\r\n",
            "      been so knocked about that I can hardly imagine a town\r\n",
            "      practitione\n"
          ]
        }
      ]
    },
    {
      "cell_type": "code",
      "source": [
        "import nltk\n",
        "from nltk.tokenize import word_tokenize, sent_tokenize\n",
        "\n",
        "nltk.download('punkt_tab')\n"
      ],
      "metadata": {
        "colab": {
          "base_uri": "https://localhost:8080/"
        },
        "id": "8wyY-HnvuF9x",
        "outputId": "bce2dfa0-6598-4fb6-cf37-4e90e732eccb"
      },
      "execution_count": null,
      "outputs": [
        {
          "output_type": "stream",
          "name": "stderr",
          "text": [
            "[nltk_data] Downloading package punkt_tab to /root/nltk_data...\n",
            "[nltk_data]   Package punkt_tab is already up-to-date!\n"
          ]
        },
        {
          "output_type": "execute_result",
          "data": {
            "text/plain": [
              "True"
            ]
          },
          "metadata": {},
          "execution_count": 5
        }
      ]
    },
    {
      "cell_type": "code",
      "source": [
        "# Tokenisation en mots\n",
        "words = word_tokenize(cleaned_text.lower())\n",
        "print(words[:50])"
      ],
      "metadata": {
        "colab": {
          "base_uri": "https://localhost:8080/"
        },
        "id": "XWerC119uMMp",
        "outputId": "80d8792a-f337-4d5e-977a-ad7dcab10b49"
      },
      "execution_count": null,
      "outputs": [
        {
          "output_type": "stream",
          "name": "stdout",
          "text": [
            "['cover', 'the', 'hound', 'of', 'the', 'baskervilles', 'another', 'adventure', 'of', 'sherlock', 'holmes', 'by', 'a.', 'conan', 'doyle', 'my', 'dear', 'robinson', ',', 'it', 'was', 'to', 'your', 'account', 'of', 'a', 'west-country', 'legend', 'that', 'this', 'tale', 'owes', 'its', 'inception', '.', 'for', 'this', 'and', 'for', 'your', 'help', 'in', 'the', 'details', 'all', 'thanks', '.', 'yours', 'most', 'truly']\n"
          ]
        }
      ]
    },
    {
      "cell_type": "code",
      "source": [
        "# Tokenisation en phrases\n",
        "sentences = sent_tokenize(cleaned_text)\n",
        "print(sentences[:3])\n"
      ],
      "metadata": {
        "colab": {
          "base_uri": "https://localhost:8080/"
        },
        "id": "aefjEkJwub0D",
        "outputId": "cd0338a1-13be-4f4d-87b5-180dfdeb2e3c"
      },
      "execution_count": null,
      "outputs": [
        {
          "output_type": "stream",
          "name": "stdout",
          "text": [
            "['cover \\r\\n\\r\\n\\r\\n\\r\\nTHE HOUND OF THE BASKERVILLES\\r\\n\\r\\nAnother Adventure of Sherlock Holmes\\r\\n\\r\\n\\r\\nby A. Conan Doyle\\r\\n\\r\\n\\r\\n\\r\\n\\r\\nMy dear Robinson,\\r\\n\\r\\n\\r\\n    It was to your account of a West-Country legend that this tale owes its\\r\\ninception.', 'For this and for your help in the details all thanks.', 'Yours most truly,        \\r\\n\\r\\nA. Conan Doyle.']\n"
          ]
        }
      ]
    },
    {
      "cell_type": "markdown",
      "source": [
        "## Les analyses de base\n"
      ],
      "metadata": {
        "id": "mXwlmxmzo0vl"
      }
    },
    {
      "cell_type": "code",
      "source": [
        "import nltk\n",
        "from nltk.corpus import gutenberg\n",
        "from nltk.probability import FreqDist\n",
        "import matplotlib.pyplot as plt"
      ],
      "metadata": {
        "id": "HRCYR5shnLFu"
      },
      "execution_count": null,
      "outputs": []
    },
    {
      "cell_type": "code",
      "source": [
        "cleaned_text1 = nltk.Text(words)\n",
        "cleaned_text1.concordance(\"hound\") #Affiche les occurences de mots"
      ],
      "metadata": {
        "colab": {
          "base_uri": "https://localhost:8080/"
        },
        "id": "Sv99eGCdp2W8",
        "outputId": "ab721fdb-4c2d-40e4-d1f3-f6f9ef96894c"
      },
      "execution_count": null,
      "outputs": [
        {
          "output_type": "stream",
          "name": "stdout",
          "text": [
            "Displaying 25 of 67 matches:\n",
            "                           cover the hound of the baskervilles another adventur\n",
            "er 13 fixing the nets chapter 14 the hound of the baskervilles chapter 15 a ret\n",
            "d narrative : “ of the origin of the hound of the baskervilles there have been \n",
            "and there ran mute behind him such a hound of hell as god forbid should ever be\n",
            " great , black beast , shaped like a hound , yet larger than any hound that eve\n",
            "d like a hound , yet larger than any hound that ever mortal eye has rested upon\n",
            "ale , my sons , of the coming of the hound which is said to have plagued the fa\n",
            "ge creature or heard the baying of a hound . the latter question he put to me s\n",
            "ey were the footprints of a gigantic hound ! ” chapter 3. the problem i confess\n",
            "otmark is material. ” “ the original hound was material enough to tug a man ’ s\n",
            " . “ of course , i ’ ve heard of the hound ever since i was in the nursery . it\n",
            " it ? ” “ the peasants say it is the hound of the baskervilles calling for its \n",
            "nger ? ” “ you know the story of the hound ? ” “ i do not believe in such nonse\n",
            "heep-dog of the moor ? or a spectral hound , black , silent , and monstrous ? w\n",
            "on . “ they say it is the cry of the hound of the baskervilles. ” he groaned an\n",
            "d was silent for a few moments . “ a hound it was , ” he said at last , “ but i\n",
            "nk yourself that it was the cry of a hound ? i am not a child . you need not fe\n",
            "strange bird. ” “ no , no , it was a hound . my god , can there be some truth i\n",
            "cle ! there was the footprint of the hound beside him as he lay . it all fits t\n",
            "ch resembled the distant baying of a hound . it is incredible , impossible , th\n",
            "ordinary laws of nature . a spectral hound which leaves material footmarks and \n",
            "ose that there were really some huge hound loose upon it ; that would go far to\n",
            " everything . but where could such a hound lie concealed , where did it get its\n",
            " other . and always , apart from the hound , there is the fact of the human age\n",
            ", constant murmur of the sea . “ the hound ! ” cried holmes . “ come , watson ,\n"
          ]
        }
      ]
    },
    {
      "cell_type": "code",
      "source": [
        "cleaned_text1.similar(\"hound\", num=20)"
      ],
      "metadata": {
        "colab": {
          "base_uri": "https://localhost:8080/"
        },
        "id": "DJlMQVO2s6Vk",
        "outputId": "f1c35afb-2ee5-4920-afef-ab6d7fb40511"
      },
      "execution_count": null,
      "outputs": [
        {
          "output_type": "stream",
          "name": "stdout",
          "text": [
            "moor man case matter baronet letter place way darkness baskervilles\n",
            "hall light name time facts door path night stick paper\n"
          ]
        }
      ]
    },
    {
      "cell_type": "code",
      "source": [
        "cleaned_text1.common_contexts([\"hound\", \"dog\"]) #identifier les contextes communes des deux"
      ],
      "metadata": {
        "colab": {
          "base_uri": "https://localhost:8080/"
        },
        "id": "P21ar-76GNzh",
        "outputId": "b9664cc8-9890-41ad-e355-8d61ae0bdf96"
      },
      "execution_count": null,
      "outputs": [
        {
          "output_type": "stream",
          "name": "stdout",
          "text": [
            "the_has a_does\n"
          ]
        }
      ]
    },
    {
      "cell_type": "code",
      "source": [
        "cleaned_text1.dispersion_plot([\"Holmes\", \"Watson\", \"Baskerville\", \"hound\", \"moor\"])#Tracer un dispersion plot de mots-clés"
      ],
      "metadata": {
        "colab": {
          "base_uri": "https://localhost:8080/",
          "height": 472
        },
        "id": "OpVnKnDNGeRK",
        "outputId": "047e6806-6225-4e1b-aa1b-727914e22551"
      },
      "execution_count": null,
      "outputs": [
        {
          "output_type": "display_data",
          "data": {
            "text/plain": [
              "<Figure size 640x480 with 1 Axes>"
            ],
            "image/png": "[encoded data removed]"
          },
          "metadata": {}
        }
      ]
    },
    {
      "cell_type": "code",
      "source": [
        "fdist = FreqDist(cleaned_text1)#Affiche un graphique cumulatif des 50 mots les plus fréquents\n",
        "fdist.plot(50, cumulative=True)"
      ],
      "metadata": {
        "colab": {
          "base_uri": "https://localhost:8080/",
          "height": 493
        },
        "id": "GXeaQKafG2oj",
        "outputId": "eb4cd57c-acd6-4b80-ec64-8d8666bea608"
      },
      "execution_count": null,
      "outputs": [
        {
          "output_type": "execute_result",
          "data": {
            "text/plain": [
              "<Axes: xlabel='Samples', ylabel='Cumulative Counts'>"
            ]
          },
          "metadata": {},
          "execution_count": 15
        },
        {
          "output_type": "display_data",
          "data": {
            "text/plain": [
              "<Figure size 640x480 with 1 Axes>"
            ],
            "image/png": "[encoded data removed]"
          },
          "metadata": {}
        }
      ]
    },
    {
      "cell_type": "code",
      "source": [
        "long_words = [w for w in set(cleaned_text1) if len(w) > 12]#Trouve et affiche les mots longs du roman.\n",
        "print(sorted(long_words))"
      ],
      "metadata": {
        "colab": {
          "base_uri": "https://localhost:8080/"
        },
        "id": "_QFrcM37HMju",
        "outputId": "fac4bc94-d2d6-4a00-b66b-7751bf75888a"
      },
      "execution_count": null,
      "outputs": [
        {
          "output_type": "stream",
          "name": "stdout",
          "text": [
            "['_tête-à-tête_', 'absent-minded', 'acquaintances', 'afterthoughts', 'age-blackened', 'anguish—burst', 'anthropological', 'appreciation.', 'autobiography', 'banqueting-hall', 'baskervilles.', 'baskerville—that', 'billiard-room', 'bird—practically', 'black-bearded', 'black-clothed', 'blackmailing.', 'boulder-sprinkled', 'brandy-bottle', 'breast-pocket', 'breathlessness', 'brother-in-law', 'bulbous-headed', 'butterfly-net', 'carry—dignified', 'characteristic', 'characteristics', 'circumspectly', 'circumstances', 'communication', 'companionship', 'comparatively', 'concentration', 'conscientious', 'consideration', 'conversations', 'corresponding', 'counteracting', 'cross-examined', 'cross-questioned', 'cruel-hearted', 'different—had', 'disadvantage.', 'disappearance', 'disappointment', 'disapprobation', 'distinguished', 'distortion—so', 'dolichocephalic', 'dressing-gown', 'driving-wheel', 'extraordinarily', 'extraordinary', 'flaxen-haired', 'good-morning.', 'granite-flecked', 'green-scummed', 'green-splotched', 'grey-whiskered', 'half-sovereign', 'heavy-featured', 'horror-struck', 'house-physician—little', 'house-surgeon', 'hunting-crop.', 'identification', 'ill-treatment—that', 'important—the', 'inadvertently—', 'inconceivable', 'incredulously', 'incriminating', 'indescribably', 'insignificant', 'interruption—and', 'introductions', 'investigating', 'investigation', 'investigation.', 'investigations', 'irretrievably', 'justification', 'long-standing', 'meek-mannered', 'miscalculation', 'nail-scissors', 'naturalist—stapleton', 'neighbourhood', 'northumberland', 'nothing—nothing', 'old-fashioned', 'opportunities', 'personification', 'preoccupations', 'probabilities', 'probability—and', 'professionals', 'questioning—stared', 'railway-carriage', 'reading—frankland', 'recollections', 'reconstruction', 'reincarnation', 'remarkable-looking', 'representative', 'responsibility', 'retrospection', 'rough-looking', 'school-mastering', 'scientifically', 'scullery-maid', 'self-contained', 'self-importance', 'self-respect—everything', 'shamefully—shamefully', 'silver-plated', 'silver-spangled', 'silver-tipped', 'single-minded', 'slate-coloured', 'smoke-darkened', 'solicitations', 'spanish-american', 'spread-eagled', 'station-master', 'step-daughter', 'striking-looking', 'strong-minded', 'suggestiveness', 'suggests—halloa', 'supernatural.', 'supernaturalists', 'superstitious', 'supra-orbital', 'suspicions—not', 'telegraph-office', 'three-quarters', 'uncomfortably', 'unconcernedly', 'uncontrollable', 'understanding', 'unfortunately', 'unimaginative', 'uninteresting', 'unjustifiable', 'vegetation—sad', 'visiting-card', 'watson—refined', 'watson—running', 'weather-beaten', 'weather-bitten', 'well-established', 'well-esteemed', 'well-polished', 'westmoreland.', 'wide-stretching']\n"
          ]
        }
      ]
    },
    {
      "cell_type": "code",
      "source": [
        "print(sorted([w for w in set(cleaned_text1) if w.endswith(\"ness\")]))"
      ],
      "metadata": {
        "colab": {
          "base_uri": "https://localhost:8080/"
        },
        "id": "AXfwxs5HHYJG",
        "outputId": "933d2ea7-ae6b-4961-8f23-434b12a508c3"
      },
      "execution_count": null,
      "outputs": [
        {
          "output_type": "stream",
          "name": "stdout",
          "text": [
            "['alertness', 'bitterness', 'blackness', 'breathlessness', 'business', 'carelessness', 'cleanliness', 'cleverness', 'coarseness', 'darkness', 'directness', 'eagerness', 'earnestness', 'frankness', 'freshness', 'goodness', 'happiness', 'hardness', 'illness', 'kindness', 'lioness', 'loneliness', 'looseness', 'promptness', 'quickness', 'readiness', 'rudeness', 'sadness', 'selfishness', 'stillness', 'suggestiveness', 'thankfulness', 'uneasiness', 'vagueness', 'vastness', 'wilderness', 'witness']\n"
          ]
        }
      ]
    },
    {
      "cell_type": "code",
      "source": [
        "print(sorted([w for w in set(cleaned_text1) if w.startswith(\"hol\")]))"
      ],
      "metadata": {
        "colab": {
          "base_uri": "https://localhost:8080/"
        },
        "id": "Wh6MW-FvHnhf",
        "outputId": "a72cee89-13f9-4ef9-f09b-1476aa738545"
      },
      "execution_count": null,
      "outputs": [
        {
          "output_type": "stream",
          "name": "stdout",
          "text": [
            "['hold', 'holding', 'holes', 'hollow', 'holmes', 'holmes.', 'holy']\n"
          ]
        }
      ]
    },
    {
      "cell_type": "code",
      "source": [
        "bigrams_list = list(nltk.bigrams(cleaned_text1))#Crée des paires de mots consécutifs\n",
        "print(bigrams_list[:20])"
      ],
      "metadata": {
        "colab": {
          "base_uri": "https://localhost:8080/"
        },
        "id": "tBcKsc2gHy3z",
        "outputId": "c50a93e3-d4a7-4c1e-80a5-dd09ada13576"
      },
      "execution_count": null,
      "outputs": [
        {
          "output_type": "stream",
          "name": "stdout",
          "text": [
            "[('cover', 'the'), ('the', 'hound'), ('hound', 'of'), ('of', 'the'), ('the', 'baskervilles'), ('baskervilles', 'another'), ('another', 'adventure'), ('adventure', 'of'), ('of', 'sherlock'), ('sherlock', 'holmes'), ('holmes', 'by'), ('by', 'a.'), ('a.', 'conan'), ('conan', 'doyle'), ('doyle', 'my'), ('my', 'dear'), ('dear', 'robinson'), ('robinson', ','), (',', 'it'), ('it', 'was')]\n"
          ]
        }
      ]
    },
    {
      "cell_type": "code",
      "source": [
        "import nltk\n",
        "nltk.download('gutenberg')\n",
        "from nltk.corpus import gutenberg, names, cmudict\n",
        "from nltk.probability import ConditionalFreqDist, FreqDist\n",
        "from nltk.tokenize import word_tokenize\n",
        "import matplotlib.pyplot as plt"
      ],
      "metadata": {
        "colab": {
          "base_uri": "https://localhost:8080/"
        },
        "id": "7CQwnsNlIMIO",
        "outputId": "3a23cf41-1a0e-4e25-b5b4-43b2cf8e2ed5"
      },
      "execution_count": null,
      "outputs": [
        {
          "output_type": "stream",
          "name": "stderr",
          "text": [
            "[nltk_data] Downloading package gutenberg to /root/nltk_data...\n",
            "[nltk_data]   Unzipping corpora/gutenberg.zip.\n"
          ]
        }
      ]
    },
    {
      "cell_type": "code",
      "source": [
        "nltk.download('cmudict')\n",
        "nltk.download('names')"
      ],
      "metadata": {
        "colab": {
          "base_uri": "https://localhost:8080/"
        },
        "id": "mnXlIhhbMp6_",
        "outputId": "a41a7725-1412-4a8d-8af7-f110d8d3ce46"
      },
      "execution_count": null,
      "outputs": [
        {
          "output_type": "stream",
          "name": "stderr",
          "text": [
            "[nltk_data] Downloading package cmudict to /root/nltk_data...\n",
            "[nltk_data]   Package cmudict is already up-to-date!\n",
            "[nltk_data] Downloading package names to /root/nltk_data...\n",
            "[nltk_data]   Unzipping corpora/names.zip.\n"
          ]
        },
        {
          "output_type": "execute_result",
          "data": {
            "text/plain": [
              "True"
            ]
          },
          "metadata": {},
          "execution_count": 43
        }
      ]
    },
    {
      "cell_type": "code",
      "source": [
        "longest_sentence = max(sentences, key=len)\n",
        "print(\"\\n La plus longue phrase du roman :\")\n",
        "print(\" \".join(longest_sentence))\n",
        "print(f\"\\n Nombre de mots : {len(longest_sentence)}\")"
      ],
      "metadata": {
        "id": "XiMdiemLKKlH"
      },
      "execution_count": null,
      "outputs": []
    },
    {
      "cell_type": "code",
      "source": [
        "# Reconstituer les 3 premières phrases\n",
        "print(\"\\n 3 premières phrases reconstituées :\")\n",
        "for sent in sentences[:3]:\n",
        "    print(\" \".join(sent))"
      ],
      "metadata": {
        "id": "PvgsOudcIyQ4"
      },
      "execution_count": null,
      "outputs": []
    },
    {
      "cell_type": "code",
      "source": [
        "#Analyse des frequences\n",
        "cfd = ConditionalFreqDist()\n",
        "\n",
        "for word in words:\n",
        "    cfd[len(word)][word.lower()] += 1  # Comptage en minuscule pour éviter la casse\n",
        "\n",
        "print(\"\\n 10 mots les plus fréquents de 10 lettres :\")\n",
        "print(cfd[10].most_common(10))"
      ],
      "metadata": {
        "id": "zJWPokggLdBp"
      },
      "execution_count": null,
      "outputs": []
    },
    {
      "cell_type": "code",
      "source": [
        "#Analyse de la prononciation\n",
        "pron_dict = cmudict.dict()\n",
        "\n",
        "def get_pronunciation(word):\n",
        "    \"\"\"Renvoie la prononciation du mot s'il existe dans cmudict\"\"\"\n",
        "    word = word.lower()\n",
        "    if word in pron_dict:\n",
        "        return pron_dict[word]\n",
        "    else:\n",
        "        return [\" Prononciation inconnue\"]\n",
        "\n",
        "# Tester quelques mots du roman\n",
        "words_to_test = [\"hound\", \"Baskerville\", \"moor\", \"Holmes\", \"Watson\"]\n",
        "print(\"\\n Prononciation des mots clés :\")\n",
        "for word in words_to_test:\n",
        "    print(f\"{word} → {get_pronunciation(word)}\")\n"
      ],
      "metadata": {
        "id": "IXs9VdjBLusm"
      },
      "execution_count": null,
      "outputs": []
    },
    {
      "cell_type": "code",
      "source": [
        "import nltk\n",
        "import re\n",
        "import string\n",
        "import requests\n",
        "from nltk.probability import FreqDist\n",
        "from nltk.tokenize import word_tokenize\n",
        "from nltk.text import Text\n",
        "from nltk.stem import PorterStemmer, LancasterStemmer\n",
        "import matplotlib.pyplot as plt"
      ],
      "metadata": {
        "id": "skk0YjQNicHs"
      },
      "execution_count": null,
      "outputs": []
    },
    {
      "cell_type": "code",
      "source": [
        "# Convertir en UTF-8\n",
        "text_utf = cleaned_text.encode('utf-8').decode('utf-8')\n",
        "\n",
        "print(\"500 premiers caractères du roman :\")\n",
        "print(text[:500])"
      ],
      "metadata": {
        "id": "EFTE2x1hMtJ_"
      },
      "execution_count": null,
      "outputs": []
    },
    {
      "cell_type": "code",
      "source": [
        "# Tokenization\n",
        "tokens_utf = word_tokenize(text_utf)\n",
        "\n",
        "# Création d'un objet Text pour analyses\n",
        "text_nltk = Text(tokens_utf)\n",
        "\n",
        "print(\"\\n 20 premiers tokens :\")\n",
        "print(tokens_utf[:20])"
      ],
      "metadata": {
        "id": "5D8XdiQBhZk0"
      },
      "execution_count": null,
      "outputs": []
    },
    {
      "cell_type": "code",
      "source": [
        "#Filtrer la ponctuation\n",
        "filtered_tokens = [w.lower() for w in tokens_utf if w.isalpha()]\n",
        "\n",
        "print(\"\\n 20 premiers tokens sans ponctuation :\")\n",
        "print(filtered_tokens[:20])\n",
        "print(f\"\\nNombre de tokens sans ponctuation : {len(filtered_tokens)}\")"
      ],
      "metadata": {
        "id": "EJWKuDk9jfMr"
      },
      "execution_count": null,
      "outputs": []
    },
    {
      "cell_type": "code",
      "source": [
        "#Distribution des lettres\n",
        "fdist_letters = FreqDist(\"\".join(filtered_tokens))\n",
        "\n",
        "# Afficher la fréquence des lettres\n",
        "plt.figure(figsize=(10, 4))\n",
        "fdist_letters.plot(26, cumulative=False)\n",
        "plt.show()\n"
      ],
      "metadata": {
        "colab": {
          "base_uri": "https://localhost:8080/",
          "height": 387
        },
        "id": "8_4G8e_MjfGg",
        "outputId": "e6cb55a1-7f4c-4bd3-f9a3-91b11564e225"
      },
      "execution_count": null,
      "outputs": [
        {
          "output_type": "display_data",
          "data": {
            "text/plain": [
              "<Figure size 1000x400 with 1 Axes>"
            ],
            "image/png": "[encoded data removed]"
          },
          "metadata": {}
        }
      ]
    },
    {
      "cell_type": "code",
      "source": [
        "#expresions regulieres avec re.search()\n",
        "# Mots finissant par \"ed\"\n",
        "wordlist_ed = [w for w in filtered_tokens if re.search(r'ed$', w)]\n",
        "print(\"\\n Mots finissant par 'ed' :\", wordlist_ed[:10])\n",
        "\n",
        "# Mots contenant 'j' et 't' à des positions spécifiques\n",
        "wordlist_j_t_1 = [w for w in filtered_tokens if re.search(r'^..j..t..$', w)]\n",
        "print(\"\\n Mots correspondant au motif '..j..t..' :\", wordlist_j_t_1[:10])\n",
        "\n",
        "# Mots correspondant au motif `[ghi][mno][jlk][def]`\n",
        "Key_4653 = [w for w in filtered_tokens if re.search(r'^[ghi][mno][jlk][def]$', w)]\n",
        "print(\"\\n Mots correspondant à la structure '[ghi][mno][jlk][def]' :\", Key_4653)\n",
        "\n",
        "# Mots contenant uniquement des lettres de g à o\n",
        "Key_456_bis = [w for w in filtered_tokens if re.search(r'^[g-o]+$', w)]\n",
        "print(\"\\n Mots avec uniquement des lettres de g à o :\", Key_456_bis[:10])\n",
        "\n"
      ],
      "metadata": {
        "id": "u6T497uilxrG"
      },
      "execution_count": null,
      "outputs": []
    },
    {
      "cell_type": "code",
      "source": [
        "#Analyse morphologique\n",
        "porter = PorterStemmer()\n",
        "lancaster = LancasterStemmer()\n",
        "\n",
        "# Stemming\n",
        "print(\"\\n Stemming avec PorterStemmer :\")\n",
        "print([porter.stem(t) for t in filtered_tokens])\n",
        "print(\"\\n Stemming avec LancasterStemmer :\")\n",
        "print([lancaster.stem(t) for t in filtered_tokens])\n"
      ],
      "metadata": {
        "id": "MyUA4LsZmt2r"
      },
      "execution_count": null,
      "outputs": []
    },
    {
      "cell_type": "code",
      "source": [
        "words = [\"running\", \"happiness\", \"flies\", \"died\", \"jumping\"]\n",
        "\n",
        "print(\"\\n Stemming avec PorterStemmer :\")\n",
        "print([porter.stem(w) for w in words])\n",
        "\n",
        "print(\"\\n Stemming avec LancasterStemmer :\")\n",
        "print([lancaster.stem(w) for w in words])"
      ],
      "metadata": {
        "id": "L1TlaDA9nTqA"
      },
      "execution_count": null,
      "outputs": []
    },
    {
      "cell_type": "code",
      "source": [
        "from nltk.corpus import brown\n",
        "nltk.download('brown')"
      ],
      "metadata": {
        "id": "38qQep7wom_f"
      },
      "execution_count": null,
      "outputs": []
    },
    {
      "cell_type": "code",
      "source": [
        "# Trouver des mots avec \"a\" suivi de n'importe quel mot suivi de \"man\"\n",
        "print(\"\\n Mots entre 'a' et 'man' :\")\n",
        "print(text_nltk .findall(r\"<a> (<.*>) <man>\"))\n",
        "\n",
        "# Trouver des hobbies et intérêts\n",
        "print(\"\\n Structure '<mot> and other <mot>s' :\")\n",
        "print(text_nltk .findall(r\"<\\w*> <and> <other> <\\w*s>\"))"
      ],
      "metadata": {
        "id": "b5HFxfUbnoqz"
      },
      "execution_count": null,
      "outputs": []
    },
    {
      "cell_type": "code",
      "source": [
        "def mots_longs(words, min_len=12):\n",
        "    for w in words:\n",
        "        if len(w) >= min_len:\n",
        "            yield w\n",
        "\n",
        "def bigrammes_genere(words):\n",
        "    for w1, w2 in zip(words, words[1:]):\n",
        "        yield (w1, w2)\n",
        "\n",
        "\n",
        "\n",
        "print(\" Mots longs (>=12 lettres) :\")\n",
        "for mot in mots_longs(filtered_tokens):\n",
        "    print(mot)\n",
        "\n",
        "print(\"\\n Quelques bigrammes :\")\n",
        "for i, bg in enumerate(bigrammes_genere(filtered_tokens)):\n",
        "    print(bg)\n",
        "    if i > 10: break\n"
      ],
      "metadata": {
        "id": "wG84lh1wprxc"
      },
      "execution_count": null,
      "outputs": []
    },
    {
      "cell_type": "code",
      "source": [
        "raw_text_ch2 = requests.get(url).text\n",
        "\n",
        "# Extraire le chapitre 2\n",
        "start = raw_text_ch2.find(\"Chapter 2.\")\n",
        "end = raw_text_ch2.find(\"Chapter 3.\")\n",
        "chapter2 = raw_text_ch2[start:end]\n",
        "\n",
        "\n",
        "print(chapter2[-500:])"
      ],
      "metadata": {
        "colab": {
          "base_uri": "https://localhost:8080/"
        },
        "id": "SlupAll0o5Vs",
        "outputId": "cf99f227-cb53-4d6f-917a-f70d977ae834"
      },
      "execution_count": null,
      "outputs": [
        {
          "output_type": "stream",
          "name": "stdout",
          "text": [
            "se statement was made by Barrymore at the\r\n",
            "      inquest. He said that there were no traces upon the ground round\r\n",
            "      the body. He did not observe any. But I did—some little distance\r\n",
            "      off, but fresh and clear.”\r\n",
            "\r\n",
            "      “Footprints?”\r\n",
            "\r\n",
            "      “Footprints.”\r\n",
            "\r\n",
            "      “A man’s or a woman’s?”\r\n",
            "\r\n",
            "      Dr. Mortimer looked strangely at us for an instant, and his voice\r\n",
            "      sank almost to a whisper as he answered.\r\n",
            "\r\n",
            "      “Mr. Holmes, they were the footprints of a gigantic hound!”\r\n",
            "\r\n",
            "\r\n",
            "\r\n",
            "\r\n",
            "\n"
          ]
        }
      ]
    },
    {
      "cell_type": "code",
      "source": [
        "from nltk import pos_tag, RegexpParser\n",
        "from nltk.stem.wordnet import WordNetLemmatizer\n",
        "from nltk.corpus import wordnet\n",
        "\n",
        "nltk.download('averaged_perceptron_tagger')\n",
        "nltk.download('wordnet')\n",
        "nltk.download('omw-1.4')"
      ],
      "metadata": {
        "colab": {
          "base_uri": "https://localhost:8080/"
        },
        "id": "5fO-DScap05r",
        "outputId": "0ddbf611-76a1-4b4b-99d3-939e12d6b57f"
      },
      "execution_count": null,
      "outputs": [
        {
          "output_type": "stream",
          "name": "stderr",
          "text": [
            "[nltk_data] Downloading package averaged_perceptron_tagger to\n",
            "[nltk_data]     /root/nltk_data...\n",
            "[nltk_data]   Package averaged_perceptron_tagger is already up-to-\n",
            "[nltk_data]       date!\n",
            "[nltk_data] Downloading package wordnet to /root/nltk_data...\n",
            "[nltk_data] Downloading package omw-1.4 to /root/nltk_data...\n"
          ]
        },
        {
          "output_type": "execute_result",
          "data": {
            "text/plain": [
              "True"
            ]
          },
          "metadata": {},
          "execution_count": 21
        }
      ]
    },
    {
      "cell_type": "code",
      "source": [
        "lemmatizer = WordNetLemmatizer()\n",
        "\n",
        "# Fonction utilitaire pour la POS tag conversion\n",
        "def get_wordnet_pos(treebank_tag):\n",
        "    if treebank_tag.startswith('J'):\n",
        "        return wordnet.ADJ\n",
        "    elif treebank_tag.startswith('V'):\n",
        "        return wordnet.VERB\n",
        "    elif treebank_tag.startswith('N'):\n",
        "        return wordnet.NOUN\n",
        "    elif treebank_tag.startswith('R'):\n",
        "        return wordnet.ADV\n",
        "    else:\n",
        "        return wordnet.NOUN\n",
        "\n",
        "# Traitement par phrases\n",
        "sentences_chap2 = sent_tokenize(chapter2)\n",
        "\n",
        "for sent in sentences_chap2[:5]:\n",
        "    tokens = word_tokenize(sent)\n",
        "    tagged = pos_tag(tokens)\n",
        "\n",
        "    # Lemmatisation\n",
        "    lemmatized = [lemmatizer.lemmatize(w, get_wordnet_pos(t)) for w, t in tagged]\n",
        "    print(\"Lemmatisé :\", \" \".join(lemmatized))\n",
        "    # Chunking pour groupes nominaux\n",
        "    chunk_grammar = r\"NP: {<DT>?<JJ.*>*<NN.*>}\"\n",
        "    chunk_parser = RegexpParser(chunk_grammar)\n",
        "    chunked = chunk_parser.parse(tagged)\n",
        "\n",
        "    print(\" Groupes nominaux :\")\n",
        "    for subtree in chunked.subtrees(lambda t: t.label() == 'NP'):\n",
        "        print(\" →\", \" \".join(word for word, tag in subtree.leaves()))"
      ],
      "metadata": {
        "id": "BT9jyGt4p2IU"
      },
      "execution_count": null,
      "outputs": []
    },
    {
      "cell_type": "markdown",
      "source": [
        "Ce code effectue une analyse de texte en deux étapes principales : la lemmatisation des mots et l'extraction des groupes nominaux. La lemmatisation réduit les mots à leur forme de base, tandis que le chunking identifie les groupes nominaux dans les phrases. Les résultats montrent que les groupes nominaux sont bien extraits, bien que certains éléments de ponctuation ou de mots non pertinents apparaissent."
      ],
      "metadata": {
        "id": "G3HQHm-q6Z3V"
      }
    },
    {
      "cell_type": "markdown",
      "source": [
        "## Synonymes"
      ],
      "metadata": {
        "id": "zBgIiUTHyLVy"
      }
    },
    {
      "cell_type": "code",
      "source": [
        "import requests\n",
        "from bs4 import BeautifulSoup\n",
        "# Mot dont on veut récupérer les synonymes\n",
        "word = \"retrospection\"\n",
        "# Construire l'URL\n",
        "url = f\"https://www.synonyms.com/synonym/{word}\"\n",
        "# Ajouter un User-Agent pour simuler un navigateur\n",
        "headers = {\n",
        "    \"User-Agent\": \"Mozilla/5.0 (Windows NT 10.0; Win64; x64) AppleWebKit/537.36 (KHTML, like Gecko) Chrome/91.0.4472.124 Safari/537.36\"\n",
        "}\n",
        "# Envoyer une requête GET\n",
        "response = requests.get(url, headers=headers)\n",
        "# Vérifier si la requête a réussi\n",
        "if response.status_code == 200:\n",
        "    # Parser le contenu HTML\n",
        "    soup = BeautifulSoup(response.text, \"html.parser\")\n",
        "    # Récupérer tous les termes synonymes\n",
        "    synonyms = [item.text.strip() for item in soup.find_all(class_=\"syns\")]\n",
        "    # Afficher les synonymes\n",
        "    print(\"Synonymes trouvés :\")\n",
        "    for syn in synonyms:\n",
        "        print(f\"- {syn}\")\n",
        "else:\n",
        "    print(f\"Erreur lors de la récupération des données (statut: {response.status_code})\")"
      ],
      "metadata": {
        "colab": {
          "base_uri": "https://localhost:8080/"
        },
        "id": "ztq3eiYMyOB6",
        "outputId": "768f357d-6525-4160-ffd3-d18825f42cf6"
      },
      "execution_count": null,
      "outputs": [
        {
          "output_type": "stream",
          "name": "stdout",
          "text": [
            "Synonymes trouvés :\n",
            "- Synonyms:memory, recollection, remembrance, reminiscence, retrospect\n",
            "- Synonyms:looking back\n"
          ]
        }
      ]
    },
    {
      "cell_type": "code",
      "source": [
        "syns=set()\n",
        "for s in synonyms:\n",
        "  if s.startswith(\"Synonyms:\"):\n",
        "    l=s.split(\":\")[1].split(\",\")\n",
        "    for item in l:\n",
        "      syns.add(item.strip())"
      ],
      "metadata": {
        "id": "8xzzouX2y9yd"
      },
      "execution_count": null,
      "outputs": []
    },
    {
      "cell_type": "code",
      "source": [
        "syns"
      ],
      "metadata": {
        "colab": {
          "base_uri": "https://localhost:8080/"
        },
        "id": "vDSR-b2izEYF",
        "outputId": "d4d131f5-6334-42f6-820a-96a5306a9165"
      },
      "execution_count": null,
      "outputs": [
        {
          "output_type": "execute_result",
          "data": {
            "text/plain": [
              "{'looking back',\n",
              " 'memory',\n",
              " 'recollection',\n",
              " 'remembrance',\n",
              " 'reminiscence',\n",
              " 'retrospect'}"
            ]
          },
          "metadata": {},
          "execution_count": 52
        }
      ]
    },
    {
      "cell_type": "markdown",
      "source": [
        "## Changement le style du texte extrait"
      ],
      "metadata": {
        "id": "yZPamMJQ0TU7"
      }
    },
    {
      "cell_type": "code",
      "source": [
        "pip install  colorama"
      ],
      "metadata": {
        "colab": {
          "base_uri": "https://localhost:8080/"
        },
        "id": "jktDhf-J0z9e",
        "outputId": "c5518524-9a80-4e1e-8dc1-e9c71025964f"
      },
      "execution_count": null,
      "outputs": [
        {
          "output_type": "stream",
          "name": "stdout",
          "text": [
            "Requirement already satisfied: colorama in /usr/local/lib/python3.11/dist-packages (0.4.6)\n"
          ]
        }
      ]
    },
    {
      "cell_type": "code",
      "source": [
        "raw_text_ch6 = requests.get(url).text\n",
        "\n",
        "# Extraire le chapitre 2\n",
        "start = raw_text_ch6.find(\"Chapter 6.\")\n",
        "end = raw_text_ch6.find(\"Chapter 7.\")\n",
        "chapter6 = raw_text_ch6[start:end]"
      ],
      "metadata": {
        "id": "mpQv0OFt2630"
      },
      "execution_count": null,
      "outputs": []
    },
    {
      "cell_type": "code",
      "source": [
        "soup = BeautifulSoup(chapter6, 'html.parser')\n",
        "\n",
        "for p in soup.find_all(\"p\")[:5]:\n",
        "    print(p.text.strip())"
      ],
      "metadata": {
        "id": "eqCTKFVZ3neO"
      },
      "execution_count": null,
      "outputs": []
    },
    {
      "cell_type": "code",
      "source": [
        "from colorama import Fore, Style, init\n",
        "\n",
        "sample = chapter6.strip()[:800]\n",
        "\n",
        "# Mise en forme\n",
        "def stylize(text):\n",
        "    text = re.sub(r'\\bWatson\\b', Fore.GREEN + Style.BRIGHT + \"Watson\" + Style.RESET_ALL, text)\n",
        "    text = re.sub(r'\\bSir\\s+Charles\\b', Fore.CYAN + Style.BRIGHT + \"Sir Charles\" + Style.RESET_ALL, text)\n",
        "    return text\n",
        "\n",
        "# Espacer les lettres comme demandé\n",
        "def expand_text(text):\n",
        "    return ' '.join(list(text))\n",
        "\n",
        "# Styliser, espacer et afficher\n",
        "styled = stylize(sample)\n",
        "#expanded = expand_text(styled)\n",
        "\n",
        "print(Fore.MAGENTA + Style.BRIGHT + \"\\n CHAPITRE 6 : Extrait stylisé\\n\")\n",
        "print(styled)"
      ],
      "metadata": {
        "colab": {
          "base_uri": "https://localhost:8080/"
        },
        "id": "aJRZy6hd-V-b",
        "outputId": "8ca6952b-dda8-4086-bc5c-295734d8d405"
      },
      "execution_count": null,
      "outputs": [
        {
          "output_type": "stream",
          "name": "stdout",
          "text": [
            "\u001b[35m\u001b[1m\n",
            " CHAPITRE 6 : Extrait stylisé\n",
            "\n",
            "Chapter 6.\r\n",
            "Baskerville Hall\r\n",
            "\r\n",
            "\r\n",
            "      Sir Henry Baskerville and Dr. Mortimer were ready upon the\r\n",
            "      appointed day, and we started as arranged for Devonshire. Mr.\r\n",
            "      Sherlock Holmes drove with me to the station and gave me his last\r\n",
            "      parting injunctions and advice.\r\n",
            "\r\n",
            "      “I will not bias your mind by suggesting theories or suspicions,\r\n",
            "      \u001b[32m\u001b[1mWatson\u001b[0m,” said he; “I wish you simply to report facts in the\r\n",
            "      fullest possible manner to me, and you can leave me to do the\r\n",
            "      theorizing.”\r\n",
            "\r\n",
            "      “What sort of facts?” I asked.\r\n",
            "\r\n",
            "      “Anything which may seem to have a bearing however indirect upon\r\n",
            "      the case, and especially the relations between young Baskerville\r\n",
            "      and his neighbours or any fresh particulars concerning the death\r\n",
            "      of \u001b[36m\u001b[1mSir Charles\u001b[0m. I have ma\n"
          ]
        }
      ]
    },
    {
      "cell_type": "markdown",
      "source": [
        "## Analyse grammaticale et exploration semantique"
      ],
      "metadata": {
        "id": "--xJ0H79BXjk"
      }
    },
    {
      "cell_type": "code",
      "source": [
        "from nltk.util import ngrams\n",
        "from nltk import FreqDist, word_tokenize\n",
        "raw = requests.get(url).text\n",
        "\n",
        "#  Extraire le texte du Chapitre 9\n",
        "start = raw.find(\"Chapter 9.\")\n",
        "end = raw.find(\"Chapter 10.\")\n",
        "chapter9_raw = raw[start:end]\n",
        "\n",
        "#  Nettoyage du texte\n",
        "chapter9_clean = re.sub(r'[^a-zA-Z\\s]', '', chapter9_raw)  # Supprime la ponctuation\n",
        "chapter9_clean = re.sub(r'\\s+', ' ', chapter9_clean)       # Supprime les espaces multiples\n",
        "chapter9_clean = chapter9_clean.strip()\n",
        "\n",
        "# Tokenisation\n",
        "tokens = word_tokenize(chapter9_clean.lower())  # tout en minuscules\n",
        "\n",
        "#  N-grams\n",
        "unigrams = list(ngrams(tokens, 1))\n",
        "bigrams = list(ngrams(tokens, 2))\n",
        "trigrams = list(ngrams(tokens, 3))\n",
        "\n",
        "print(\" Unigrams les plus fréquents :\", FreqDist(unigrams).most_common(10))\n",
        "print(\" Bigrams les plus fréquents :\", FreqDist(bigrams).most_common(10))\n",
        "print(\" Trigrams les plus fréquents :\", FreqDist(trigrams).most_common(10))\n",
        "\n",
        "#  Binary features (exemples simples)\n",
        "features = {\n",
        "    \"contains_watson\": int(\"watson\" in tokens),\n",
        "    \"contains_holmes\": int(\"holmes\" in tokens),\n",
        "    \"contains_baskerville\": int(\"baskerville\" in tokens),\n",
        "    \"long_word_present\": int(any(len(w) > 10 for w in tokens)),\n",
        "    \"question_present\": int(\"?\" in chapter9_raw),\n",
        "}\n",
        "\n",
        "print(\"\\n Binary Features pour Chapitre 9 :\")\n",
        "for k, v in features.items():\n",
        "    print(f\"{k} : {v}\")"
      ],
      "metadata": {
        "colab": {
          "base_uri": "https://localhost:8080/"
        },
        "id": "a4rxshpHBZUD",
        "outputId": "f01be191-6691-4819-898e-883a179cc91b"
      },
      "execution_count": null,
      "outputs": [
        {
          "output_type": "stream",
          "name": "stdout",
          "text": [
            " Unigrams les plus fréquents : [(('the',), 365), (('and',), 194), (('i',), 183), (('to',), 158), (('of',), 149), (('that',), 148), (('it',), 140), (('a',), 132), (('was',), 128), (('he',), 119)]\n",
            " Bigrams les plus fréquents : [(('of', 'the'), 44), (('in', 'the'), 34), (('it', 'was'), 34), (('that', 'i'), 21), (('sir', 'henry'), 21), (('the', 'moor'), 20), (('i', 'had'), 20), (('it', 'is'), 18), (('that', 'he'), 17), (('he', 'was'), 17)]\n",
            " Trigrams les plus fréquents : [(('on', 'the', 'moor'), 7), (('that', 'it', 'was'), 6), (('upon', 'the', 'moor'), 5), (('it', 'was', 'not'), 5), (('it', 'was', 'a'), 5), (('i', 'could', 'not'), 4), (('the', 'direction', 'of'), 4), (('out', 'of', 'my'), 4), (('out', 'of', 'the'), 4), (('in', 'the', 'darkness'), 4)]\n",
            "\n",
            " Binary Features pour Chapitre 9 :\n",
            "contains_watson : 1\n",
            "contains_holmes : 1\n",
            "contains_baskerville : 1\n",
            "long_word_present : 1\n",
            "question_present : 1\n"
          ]
        }
      ]
    },
    {
      "cell_type": "markdown",
      "source": [
        "Ce script extrait le texte du Chapitre 9 , le nettoie en supprimant la ponctuation et les espaces inutiles, puis effectue plusieurs analyses linguistiques. Il commence par tokeniser le texte en unigrams, bigrams et trigrams, puis affiche les 10 plus fréquents de chaque type. Ensuite, il analyse la présence de certains mots-clés (comme \"watson\", \"holmes\", \"baskerville\") et la présence d'une question dans le texte, ainsi que la présence de mots longs (plus de 10 caractères). Les résultats montrent que les mots les plus fréquents sont des mots de fonction (comme \"the\", \"and\", \"i\"), tandis que les bigrams et trigrams révèlent des expressions récurrentes dans le chapitre, comme \"on the moor\" et \"it was\". Enfin, les binary features montrent que le texte contient bien les mots-clés \"Watson\", \"Holmes\" et \"Baskerville\", ainsi qu'une question et des mots longs."
      ],
      "metadata": {
        "id": "vfAOt8LZ9Cde"
      }
    },
    {
      "cell_type": "code",
      "source": [
        "import nltk\n",
        "nltk.download('stopwords')"
      ],
      "metadata": {
        "colab": {
          "base_uri": "https://localhost:8080/"
        },
        "id": "3ZIrubD4Cxul",
        "outputId": "2cca547f-ac1c-4bbe-f757-e688cdc91c0e"
      },
      "execution_count": null,
      "outputs": [
        {
          "output_type": "stream",
          "name": "stderr",
          "text": [
            "[nltk_data] Downloading package stopwords to /root/nltk_data...\n",
            "[nltk_data]   Unzipping corpora/stopwords.zip.\n"
          ]
        },
        {
          "output_type": "execute_result",
          "data": {
            "text/plain": [
              "True"
            ]
          },
          "metadata": {},
          "execution_count": 18
        }
      ]
    },
    {
      "cell_type": "code",
      "source": [
        "from nltk.tokenize import sent_tokenize, word_tokenize\n",
        "from nltk.corpus import stopwords\n",
        "from collections import defaultdict\n",
        "#  Diviser en phrases\n",
        "sentences = sent_tokenize(chapter9_raw)\n",
        "\n",
        "#  Nettoyage de base + suppression stopwords\n",
        "stop_words = set(stopwords.words('english'))\n",
        "cleaned_sentences = []\n",
        "for sent in sentences:\n",
        "    words = word_tokenize(sent.lower())\n",
        "    words = [w for w in words if w.isalpha() and w not in stop_words]\n",
        "    cleaned_sentences.append(words)\n",
        "\n",
        "#  Détection de caractéristiques communes\n",
        "common_features = defaultdict(list)\n",
        "\n",
        "for i in range(len(cleaned_sentences)):\n",
        "    for j in range(i+1, len(cleaned_sentences)):\n",
        "        common = set(cleaned_sentences[i]) & set(cleaned_sentences[j])\n",
        "        if len(common) >= 3:  # ← seuil de similarité\n",
        "            common_features[f\"{i} ⇄ {j}\"] = list(common)\n",
        "\n",
        "#  Résultat\n",
        "print(\"\\n Corrélations entre phrases :\\n\")\n",
        "for pair, common in list(common_features.items())[:10]:  # limiter l'affichage\n",
        "    print(f\" Phrases {pair} ont en commun : {common}\")"
      ],
      "metadata": {
        "colab": {
          "base_uri": "https://localhost:8080/"
        },
        "id": "Xz_tpzHKB6Ls",
        "outputId": "226e3ef9-f7b2-45c5-b5bc-7d99c023d64e"
      },
      "execution_count": null,
      "outputs": [
        {
          "output_type": "stream",
          "name": "stdout",
          "text": [
            "\n",
            " Corrélations entre phrases :\n",
            "\n",
            " Phrases 2 ⇄ 38 ont en commun : ['upon', 'holmes', 'leave']\n",
            " Phrases 2 ⇄ 121 ont en commun : ['upon', 'time', 'without']\n",
            " Phrases 2 ⇄ 306 ont en commun : ['acknowledge', 'holmes', 'must', 'dear']\n",
            " Phrases 3 ⇄ 10 ont en commun : ['upon', 'window', 'barrymore']\n",
            " Phrases 10 ⇄ 25 ont en commun : ['must', 'would', 'barrymore']\n",
            " Phrases 21 ⇄ 186 ont en commun : ['heard', 'night', 'window']\n",
            " Phrases 21 ⇄ 198 ont en commun : ['night', 'window', 'every']\n",
            " Phrases 24 ⇄ 227 ont en commun : ['holmes', 'would', 'said']\n",
            " Phrases 25 ⇄ 82 ont en commun : ['man', 'see', 'would']\n",
            " Phrases 25 ⇄ 120 ont en commun : ['case', 'take', 'would']\n"
          ]
        }
      ]
    },
    {
      "cell_type": "markdown",
      "source": [
        "Ce script compare les phrases d'un texte en identifiant les mots communs. Après avoir nettoyé les phrases de leurs mots non pertinents (comme les \"stop words\"), il trouve les paires de phrases partageant au moins trois mots. Par exemple, la phrase 2 et la phrase 38 partagent les mots \"upon\", \"holmes\", et \"leave\", ce qui montre qu'elles sont similaires ou liées. Cela aide à analyser les connexions thématiques dans le texte."
      ],
      "metadata": {
        "id": "Li4FbEGP9ehQ"
      }
    },
    {
      "cell_type": "code",
      "source": [
        "\n",
        "import nltk\n",
        "nltk.download('averaged_perceptron_tagger_eng')"
      ],
      "metadata": {
        "colab": {
          "base_uri": "https://localhost:8080/"
        },
        "id": "zUKlTDVqDjbB",
        "outputId": "31306799-5cc3-4a5e-bfaf-576698df144c"
      },
      "execution_count": null,
      "outputs": [
        {
          "output_type": "stream",
          "name": "stderr",
          "text": [
            "[nltk_data] Downloading package averaged_perceptron_tagger_eng to\n",
            "[nltk_data]     /root/nltk_data...\n",
            "[nltk_data]   Unzipping taggers/averaged_perceptron_tagger_eng.zip.\n"
          ]
        },
        {
          "output_type": "execute_result",
          "data": {
            "text/plain": [
              "True"
            ]
          },
          "metadata": {},
          "execution_count": 29
        }
      ]
    },
    {
      "cell_type": "code",
      "source": [
        "from nltk import pos_tag\n",
        "# Nettoyer les phrases et faire du POS Tagging\n",
        "tagged_sentences = []\n",
        "for sentence in sentences:\n",
        "    words = word_tokenize(sentence.lower())  # Tokenisation en mots\n",
        "    tagged_sentences.extend(pos_tag(words))  # POS tagging\n",
        "\n",
        "# Créer des N-grams de POS tags (unigrams, bigrams, trigrams)\n",
        "unigrams = list(ngrams( [tag for word, tag in tagged_sentences], 1))\n",
        "bigrams = list(ngrams([tag for word, tag in tagged_sentences], 2))\n",
        "trigrams = list(ngrams([tag for word, tag in tagged_sentences], 3))\n",
        "\n",
        "#  Afficher les N-grams les plus fréquents\n",
        "print(\"Unigrams (POS tags) les plus fréquents :\")\n",
        "print(FreqDist(unigrams).most_common(10))\n",
        "\n",
        "print(\"Bigrams (POS tags) les plus fréquents :\")\n",
        "print(FreqDist(bigrams).most_common(10))\n",
        "\n",
        "print(\"Trigrams (POS tags) les plus fréquents :\")\n",
        "print(FreqDist(trigrams).most_common(10))"
      ],
      "metadata": {
        "colab": {
          "base_uri": "https://localhost:8080/"
        },
        "id": "GwG3BepmDt9O",
        "outputId": "9ae23abc-53a6-47a2-a5a7-5ba82ac393d8"
      },
      "execution_count": null,
      "outputs": [
        {
          "output_type": "stream",
          "name": "stdout",
          "text": [
            "Unigrams (POS tags) les plus fréquents :\n",
            "[(('NN',), 1235), (('IN',), 916), (('DT',), 669), (('PRP',), 596), (('VBD',), 478), (('JJ',), 430), (('RB',), 419), ((',',), 377), (('.',), 349), (('VB',), 328)]\n",
            "Bigrams (POS tags) les plus fréquents :\n",
            "[(('DT', 'NN'), 417), (('IN', 'DT'), 321), (('NN', 'IN'), 271), (('JJ', 'NN'), 208), (('PRP', 'VBD'), 180), (('IN', 'PRP'), 175), (('NN', ','), 164), (('NN', 'VBD'), 157), (('NN', '.'), 155), (('PRP$', 'NN'), 134)]\n",
            "Trigrams (POS tags) les plus fréquents :\n",
            "[(('IN', 'DT', 'NN'), 202), (('DT', 'NN', 'IN'), 137), (('NN', 'IN', 'DT'), 104), (('DT', 'JJ', 'NN'), 92), (('IN', 'DT', 'JJ'), 64), (('IN', 'PRP$', 'NN'), 61), (('JJ', 'NN', 'IN'), 58), (('PRP', 'MD', 'VB'), 55), (('NN', ',', 'CC'), 54), (('DT', 'NN', '.'), 50)]\n"
          ]
        }
      ]
    },
    {
      "cell_type": "markdown",
      "source": [
        "Il fait une analyse grammaticale du texte en attribuant des tags POS (part-of-speech) à chaque mot, puis génère des N-grams (unigrams, bigrams, trigrams) à partir de ces tags. Les résultats montrent les combinaisons de tags POS les plus fréquentes, telles que les noms (NN), les prépositions (IN) et les déterminants (DT), ce qui permet d'observer les structures grammaticales récurrentes dans le texte."
      ],
      "metadata": {
        "id": "3-Bjs-zk-SSX"
      }
    },
    {
      "cell_type": "code",
      "source": [
        "!python -m spacy download en_core_web_md"
      ],
      "metadata": {
        "colab": {
          "base_uri": "https://localhost:8080/"
        },
        "id": "H-nw_kNTDgD7",
        "outputId": "5cd02212-80fe-4d8b-b406-c9bacd590187"
      },
      "execution_count": null,
      "outputs": [
        {
          "output_type": "stream",
          "name": "stdout",
          "text": [
            "/usr/bin/python3: No module named spacy\n"
          ]
        }
      ]
    },
    {
      "cell_type": "code",
      "source": [
        "#!pip install spacy\n",
        "!python -m spacy download en_core_web_md"
      ],
      "metadata": {
        "colab": {
          "base_uri": "https://localhost:8080/"
        },
        "id": "EitUW-z6-te_",
        "outputId": "ba38ffd4-f74e-488e-b976-352417bd7731"
      },
      "execution_count": null,
      "outputs": [
        {
          "output_type": "stream",
          "name": "stdout",
          "text": [
            "\n",
            "A module that was compiled using NumPy 1.x cannot be run in\n",
            "NumPy 2.2.4 as it may crash. To support both 1.x and 2.x\n",
            "versions of NumPy, modules must be compiled with NumPy 2.0.\n",
            "Some module may need to rebuild instead e.g. with 'pybind11>=2.12'.\n",
            "\n",
            "If you are a user of the module, the easiest solution will be to\n",
            "downgrade to 'numpy<2' or try to upgrade the affected module.\n",
            "We expect that some modules will need time to support NumPy 2.\n",
            "\n",
            "Traceback (most recent call last):  File \"<frozen runpy>\", line 189, in _run_module_as_main\n",
            "  File \"<frozen runpy>\", line 148, in _get_module_details\n",
            "  File \"<frozen runpy>\", line 112, in _get_module_details\n",
            "  File \"/usr/local/lib/python3.11/dist-packages/spacy/__init__.py\", line 6, in <module>\n",
            "    from .errors import setup_default_warnings\n",
            "  File \"/usr/local/lib/python3.11/dist-packages/spacy/errors.py\", line 3, in <module>\n",
            "    from .compat import Literal\n",
            "  File \"/usr/local/lib/python3.11/dist-packages/spacy/compat.py\", line 4, in <module>\n",
            "    from thinc.util import copy_array\n",
            "  File \"/usr/local/lib/python3.11/dist-packages/thinc/__init__.py\", line 5, in <module>\n",
            "    from .config import registry\n",
            "  File \"/usr/local/lib/python3.11/dist-packages/thinc/config.py\", line 5, in <module>\n",
            "    from .types import Decorator\n",
            "  File \"/usr/local/lib/python3.11/dist-packages/thinc/types.py\", line 27, in <module>\n",
            "    from .compat import cupy, has_cupy\n",
            "  File \"/usr/local/lib/python3.11/dist-packages/thinc/compat.py\", line 35, in <module>\n",
            "    import torch\n",
            "  File \"/usr/local/lib/python3.11/dist-packages/torch/__init__.py\", line 1477, in <module>\n",
            "    from .functional import *  # noqa: F403\n",
            "  File \"/usr/local/lib/python3.11/dist-packages/torch/functional.py\", line 9, in <module>\n",
            "    import torch.nn.functional as F\n",
            "  File \"/usr/local/lib/python3.11/dist-packages/torch/nn/__init__.py\", line 1, in <module>\n",
            "    from .modules import *  # noqa: F403\n",
            "  File \"/usr/local/lib/python3.11/dist-packages/torch/nn/modules/__init__.py\", line 35, in <module>\n",
            "    from .transformer import TransformerEncoder, TransformerDecoder, \\\n",
            "  File \"/usr/local/lib/python3.11/dist-packages/torch/nn/modules/transformer.py\", line 20, in <module>\n",
            "    device: torch.device = torch.device(torch._C._get_default_device()),  # torch.device('cpu'),\n",
            "/usr/local/lib/python3.11/dist-packages/torch/nn/modules/transformer.py:20: UserWarning: Failed to initialize NumPy: _ARRAY_API not found (Triggered internally at ../torch/csrc/utils/tensor_numpy.cpp:84.)\n",
            "  device: torch.device = torch.device(torch._C._get_default_device()),  # torch.device('cpu'),\n",
            "Collecting en-core-web-md==3.8.0\n",
            "  Downloading https://github.com/explosion/spacy-models/releases/download/en_core_web_md-3.8.0/en_core_web_md-3.8.0-py3-none-any.whl (33.5 MB)\n",
            "\u001b[2K     \u001b[90m━━━━━━━━━━━━━━━━━━━━━━━━━━━━━━━━━━━━━━━━\u001b[0m \u001b[32m33.5/33.5 MB\u001b[0m \u001b[31m11.6 MB/s\u001b[0m eta \u001b[36m0:00:00\u001b[0m\n",
            "\u001b[?25hInstalling collected packages: en-core-web-md\n",
            "Successfully installed en-core-web-md-3.8.0\n",
            "\u001b[38;5;2m✔ Download and installation successful\u001b[0m\n",
            "You can now load the package via spacy.load('en_core_web_md')\n",
            "\u001b[38;5;3m⚠ Restart to reload dependencies\u001b[0m\n",
            "If you are in a Jupyter or Colab notebook, you may need to restart Python in\n",
            "order to load all the package's dependencies. You can do this by selecting the\n",
            "'Restart kernel' or 'Restart runtime' option.\n"
          ]
        }
      ]
    },
    {
      "cell_type": "code",
      "source": [
        "import spacy\n",
        "from operator import itemgetter\n",
        "\n",
        "# Charger le modèle avec word vectors\n",
        "nlp = spacy.load(\"en_core_web_md\")\n",
        "\n",
        "# Exemple de texte du chapitre 6\n",
        "chapter6_text = \"\"\"\n",
        "Sir Henry Baskerville and Dr. Mortimer were ready upon the appointed day, and we started as arranged for Devonshire.\n",
        "Mr. Sherlock Holmes drove with me to the station and gave me his last parting injunctions and advice.\n",
        "\"\"\"\n",
        "\n",
        "# Liste des mots-clés du mystère\n",
        "keywords = [\"Holmes\", \"Watson\", \"Baskerville\", \"moor\", \"hound\", \"murder\", \"death\", \"ghost\", \"night\"]\n",
        "\n",
        "# Tokeniser le texte\n",
        "doc = nlp(chapter6_text)\n",
        "\n",
        "# Trouver les mots importants du chapitre\n",
        "words_in_text = list(set([token.text for token in doc if token.is_alpha and not token.is_stop]))\n",
        "\n",
        "# Comparer chaque mot du texte avec nos mots-clés\n",
        "similarities = []\n",
        "\n",
        "for word in words_in_text:\n",
        "    if word in nlp.vocab:  # Vérifie si mot dans le vocabulaire\n",
        "        word_vector = nlp(word)\n",
        "        for key in keywords:\n",
        "            key_vector = nlp(key)\n",
        "            sim = word_vector.similarity(key_vector)\n",
        "            if sim > 0.6:  # Seulement les mots proches\n",
        "                similarities.append((word, key, sim))\n",
        "\n",
        "# Trier et afficher\n",
        "similarities.sort(key=itemgetter(2), reverse=True)\n",
        "print(\"Mots du chapitre proches de nos mots-clés :\\n\")\n",
        "for word, key, sim in similarities:\n",
        "    print(f\"{word}' ≈ '{key}' → Similarité : {sim:.2f}\")\n"
      ],
      "metadata": {
        "colab": {
          "base_uri": "https://localhost:8080/"
        },
        "id": "blLuSYB6DUsU",
        "outputId": "2b82794f-9e1e-41b1-d165-5faa979b30f2"
      },
      "execution_count": null,
      "outputs": [
        {
          "output_type": "stream",
          "name": "stderr",
          "text": [
            "/usr/local/lib/python3.11/dist-packages/jaxlib/plugin_support.py:71: RuntimeWarning: JAX plugin jax_cuda12_plugin version 0.5.1 is installed, but it is not compatible with the installed jaxlib version 0.5.3, so it will not be used.\n",
            "  warnings.warn(\n"
          ]
        },
        {
          "output_type": "stream",
          "name": "stdout",
          "text": [
            "Mots du chapitre proches de nos mots-clés :\n",
            "\n",
            "Baskerville' ≈ 'Baskerville' → Similarité : 1.00\n",
            "Henry' ≈ 'Holmes' → Similarité : 1.00\n",
            "Henry' ≈ 'Watson' → Similarité : 1.00\n",
            "drove' ≈ 'death' → Similarité : 1.00\n",
            "Holmes' ≈ 'Holmes' → Similarité : 1.00\n",
            "Holmes' ≈ 'Watson' → Similarité : 1.00\n",
            "day' ≈ 'night' → Similarité : 0.74\n",
            "Henry' ≈ 'moor' → Similarité : 0.64\n",
            "Holmes' ≈ 'moor' → Similarité : 0.64\n",
            "Mortimer' ≈ 'Holmes' → Similarité : 0.60\n",
            "Mortimer' ≈ 'Watson' → Similarité : 0.60\n"
          ]
        }
      ]
    },
    {
      "cell_type": "markdown",
      "source": [
        "Il compare les mots du texte avec une liste de mots-clés (comme \"Holmes\" et \"Baskerville\") en utilisant la similarité de leurs vecteurs de mots. Si la similarité est supérieure à 0,6, il affiche les mots les plus proches, ce qui aide à identifier les termes importants du mystère."
      ],
      "metadata": {
        "id": "7ZHJI-Je_cwz"
      }
    },
    {
      "cell_type": "code",
      "source": [
        "import spacy\n",
        "from numpy import dot\n",
        "from numpy.linalg import norm\n",
        "\n",
        "nlp = spacy.load(\"en_core_web_md\")\n",
        "\n",
        "def analogy(wordA, wordB, wordC, top_n=10):\n",
        "    # Vecteurs\n",
        "    vecA = nlp(wordA).vector\n",
        "    vecB = nlp(wordB).vector\n",
        "    vecC = nlp(wordC).vector\n",
        "\n",
        "    # Formule : B - A + C\n",
        "    target_vector = vecB - vecA + vecC\n",
        "\n",
        "    # Chercher dans vocabulaire\n",
        "    similarities = []\n",
        "    for word in nlp.vocab:\n",
        "        if word.has_vector and word.is_lower and word.is_alpha:\n",
        "            sim = dot(target_vector, word.vector) / (norm(target_vector) * norm(word.vector))\n",
        "            similarities.append((word.text, sim))\n",
        "\n",
        "    # Trier\n",
        "    similarities = sorted(similarities, key=lambda item: -item[1])\n",
        "\n",
        "    # Retourner les meilleurs\n",
        "    return similarities[:top_n]\n",
        "\n",
        "# Exemple : Holmes est à deduction ce que Watson est à ?\n",
        "results = analogy(\"Holmes\", \"deduction\", \"Watson\", top_n=5)\n",
        "\n",
        "print(\" Holmes est à 'deduction' ce que Watson est à :\")\n",
        "for word, score in results:\n",
        "    print(f\" {word} (score: {score:.2f})\")\n"
      ],
      "metadata": {
        "colab": {
          "base_uri": "https://localhost:8080/"
        },
        "id": "mf6xI_LdD-rR",
        "outputId": "db953e87-195e-43b6-d4a2-9868d1cb1443"
      },
      "execution_count": null,
      "outputs": [
        {
          "output_type": "stream",
          "name": "stdout",
          "text": [
            " Holmes est à 'deduction' ce que Watson est à :\n",
            " deduction (score: 1.00)\n",
            " you (score: 0.42)\n",
            " ought (score: 0.29)\n",
            " or (score: 0.23)\n",
            " was (score: 0.20)\n"
          ]
        }
      ]
    },
    {
      "cell_type": "markdown",
      "source": [
        "Il nous donne une analyse d'analogie de mots basée sur les vecteurs de mots. L'exemple donné recherche la relation entre \"Holmes\" et \"deduction\", puis cherche un mot en relation similaire avec \"Watson\". L'analogie suit la logique de la formule B - A + C, où B et A sont des mots de référence, et C est le mot que l'on cherche à compléter en fonction de cette relation.\n",
        "Dans l'exemple, on essaie de compléter l'analogie \"Holmes est à deduction ce que Watson est à ?\", et le modèle retourne des mots similaires à \"deduction\" dans le contexte de \"Watson\", avec \"deduction\" lui-même étant le meilleur score (1.00). Les mots suivants sont des candidats moins proches, mais encore en lien avec l'analogie.\n",
        "\n"
      ],
      "metadata": {
        "id": "A_bV79tUACQj"
      }
    },
    {
      "cell_type": "markdown",
      "source": [
        "## Traduction avec tranformer"
      ],
      "metadata": {
        "id": "koXPIujo7eco"
      }
    },
    {
      "cell_type": "code",
      "source": [
        "!pip install transformers sentencepiece"
      ],
      "metadata": {
        "colab": {
          "base_uri": "https://localhost:8080/"
        },
        "id": "CeBQP-PQ765m",
        "outputId": "e3abaf35-ec9a-4dba-8de9-d3aeee5b8ef8"
      },
      "execution_count": null,
      "outputs": [
        {
          "output_type": "stream",
          "name": "stdout",
          "text": [
            "Requirement already satisfied: transformers in /usr/local/lib/python3.11/dist-packages (4.50.3)\n",
            "Requirement already satisfied: sentencepiece in /usr/local/lib/python3.11/dist-packages (0.2.0)\n",
            "Requirement already satisfied: filelock in /usr/local/lib/python3.11/dist-packages (from transformers) (3.18.0)\n",
            "Requirement already satisfied: huggingface-hub<1.0,>=0.26.0 in /usr/local/lib/python3.11/dist-packages (from transformers) (0.30.1)\n",
            "Requirement already satisfied: numpy>=1.17 in /usr/local/lib/python3.11/dist-packages (from transformers) (2.0.2)\n",
            "Requirement already satisfied: packaging>=20.0 in /usr/local/lib/python3.11/dist-packages (from transformers) (24.2)\n",
            "Requirement already satisfied: pyyaml>=5.1 in /usr/local/lib/python3.11/dist-packages (from transformers) (6.0.2)\n",
            "Requirement already satisfied: regex!=2019.12.17 in /usr/local/lib/python3.11/dist-packages (from transformers) (2024.11.6)\n",
            "Requirement already satisfied: requests in /usr/local/lib/python3.11/dist-packages (from transformers) (2.32.3)\n",
            "Requirement already satisfied: tokenizers<0.22,>=0.21 in /usr/local/lib/python3.11/dist-packages (from transformers) (0.21.1)\n",
            "Requirement already satisfied: safetensors>=0.4.3 in /usr/local/lib/python3.11/dist-packages (from transformers) (0.5.3)\n",
            "Requirement already satisfied: tqdm>=4.27 in /usr/local/lib/python3.11/dist-packages (from transformers) (4.67.1)\n",
            "Requirement already satisfied: fsspec>=2023.5.0 in /usr/local/lib/python3.11/dist-packages (from huggingface-hub<1.0,>=0.26.0->transformers) (2025.3.2)\n",
            "Requirement already satisfied: typing-extensions>=3.7.4.3 in /usr/local/lib/python3.11/dist-packages (from huggingface-hub<1.0,>=0.26.0->transformers) (4.13.1)\n",
            "Requirement already satisfied: charset-normalizer<4,>=2 in /usr/local/lib/python3.11/dist-packages (from requests->transformers) (3.4.1)\n",
            "Requirement already satisfied: idna<4,>=2.5 in /usr/local/lib/python3.11/dist-packages (from requests->transformers) (3.10)\n",
            "Requirement already satisfied: urllib3<3,>=1.21.1 in /usr/local/lib/python3.11/dist-packages (from requests->transformers) (2.3.0)\n",
            "Requirement already satisfied: certifi>=2017.4.17 in /usr/local/lib/python3.11/dist-packages (from requests->transformers) (2025.1.31)\n"
          ]
        }
      ]
    },
    {
      "cell_type": "code",
      "source": [
        "from transformers import MarianTokenizer, MarianMTModel\n",
        "\n",
        "# Charger le modèle pré-entraîné pour EN→FR\n",
        "model_name = 'Helsinki-NLP/opus-mt-en-fr'\n",
        "tokenizer = MarianTokenizer.from_pretrained(model_name)\n",
        "model = MarianMTModel.from_pretrained(model_name)"
      ],
      "metadata": {
        "colab": {
          "base_uri": "https://localhost:8080/"
        },
        "id": "ptQAbl5S8l-x",
        "outputId": "f8fa4b32-9669-4a90-ff8a-33843e98626b"
      },
      "execution_count": null,
      "outputs": [
        {
          "output_type": "stream",
          "name": "stderr",
          "text": [
            "/usr/local/lib/python3.11/dist-packages/huggingface_hub/file_download.py:896: FutureWarning: `resume_download` is deprecated and will be removed in version 1.0.0. Downloads always resume when possible. If you want to force a new download, use `force_download=True`.\n",
            "  warnings.warn(\n",
            "/usr/local/lib/python3.11/dist-packages/huggingface_hub/utils/_auth.py:94: UserWarning: \n",
            "The secret `HF_TOKEN` does not exist in your Colab secrets.\n",
            "To authenticate with the Hugging Face Hub, create a token in your settings tab (https://huggingface.co/settings/tokens), set it as secret in your Google Colab and restart your session.\n",
            "You will be able to reuse this secret in all of your notebooks.\n",
            "Please note that authentication is recommended but still optional to access public models or datasets.\n",
            "  warnings.warn(\n",
            "/usr/local/lib/python3.11/dist-packages/transformers/models/marian/tokenization_marian.py:194: UserWarning: Recommended: pip install sacremoses.\n",
            "  warnings.warn(\"Recommended: pip install sacremoses.\")\n"
          ]
        }
      ]
    },
    {
      "cell_type": "code",
      "source": [
        "import nltk\n",
        "nltk.download('punkt_tab')"
      ],
      "metadata": {
        "colab": {
          "base_uri": "https://localhost:8080/"
        },
        "id": "-0Bmhztk9TGk",
        "outputId": "7f590fdd-28fd-4e2e-cfc8-201ca7cdbc90"
      },
      "execution_count": null,
      "outputs": [
        {
          "output_type": "stream",
          "name": "stderr",
          "text": [
            "[nltk_data] Downloading package punkt_tab to /root/nltk_data...\n",
            "[nltk_data]   Unzipping tokenizers/punkt_tab.zip.\n"
          ]
        },
        {
          "output_type": "execute_result",
          "data": {
            "text/plain": [
              "True"
            ]
          },
          "metadata": {},
          "execution_count": 4
        }
      ]
    },
    {
      "cell_type": "code",
      "source": [
        "english_text = \"\"\"\n",
        "      Sherlock Holmes had, in a very remarkable degree, the power of\n",
        "      detaching his mind at will. For two hours the strange business in\n",
        "      which we had been involved appeared to be forgotten, and he was\n",
        "      entirely absorbed in the pictures of the modern Belgian masters.\n",
        "      He would talk of nothing but art, of which he had the crudest\n",
        "      ideas, from our leaving the gallery until we found ourselves at\n",
        "      the Northumberland Hotel.\n",
        "\"\"\"\n",
        "\n",
        "# Diviser en phrases (tu peux raffiner ça si nécessaire)\n",
        "from nltk.tokenize import sent_tokenize\n",
        "import nltk\n",
        "nltk.download('punkt')\n",
        "\n",
        "sentences = sent_tokenize(english_text)\n",
        "\n",
        "# Traduire phrase par phrase\n",
        "translations = []\n",
        "for sentence in sentences:\n",
        "    inputs = tokenizer(sentence, return_tensors=\"pt\", padding=True)\n",
        "    translated = model.generate(**inputs)\n",
        "    fr_text = tokenizer.decode(translated[0], skip_special_tokens=True)\n",
        "    translations.append(fr_text)\n",
        "\n",
        "# Afficher la traduction finale\n",
        "\n",
        "for fr in translations:\n",
        "    print(fr)"
      ],
      "metadata": {
        "colab": {
          "base_uri": "https://localhost:8080/"
        },
        "id": "Ej3e6gbd9ADg",
        "outputId": "a11c6fdc-a9ce-4443-fe4f-dc431751ba3a"
      },
      "execution_count": null,
      "outputs": [
        {
          "output_type": "stream",
          "name": "stderr",
          "text": [
            "[nltk_data] Downloading package punkt to /root/nltk_data...\n",
            "[nltk_data]   Package punkt is already up-to-date!\n",
            "/usr/local/lib/python3.11/dist-packages/transformers/generation/utils.py:1369: UserWarning: Using `max_length`'s default (512) to control the generation length. This behaviour is deprecated and will be removed from the config in v5 of Transformers -- we recommend using `max_new_tokens` to control the maximum length of the generation.\n",
            "  warnings.warn(\n"
          ]
        },
        {
          "output_type": "stream",
          "name": "stdout",
          "text": [
            "Sherlock Holmes avait, à un degré très remarquable, le pouvoir de détacher son esprit à volonté.\n",
            "Pendant deux heures, l'étrange affaire dans laquelle nous étions impliqués semblait être oubliée, et il était entièrement absorbé dans les images des maîtres belges modernes.\n",
            "Il ne parlait que de l'art, dont il avait les idées les plus grossières, depuis notre départ de la galerie jusqu'à ce que nous nous trouvions à l'hôtel Northumberland.\n"
          ]
        }
      ]
    },
    {
      "cell_type": "markdown",
      "source": [
        "Ce script utilise le modèle MarianMT (opus-mt-en-fr) de Helsinki-NLP, basé sur l'architecture Transformer, pour traduire automatiquement un texte anglais en français, phrase par phrase. Il encode chaque phrase, la traduit, puis décode le résultat."
      ],
      "metadata": {
        "id": "9t4XJ0ebDlCY"
      }
    },
    {
      "cell_type": "markdown",
      "source": [
        "## Enquete et recherche des mots-clés"
      ],
      "metadata": {
        "id": "Wpwg0fKTQfNJ"
      }
    },
    {
      "cell_type": "markdown",
      "source": [
        "### TF-IDF"
      ],
      "metadata": {
        "id": "LirMuGrUGCRX"
      }
    },
    {
      "cell_type": "code",
      "source": [
        "import re\n",
        "import requests\n",
        "from sklearn.feature_extraction.text import TfidfVectorizer\n",
        "import nltk\n",
        "from nltk.corpus import stopwords\n",
        "\n",
        "nltk.download('stopwords')\n",
        "\n",
        "url = \"https://www.gutenberg.org/cache/epub/2852/pg2852.txt\"\n",
        "raw_text = requests.get(url).text\n",
        "\n",
        "\n",
        "chapters = re.split(r\"Chapter\\s+\\d+\\.\", raw_text)[1:]\n",
        "chapters = [\"Chapter \" + str(i+1) + \". \" + chap for i, chap in enumerate(chapters)]\n",
        "\n",
        "# Utiliser les 3 premiers chapitres\n",
        "documents = chapters[:3]\n",
        "\n",
        "# Stopwords anglais\n",
        "stop_words = stopwords.words('english')\n",
        "\n",
        "# TF-IDF\n",
        "vectorizer = TfidfVectorizer(stop_words=stop_words, lowercase=True, max_df=0.9, min_df=2)\n",
        "X = vectorizer.fit_transform(documents)\n",
        "feature_names = vectorizer.get_feature_names_out()\n",
        "\n",
        "def top_keywords(chap_index, top_n=10):\n",
        "    row = X[chap_index].toarray().flatten()\n",
        "    top_indices = row.argsort()[-top_n:][::-1]\n",
        "    return [(feature_names[i], row[i]) for i in top_indices]\n",
        "\n",
        "# Afficher les mots-clés de tous les chapitres\n",
        "for i, doc in enumerate(documents):\n",
        "    print(f\"\\n Mots-clés du Chapitre {i+1} :\\n\")\n",
        "    for word, score in top_keywords(i):\n",
        "        print(f\" {word}: {score:.4f}\")\n"
      ],
      "metadata": {
        "colab": {
          "base_uri": "https://localhost:8080/"
        },
        "id": "ng3KNJXXRjKU",
        "outputId": "c7ff0125-3a27-4567-ea27-f8a2984517df"
      },
      "execution_count": null,
      "outputs": [
        {
          "output_type": "stream",
          "name": "stderr",
          "text": [
            "[nltk_data] Downloading package stopwords to /root/nltk_data...\n",
            "[nltk_data]   Package stopwords is already up-to-date!\n"
          ]
        },
        {
          "output_type": "stream",
          "name": "stdout",
          "text": [
            "\n",
            " Mots-clés du Chapitre 1 :\n",
            "\n",
            " think: 0.3392\n",
            " visitor: 0.2907\n",
            " dog: 0.2423\n",
            " cross: 0.1938\n",
            " give: 0.1938\n",
            " james: 0.1938\n",
            " hunt: 0.1938\n",
            " behind: 0.1454\n",
            " occasion: 0.1454\n",
            " fellow: 0.1454\n",
            "\n",
            " Mots-clés du Chapitre 2 :\n",
            "\n",
            " baskerville: 0.4565\n",
            " charles: 0.4017\n",
            " hall: 0.2739\n",
            " moor: 0.2374\n",
            " hugo: 0.2374\n",
            " time: 0.1826\n",
            " death: 0.1643\n",
            " hound: 0.1278\n",
            " body: 0.1096\n",
            " seen: 0.1096\n",
            "\n",
            " Mots-clés du Chapitre 3 :\n",
            "\n",
            " moor: 0.3615\n",
            " baskerville: 0.2840\n",
            " charles: 0.2324\n",
            " gate: 0.2066\n",
            " think: 0.1807\n",
            " henry: 0.1549\n",
            " marks: 0.1549\n",
            " day: 0.1549\n",
            " alley: 0.1549\n",
            " evening: 0.1549\n"
          ]
        }
      ]
    },
    {
      "cell_type": "code",
      "source": [
        "from sklearn.metrics.pairwise import cosine_similarity\n",
        "from nltk.tokenize import sent_tokenize\n",
        "from sklearn.feature_extraction.text import TfidfVectorizer\n",
        "\n",
        "\n",
        "#  Nettoyer + extraire les phrases\n",
        "sentences = sent_tokenize(raw_text)\n",
        "sentences = [s.strip() for s in sentences if len(s.strip()) > 30]  # éviter les phrases très courtes\n",
        "\n",
        "# TF-IDF vectorisation\n",
        "vectorizer = TfidfVectorizer().fit(sentences)\n",
        "sentence_vectors = vectorizer.transform(sentences)\n",
        "\n",
        "def ask_question(question, top_n=2):\n",
        "    print(f\"\\n Question : {question}\")\n",
        "    question_vec = vectorizer.transform([question])\n",
        "    # Use cosine_similarity from sklearn to handle sparse matrices\n",
        "    similarities = cosine_similarity(question_vec, sentence_vectors).flatten()\n",
        "    best_idx = similarities.argsort()[-top_n:][::-1]\n",
        "\n",
        "    print(\"\\n Réponse(s) la plus pertinente trouvée :\\n\")\n",
        "    for i in best_idx:\n",
        "        print( sentences[i], \"\\n\")\n",
        "\n",
        "# Pose tes questions !\n",
        "ask_question(\"Who went to Devonshire?\")\n",
        "ask_question(\"What did Holmes tell Watson?\")\n",
        "ask_question(\"What is Baskerville Hall?\")"
      ],
      "metadata": {
        "colab": {
          "base_uri": "https://localhost:8080/"
        },
        "id": "8JzfYcd_YKtG",
        "outputId": "2b418f55-dd3d-4033-a0a1-fbc561f157da"
      },
      "execution_count": null,
      "outputs": [
        {
          "output_type": "stream",
          "name": "stdout",
          "text": [
            "\n",
            " Question : Who went to Devonshire?\n",
            "\n",
            " Réponse(s) la plus pertinente trouvée :\n",
            "\n",
            "“The Stapletons then went down to Devonshire, whither they were\r\n",
            "      soon followed by Sir Henry and you. \n",
            "\n",
            "We hope very soon to return to Devonshire. \n",
            "\n",
            "\n",
            " Question : What did Holmes tell Watson?\n",
            "\n",
            " Réponse(s) la plus pertinente trouvée :\n",
            "\n",
            "Why should you mind what they call\r\n",
            "      it?”\r\n",
            "\r\n",
            "      “Tell me, Watson. \n",
            "\n",
            "“But, tell me, Watson, what do you make of\r\n",
            "      our visitor’s stick? \n",
            "\n",
            "\n",
            " Question : What is Baskerville Hall?\n",
            "\n",
            " Réponse(s) la plus pertinente trouvée :\n",
            "\n",
            "Address to Mr. Barrymore, Baskerville Hall. \n",
            "\n",
            "That is Baskerville\r\n",
            "      Hall in the middle.”\r\n",
            "\r\n",
            "      “With a wood round it?”\r\n",
            "\r\n",
            "      “Exactly. \n",
            "\n"
          ]
        }
      ]
    },
    {
      "cell_type": "markdown",
      "source": [
        "Combine TF-IDF et cosine similarity pour deux tâches principales :\n",
        "Extraction de mots-clés par chapitre (via TfidfVectorizer)\n",
        "et recherche de réponses dans le texte à des questions simples, en comparant leur similarité vectorielle avec toutes les phrases du roman.\n",
        "C’est une façon efficace de faire de la lecture automatique ou du question answering basique, sans modèle lourd."
      ],
      "metadata": {
        "id": "v7p47pteEyOg"
      }
    },
    {
      "cell_type": "markdown",
      "source": [
        "### QA with hugging face"
      ],
      "metadata": {
        "id": "x_C1nVekMA91"
      }
    },
    {
      "cell_type": "code",
      "source": [
        "from transformers import pipeline\n",
        "\n",
        "qa_pipeline = pipeline(\"question-answering\", model=\"deepset/roberta-base-squad2\")\n"
      ],
      "metadata": {
        "colab": {
          "base_uri": "https://localhost:8080/"
        },
        "id": "Qjibz7A4L_Ri",
        "outputId": "851246b9-577d-4abc-81f7-6a9f3d119e12"
      },
      "execution_count": null,
      "outputs": [
        {
          "output_type": "stream",
          "name": "stderr",
          "text": [
            "/usr/local/lib/python3.11/dist-packages/huggingface_hub/utils/_auth.py:94: UserWarning: \n",
            "The secret `HF_TOKEN` does not exist in your Colab secrets.\n",
            "To authenticate with the Hugging Face Hub, create a token in your settings tab (https://huggingface.co/settings/tokens), set it as secret in your Google Colab and restart your session.\n",
            "You will be able to reuse this secret in all of your notebooks.\n",
            "Please note that authentication is recommended but still optional to access public models or datasets.\n",
            "  warnings.warn(\n",
            "Device set to use cpu\n"
          ]
        }
      ]
    },
    {
      "cell_type": "code",
      "source": [
        "!pip install numpy==1.26.4\n",
        "!pip install torch==2.2.2 torchtext==0.17.2\n",
        "!pip install spacy==3.7.4\n",
        "!pip install transformers==4.39.3\n",
        "!pip install numpy==1.26.4\n",
        "!pip install torch==2.2.2 torchtext==0.17.2\n",
        "!pip install spacy==3.7.4\n",
        "!pip install transformers==4.39.3\n",
        "!pip install sentence-transformers\n",
        "!pip install tensorflow==2.18.0\n",
        "!pip install transformers==4.39.3\n",
        "!pip install sentence-transformers\n",
        "!pip install tensorflow==2.18.0\n"
      ],
      "metadata": {
        "colab": {
          "base_uri": "https://localhost:8080/"
        },
        "id": "84wk4zcKMpHq",
        "outputId": "8adb5772-aa7d-4a94-db91-6a0601263740"
      },
      "execution_count": null,
      "outputs": [
        {
          "output_type": "stream",
          "name": "stdout",
          "text": [
            "Requirement already satisfied: numpy==1.26.4 in /usr/local/lib/python3.11/dist-packages (1.26.4)\n",
            "Requirement already satisfied: torch==2.2.2 in /usr/local/lib/python3.11/dist-packages (2.2.2)\n",
            "Requirement already satisfied: torchtext==0.17.2 in /usr/local/lib/python3.11/dist-packages (0.17.2)\n",
            "Requirement already satisfied: filelock in /usr/local/lib/python3.11/dist-packages (from torch==2.2.2) (3.18.0)\n",
            "Requirement already satisfied: typing-extensions>=4.8.0 in /usr/local/lib/python3.11/dist-packages (from torch==2.2.2) (4.13.1)\n",
            "Requirement already satisfied: sympy in /usr/local/lib/python3.11/dist-packages (from torch==2.2.2) (1.13.1)\n",
            "Requirement already satisfied: networkx in /usr/local/lib/python3.11/dist-packages (from torch==2.2.2) (3.4.2)\n",
            "Requirement already satisfied: jinja2 in /usr/local/lib/python3.11/dist-packages (from torch==2.2.2) (3.1.6)\n",
            "Requirement already satisfied: fsspec in /usr/local/lib/python3.11/dist-packages (from torch==2.2.2) (2025.3.2)\n",
            "Requirement already satisfied: nvidia-cuda-nvrtc-cu12==12.1.105 in /usr/local/lib/python3.11/dist-packages (from torch==2.2.2) (12.1.105)\n",
            "Requirement already satisfied: nvidia-cuda-runtime-cu12==12.1.105 in /usr/local/lib/python3.11/dist-packages (from torch==2.2.2) (12.1.105)\n",
            "Requirement already satisfied: nvidia-cuda-cupti-cu12==12.1.105 in /usr/local/lib/python3.11/dist-packages (from torch==2.2.2) (12.1.105)\n",
            "Requirement already satisfied: nvidia-cudnn-cu12==8.9.2.26 in /usr/local/lib/python3.11/dist-packages (from torch==2.2.2) (8.9.2.26)\n",
            "Requirement already satisfied: nvidia-cublas-cu12==12.1.3.1 in /usr/local/lib/python3.11/dist-packages (from torch==2.2.2) (12.1.3.1)\n",
            "Requirement already satisfied: nvidia-cufft-cu12==11.0.2.54 in /usr/local/lib/python3.11/dist-packages (from torch==2.2.2) (11.0.2.54)\n",
            "Requirement already satisfied: nvidia-curand-cu12==10.3.2.106 in /usr/local/lib/python3.11/dist-packages (from torch==2.2.2) (10.3.2.106)\n",
            "Requirement already satisfied: nvidia-cusolver-cu12==11.4.5.107 in /usr/local/lib/python3.11/dist-packages (from torch==2.2.2) (11.4.5.107)\n",
            "Requirement already satisfied: nvidia-cusparse-cu12==12.1.0.106 in /usr/local/lib/python3.11/dist-packages (from torch==2.2.2) (12.1.0.106)\n",
            "Requirement already satisfied: nvidia-nccl-cu12==2.19.3 in /usr/local/lib/python3.11/dist-packages (from torch==2.2.2) (2.19.3)\n",
            "Requirement already satisfied: nvidia-nvtx-cu12==12.1.105 in /usr/local/lib/python3.11/dist-packages (from torch==2.2.2) (12.1.105)\n",
            "Requirement already satisfied: triton==2.2.0 in /usr/local/lib/python3.11/dist-packages (from torch==2.2.2) (2.2.0)\n",
            "Requirement already satisfied: tqdm in /usr/local/lib/python3.11/dist-packages (from torchtext==0.17.2) (4.67.1)\n",
            "Requirement already satisfied: requests in /usr/local/lib/python3.11/dist-packages (from torchtext==0.17.2) (2.32.3)\n",
            "Requirement already satisfied: numpy in /usr/local/lib/python3.11/dist-packages (from torchtext==0.17.2) (1.26.4)\n",
            "Requirement already satisfied: nvidia-nvjitlink-cu12 in /usr/local/lib/python3.11/dist-packages (from nvidia-cusolver-cu12==11.4.5.107->torch==2.2.2) (12.4.127)\n",
            "Requirement already satisfied: MarkupSafe>=2.0 in /usr/local/lib/python3.11/dist-packages (from jinja2->torch==2.2.2) (3.0.2)\n",
            "Requirement already satisfied: charset-normalizer<4,>=2 in /usr/local/lib/python3.11/dist-packages (from requests->torchtext==0.17.2) (3.4.1)\n",
            "Requirement already satisfied: idna<4,>=2.5 in /usr/local/lib/python3.11/dist-packages (from requests->torchtext==0.17.2) (3.10)\n",
            "Requirement already satisfied: urllib3<3,>=1.21.1 in /usr/local/lib/python3.11/dist-packages (from requests->torchtext==0.17.2) (2.3.0)\n",
            "Requirement already satisfied: certifi>=2017.4.17 in /usr/local/lib/python3.11/dist-packages (from requests->torchtext==0.17.2) (2025.1.31)\n",
            "Requirement already satisfied: mpmath<1.4,>=1.1.0 in /usr/local/lib/python3.11/dist-packages (from sympy->torch==2.2.2) (1.3.0)\n",
            "Requirement already satisfied: spacy==3.7.4 in /usr/local/lib/python3.11/dist-packages (3.7.4)\n",
            "Requirement already satisfied: spacy-legacy<3.1.0,>=3.0.11 in /usr/local/lib/python3.11/dist-packages (from spacy==3.7.4) (3.0.12)\n",
            "Requirement already satisfied: spacy-loggers<2.0.0,>=1.0.0 in /usr/local/lib/python3.11/dist-packages (from spacy==3.7.4) (1.0.5)\n",
            "Requirement already satisfied: murmurhash<1.1.0,>=0.28.0 in /usr/local/lib/python3.11/dist-packages (from spacy==3.7.4) (1.0.12)\n",
            "Requirement already satisfied: cymem<2.1.0,>=2.0.2 in /usr/local/lib/python3.11/dist-packages (from spacy==3.7.4) (2.0.11)\n",
            "Requirement already satisfied: preshed<3.1.0,>=3.0.2 in /usr/local/lib/python3.11/dist-packages (from spacy==3.7.4) (3.0.9)\n",
            "Requirement already satisfied: thinc<8.3.0,>=8.2.2 in /usr/local/lib/python3.11/dist-packages (from spacy==3.7.4) (8.2.5)\n",
            "Requirement already satisfied: wasabi<1.2.0,>=0.9.1 in /usr/local/lib/python3.11/dist-packages (from spacy==3.7.4) (1.1.3)\n",
            "Requirement already satisfied: srsly<3.0.0,>=2.4.3 in /usr/local/lib/python3.11/dist-packages (from spacy==3.7.4) (2.5.1)\n",
            "Requirement already satisfied: catalogue<2.1.0,>=2.0.6 in /usr/local/lib/python3.11/dist-packages (from spacy==3.7.4) (2.0.10)\n",
            "Requirement already satisfied: weasel<0.4.0,>=0.1.0 in /usr/local/lib/python3.11/dist-packages (from spacy==3.7.4) (0.3.4)\n",
            "Requirement already satisfied: typer<0.10.0,>=0.3.0 in /usr/local/lib/python3.11/dist-packages (from spacy==3.7.4) (0.9.4)\n",
            "Requirement already satisfied: smart-open<7.0.0,>=5.2.1 in /usr/local/lib/python3.11/dist-packages (from spacy==3.7.4) (6.4.0)\n",
            "Requirement already satisfied: tqdm<5.0.0,>=4.38.0 in /usr/local/lib/python3.11/dist-packages (from spacy==3.7.4) (4.67.1)\n",
            "Requirement already satisfied: requests<3.0.0,>=2.13.0 in /usr/local/lib/python3.11/dist-packages (from spacy==3.7.4) (2.32.3)\n",
            "Requirement already satisfied: pydantic!=1.8,!=1.8.1,<3.0.0,>=1.7.4 in /usr/local/lib/python3.11/dist-packages (from spacy==3.7.4) (2.11.2)\n",
            "Requirement already satisfied: jinja2 in /usr/local/lib/python3.11/dist-packages (from spacy==3.7.4) (3.1.6)\n",
            "Requirement already satisfied: setuptools in /usr/local/lib/python3.11/dist-packages (from spacy==3.7.4) (75.2.0)\n",
            "Requirement already satisfied: packaging>=20.0 in /usr/local/lib/python3.11/dist-packages (from spacy==3.7.4) (24.2)\n",
            "Requirement already satisfied: langcodes<4.0.0,>=3.2.0 in /usr/local/lib/python3.11/dist-packages (from spacy==3.7.4) (3.5.0)\n",
            "Requirement already satisfied: numpy>=1.19.0 in /usr/local/lib/python3.11/dist-packages (from spacy==3.7.4) (1.26.4)\n",
            "Requirement already satisfied: language-data>=1.2 in /usr/local/lib/python3.11/dist-packages (from langcodes<4.0.0,>=3.2.0->spacy==3.7.4) (1.3.0)\n",
            "Requirement already satisfied: annotated-types>=0.6.0 in /usr/local/lib/python3.11/dist-packages (from pydantic!=1.8,!=1.8.1,<3.0.0,>=1.7.4->spacy==3.7.4) (0.7.0)\n",
            "Requirement already satisfied: pydantic-core==2.33.1 in /usr/local/lib/python3.11/dist-packages (from pydantic!=1.8,!=1.8.1,<3.0.0,>=1.7.4->spacy==3.7.4) (2.33.1)\n",
            "Requirement already satisfied: typing-extensions>=4.12.2 in /usr/local/lib/python3.11/dist-packages (from pydantic!=1.8,!=1.8.1,<3.0.0,>=1.7.4->spacy==3.7.4) (4.13.1)\n",
            "Requirement already satisfied: typing-inspection>=0.4.0 in /usr/local/lib/python3.11/dist-packages (from pydantic!=1.8,!=1.8.1,<3.0.0,>=1.7.4->spacy==3.7.4) (0.4.0)\n",
            "Requirement already satisfied: charset-normalizer<4,>=2 in /usr/local/lib/python3.11/dist-packages (from requests<3.0.0,>=2.13.0->spacy==3.7.4) (3.4.1)\n",
            "Requirement already satisfied: idna<4,>=2.5 in /usr/local/lib/python3.11/dist-packages (from requests<3.0.0,>=2.13.0->spacy==3.7.4) (3.10)\n",
            "Requirement already satisfied: urllib3<3,>=1.21.1 in /usr/local/lib/python3.11/dist-packages (from requests<3.0.0,>=2.13.0->spacy==3.7.4) (2.3.0)\n",
            "Requirement already satisfied: certifi>=2017.4.17 in /usr/local/lib/python3.11/dist-packages (from requests<3.0.0,>=2.13.0->spacy==3.7.4) (2025.1.31)\n",
            "Requirement already satisfied: blis<0.8.0,>=0.7.8 in /usr/local/lib/python3.11/dist-packages (from thinc<8.3.0,>=8.2.2->spacy==3.7.4) (0.7.11)\n",
            "Requirement already satisfied: confection<1.0.0,>=0.0.1 in /usr/local/lib/python3.11/dist-packages (from thinc<8.3.0,>=8.2.2->spacy==3.7.4) (0.1.5)\n",
            "Requirement already satisfied: click<9.0.0,>=7.1.1 in /usr/local/lib/python3.11/dist-packages (from typer<0.10.0,>=0.3.0->spacy==3.7.4) (8.1.8)\n",
            "Requirement already satisfied: cloudpathlib<0.17.0,>=0.7.0 in /usr/local/lib/python3.11/dist-packages (from weasel<0.4.0,>=0.1.0->spacy==3.7.4) (0.16.0)\n",
            "Requirement already satisfied: MarkupSafe>=2.0 in /usr/local/lib/python3.11/dist-packages (from jinja2->spacy==3.7.4) (3.0.2)\n",
            "Requirement already satisfied: marisa-trie>=1.1.0 in /usr/local/lib/python3.11/dist-packages (from language-data>=1.2->langcodes<4.0.0,>=3.2.0->spacy==3.7.4) (1.2.1)\n",
            "Collecting transformers==4.39.3\n",
            "  Using cached transformers-4.39.3-py3-none-any.whl.metadata (134 kB)\n",
            "Requirement already satisfied: filelock in /usr/local/lib/python3.11/dist-packages (from transformers==4.39.3) (3.18.0)\n",
            "Requirement already satisfied: huggingface-hub<1.0,>=0.19.3 in /usr/local/lib/python3.11/dist-packages (from transformers==4.39.3) (0.30.1)\n",
            "Requirement already satisfied: numpy>=1.17 in /usr/local/lib/python3.11/dist-packages (from transformers==4.39.3) (1.26.4)\n",
            "Requirement already satisfied: packaging>=20.0 in /usr/local/lib/python3.11/dist-packages (from transformers==4.39.3) (24.2)\n",
            "Requirement already satisfied: pyyaml>=5.1 in /usr/local/lib/python3.11/dist-packages (from transformers==4.39.3) (6.0.2)\n",
            "Requirement already satisfied: regex!=2019.12.17 in /usr/local/lib/python3.11/dist-packages (from transformers==4.39.3) (2024.11.6)\n",
            "Requirement already satisfied: requests in /usr/local/lib/python3.11/dist-packages (from transformers==4.39.3) (2.32.3)\n",
            "Collecting tokenizers<0.19,>=0.14 (from transformers==4.39.3)\n",
            "  Using cached tokenizers-0.15.2-cp311-cp311-manylinux_2_17_x86_64.manylinux2014_x86_64.whl.metadata (6.7 kB)\n",
            "Requirement already satisfied: safetensors>=0.4.1 in /usr/local/lib/python3.11/dist-packages (from transformers==4.39.3) (0.5.3)\n",
            "Requirement already satisfied: tqdm>=4.27 in /usr/local/lib/python3.11/dist-packages (from transformers==4.39.3) (4.67.1)\n",
            "Requirement already satisfied: fsspec>=2023.5.0 in /usr/local/lib/python3.11/dist-packages (from huggingface-hub<1.0,>=0.19.3->transformers==4.39.3) (2025.3.2)\n",
            "Requirement already satisfied: typing-extensions>=3.7.4.3 in /usr/local/lib/python3.11/dist-packages (from huggingface-hub<1.0,>=0.19.3->transformers==4.39.3) (4.13.1)\n",
            "Requirement already satisfied: charset-normalizer<4,>=2 in /usr/local/lib/python3.11/dist-packages (from requests->transformers==4.39.3) (3.4.1)\n",
            "Requirement already satisfied: idna<4,>=2.5 in /usr/local/lib/python3.11/dist-packages (from requests->transformers==4.39.3) (3.10)\n",
            "Requirement already satisfied: urllib3<3,>=1.21.1 in /usr/local/lib/python3.11/dist-packages (from requests->transformers==4.39.3) (2.3.0)\n",
            "Requirement already satisfied: certifi>=2017.4.17 in /usr/local/lib/python3.11/dist-packages (from requests->transformers==4.39.3) (2025.1.31)\n",
            "Using cached transformers-4.39.3-py3-none-any.whl (8.8 MB)\n",
            "Downloading tokenizers-0.15.2-cp311-cp311-manylinux_2_17_x86_64.manylinux2014_x86_64.whl (3.6 MB)\n",
            "\u001b[2K   \u001b[90m━━━━━━━━━━━━━━━━━━━━━━━━━━━━━━━━━━━━━━━━\u001b[0m \u001b[32m3.6/3.6 MB\u001b[0m \u001b[31m22.8 MB/s\u001b[0m eta \u001b[36m0:00:00\u001b[0m\n",
            "\u001b[?25hInstalling collected packages: tokenizers, transformers\n",
            "  Attempting uninstall: tokenizers\n",
            "    Found existing installation: tokenizers 0.21.1\n",
            "    Uninstalling tokenizers-0.21.1:\n",
            "      Successfully uninstalled tokenizers-0.21.1\n",
            "  Attempting uninstall: transformers\n",
            "    Found existing installation: transformers 4.50.3\n",
            "    Uninstalling transformers-4.50.3:\n",
            "      Successfully uninstalled transformers-4.50.3\n",
            "\u001b[31mERROR: pip's dependency resolver does not currently take into account all the packages that are installed. This behaviour is the source of the following dependency conflicts.\n",
            "sentence-transformers 4.0.2 requires transformers<5.0.0,>=4.41.0, but you have transformers 4.39.3 which is incompatible.\u001b[0m\u001b[31m\n",
            "\u001b[0mSuccessfully installed tokenizers-0.15.2 transformers-4.39.3\n",
            "Requirement already satisfied: numpy==1.26.4 in /usr/local/lib/python3.11/dist-packages (1.26.4)\n",
            "Requirement already satisfied: torch==2.2.2 in /usr/local/lib/python3.11/dist-packages (2.2.2)\n",
            "Requirement already satisfied: torchtext==0.17.2 in /usr/local/lib/python3.11/dist-packages (0.17.2)\n",
            "Requirement already satisfied: filelock in /usr/local/lib/python3.11/dist-packages (from torch==2.2.2) (3.18.0)\n",
            "Requirement already satisfied: typing-extensions>=4.8.0 in /usr/local/lib/python3.11/dist-packages (from torch==2.2.2) (4.13.1)\n",
            "Requirement already satisfied: sympy in /usr/local/lib/python3.11/dist-packages (from torch==2.2.2) (1.13.1)\n",
            "Requirement already satisfied: networkx in /usr/local/lib/python3.11/dist-packages (from torch==2.2.2) (3.4.2)\n",
            "Requirement already satisfied: jinja2 in /usr/local/lib/python3.11/dist-packages (from torch==2.2.2) (3.1.6)\n",
            "Requirement already satisfied: fsspec in /usr/local/lib/python3.11/dist-packages (from torch==2.2.2) (2025.3.2)\n",
            "Requirement already satisfied: nvidia-cuda-nvrtc-cu12==12.1.105 in /usr/local/lib/python3.11/dist-packages (from torch==2.2.2) (12.1.105)\n",
            "Requirement already satisfied: nvidia-cuda-runtime-cu12==12.1.105 in /usr/local/lib/python3.11/dist-packages (from torch==2.2.2) (12.1.105)\n",
            "Requirement already satisfied: nvidia-cuda-cupti-cu12==12.1.105 in /usr/local/lib/python3.11/dist-packages (from torch==2.2.2) (12.1.105)\n",
            "Requirement already satisfied: nvidia-cudnn-cu12==8.9.2.26 in /usr/local/lib/python3.11/dist-packages (from torch==2.2.2) (8.9.2.26)\n",
            "Requirement already satisfied: nvidia-cublas-cu12==12.1.3.1 in /usr/local/lib/python3.11/dist-packages (from torch==2.2.2) (12.1.3.1)\n",
            "Requirement already satisfied: nvidia-cufft-cu12==11.0.2.54 in /usr/local/lib/python3.11/dist-packages (from torch==2.2.2) (11.0.2.54)\n",
            "Requirement already satisfied: nvidia-curand-cu12==10.3.2.106 in /usr/local/lib/python3.11/dist-packages (from torch==2.2.2) (10.3.2.106)\n",
            "Requirement already satisfied: nvidia-cusolver-cu12==11.4.5.107 in /usr/local/lib/python3.11/dist-packages (from torch==2.2.2) (11.4.5.107)\n",
            "Requirement already satisfied: nvidia-cusparse-cu12==12.1.0.106 in /usr/local/lib/python3.11/dist-packages (from torch==2.2.2) (12.1.0.106)\n",
            "Requirement already satisfied: nvidia-nccl-cu12==2.19.3 in /usr/local/lib/python3.11/dist-packages (from torch==2.2.2) (2.19.3)\n",
            "Requirement already satisfied: nvidia-nvtx-cu12==12.1.105 in /usr/local/lib/python3.11/dist-packages (from torch==2.2.2) (12.1.105)\n",
            "Requirement already satisfied: triton==2.2.0 in /usr/local/lib/python3.11/dist-packages (from torch==2.2.2) (2.2.0)\n",
            "Requirement already satisfied: tqdm in /usr/local/lib/python3.11/dist-packages (from torchtext==0.17.2) (4.67.1)\n",
            "Requirement already satisfied: requests in /usr/local/lib/python3.11/dist-packages (from torchtext==0.17.2) (2.32.3)\n",
            "Requirement already satisfied: numpy in /usr/local/lib/python3.11/dist-packages (from torchtext==0.17.2) (1.26.4)\n",
            "Requirement already satisfied: nvidia-nvjitlink-cu12 in /usr/local/lib/python3.11/dist-packages (from nvidia-cusolver-cu12==11.4.5.107->torch==2.2.2) (12.4.127)\n",
            "Requirement already satisfied: MarkupSafe>=2.0 in /usr/local/lib/python3.11/dist-packages (from jinja2->torch==2.2.2) (3.0.2)\n",
            "Requirement already satisfied: charset-normalizer<4,>=2 in /usr/local/lib/python3.11/dist-packages (from requests->torchtext==0.17.2) (3.4.1)\n",
            "Requirement already satisfied: idna<4,>=2.5 in /usr/local/lib/python3.11/dist-packages (from requests->torchtext==0.17.2) (3.10)\n",
            "Requirement already satisfied: urllib3<3,>=1.21.1 in /usr/local/lib/python3.11/dist-packages (from requests->torchtext==0.17.2) (2.3.0)\n",
            "Requirement already satisfied: certifi>=2017.4.17 in /usr/local/lib/python3.11/dist-packages (from requests->torchtext==0.17.2) (2025.1.31)\n",
            "Requirement already satisfied: mpmath<1.4,>=1.1.0 in /usr/local/lib/python3.11/dist-packages (from sympy->torch==2.2.2) (1.3.0)\n",
            "\u001b[31mERROR: Operation cancelled by user\u001b[0m\u001b[31m\n",
            "\u001b[0mRequirement already satisfied: spacy==3.7.4 in /usr/local/lib/python3.11/dist-packages (3.7.4)\n",
            "Requirement already satisfied: spacy-legacy<3.1.0,>=3.0.11 in /usr/local/lib/python3.11/dist-packages (from spacy==3.7.4) (3.0.12)\n",
            "Requirement already satisfied: spacy-loggers<2.0.0,>=1.0.0 in /usr/local/lib/python3.11/dist-packages (from spacy==3.7.4) (1.0.5)\n",
            "Requirement already satisfied: murmurhash<1.1.0,>=0.28.0 in /usr/local/lib/python3.11/dist-packages (from spacy==3.7.4) (1.0.12)\n",
            "Requirement already satisfied: cymem<2.1.0,>=2.0.2 in /usr/local/lib/python3.11/dist-packages (from spacy==3.7.4) (2.0.11)\n",
            "Requirement already satisfied: preshed<3.1.0,>=3.0.2 in /usr/local/lib/python3.11/dist-packages (from spacy==3.7.4) (3.0.9)\n",
            "Requirement already satisfied: thinc<8.3.0,>=8.2.2 in /usr/local/lib/python3.11/dist-packages (from spacy==3.7.4) (8.2.5)\n",
            "Requirement already satisfied: wasabi<1.2.0,>=0.9.1 in /usr/local/lib/python3.11/dist-packages (from spacy==3.7.4) (1.1.3)\n",
            "Requirement already satisfied: srsly<3.0.0,>=2.4.3 in /usr/local/lib/python3.11/dist-packages (from spacy==3.7.4) (2.5.1)\n",
            "Requirement already satisfied: catalogue<2.1.0,>=2.0.6 in /usr/local/lib/python3.11/dist-packages (from spacy==3.7.4) (2.0.10)\n",
            "Requirement already satisfied: weasel<0.4.0,>=0.1.0 in /usr/local/lib/python3.11/dist-packages (from spacy==3.7.4) (0.3.4)\n",
            "Requirement already satisfied: typer<0.10.0,>=0.3.0 in /usr/local/lib/python3.11/dist-packages (from spacy==3.7.4) (0.9.4)\n",
            "Requirement already satisfied: smart-open<7.0.0,>=5.2.1 in /usr/local/lib/python3.11/dist-packages (from spacy==3.7.4) (6.4.0)\n",
            "Requirement already satisfied: tqdm<5.0.0,>=4.38.0 in /usr/local/lib/python3.11/dist-packages (from spacy==3.7.4) (4.67.1)\n",
            "Requirement already satisfied: requests<3.0.0,>=2.13.0 in /usr/local/lib/python3.11/dist-packages (from spacy==3.7.4) (2.32.3)\n",
            "Requirement already satisfied: pydantic!=1.8,!=1.8.1,<3.0.0,>=1.7.4 in /usr/local/lib/python3.11/dist-packages (from spacy==3.7.4) (2.11.2)\n",
            "Requirement already satisfied: jinja2 in /usr/local/lib/python3.11/dist-packages (from spacy==3.7.4) (3.1.6)\n",
            "Requirement already satisfied: setuptools in /usr/local/lib/python3.11/dist-packages (from spacy==3.7.4) (75.2.0)\n",
            "Requirement already satisfied: packaging>=20.0 in /usr/local/lib/python3.11/dist-packages (from spacy==3.7.4) (24.2)\n",
            "Requirement already satisfied: langcodes<4.0.0,>=3.2.0 in /usr/local/lib/python3.11/dist-packages (from spacy==3.7.4) (3.5.0)\n",
            "Requirement already satisfied: numpy>=1.19.0 in /usr/local/lib/python3.11/dist-packages (from spacy==3.7.4) (1.26.4)\n",
            "Requirement already satisfied: language-data>=1.2 in /usr/local/lib/python3.11/dist-packages (from langcodes<4.0.0,>=3.2.0->spacy==3.7.4) (1.3.0)\n",
            "Requirement already satisfied: annotated-types>=0.6.0 in /usr/local/lib/python3.11/dist-packages (from pydantic!=1.8,!=1.8.1,<3.0.0,>=1.7.4->spacy==3.7.4) (0.7.0)\n",
            "Requirement already satisfied: pydantic-core==2.33.1 in /usr/local/lib/python3.11/dist-packages (from pydantic!=1.8,!=1.8.1,<3.0.0,>=1.7.4->spacy==3.7.4) (2.33.1)\n",
            "Requirement already satisfied: typing-extensions>=4.12.2 in /usr/local/lib/python3.11/dist-packages (from pydantic!=1.8,!=1.8.1,<3.0.0,>=1.7.4->spacy==3.7.4) (4.13.1)\n",
            "Requirement already satisfied: typing-inspection>=0.4.0 in /usr/local/lib/python3.11/dist-packages (from pydantic!=1.8,!=1.8.1,<3.0.0,>=1.7.4->spacy==3.7.4) (0.4.0)\n",
            "Requirement already satisfied: charset-normalizer<4,>=2 in /usr/local/lib/python3.11/dist-packages (from requests<3.0.0,>=2.13.0->spacy==3.7.4) (3.4.1)\n",
            "Requirement already satisfied: idna<4,>=2.5 in /usr/local/lib/python3.11/dist-packages (from requests<3.0.0,>=2.13.0->spacy==3.7.4) (3.10)\n",
            "Requirement already satisfied: urllib3<3,>=1.21.1 in /usr/local/lib/python3.11/dist-packages (from requests<3.0.0,>=2.13.0->spacy==3.7.4) (2.3.0)\n",
            "Requirement already satisfied: certifi>=2017.4.17 in /usr/local/lib/python3.11/dist-packages (from requests<3.0.0,>=2.13.0->spacy==3.7.4) (2025.1.31)\n",
            "Requirement already satisfied: blis<0.8.0,>=0.7.8 in /usr/local/lib/python3.11/dist-packages (from thinc<8.3.0,>=8.2.2->spacy==3.7.4) (0.7.11)\n",
            "Requirement already satisfied: confection<1.0.0,>=0.0.1 in /usr/local/lib/python3.11/dist-packages (from thinc<8.3.0,>=8.2.2->spacy==3.7.4) (0.1.5)\n",
            "Requirement already satisfied: click<9.0.0,>=7.1.1 in /usr/local/lib/python3.11/dist-packages (from typer<0.10.0,>=0.3.0->spacy==3.7.4) (8.1.8)\n",
            "Requirement already satisfied: cloudpathlib<0.17.0,>=0.7.0 in /usr/local/lib/python3.11/dist-packages (from weasel<0.4.0,>=0.1.0->spacy==3.7.4) (0.16.0)\n",
            "Requirement already satisfied: MarkupSafe>=2.0 in /usr/local/lib/python3.11/dist-packages (from jinja2->spacy==3.7.4) (3.0.2)\n",
            "Requirement already satisfied: marisa-trie>=1.1.0 in /usr/local/lib/python3.11/dist-packages (from language-data>=1.2->langcodes<4.0.0,>=3.2.0->spacy==3.7.4) (1.2.1)\n",
            "Requirement already satisfied: transformers==4.39.3 in /usr/local/lib/python3.11/dist-packages (4.39.3)\n",
            "Requirement already satisfied: filelock in /usr/local/lib/python3.11/dist-packages (from transformers==4.39.3) (3.18.0)\n",
            "Requirement already satisfied: huggingface-hub<1.0,>=0.19.3 in /usr/local/lib/python3.11/dist-packages (from transformers==4.39.3) (0.30.1)\n",
            "Requirement already satisfied: numpy>=1.17 in /usr/local/lib/python3.11/dist-packages (from transformers==4.39.3) (1.26.4)\n",
            "Requirement already satisfied: packaging>=20.0 in /usr/local/lib/python3.11/dist-packages (from transformers==4.39.3) (24.2)\n",
            "Requirement already satisfied: pyyaml>=5.1 in /usr/local/lib/python3.11/dist-packages (from transformers==4.39.3) (6.0.2)\n",
            "Requirement already satisfied: regex!=2019.12.17 in /usr/local/lib/python3.11/dist-packages (from transformers==4.39.3) (2024.11.6)\n",
            "Requirement already satisfied: requests in /usr/local/lib/python3.11/dist-packages (from transformers==4.39.3) (2.32.3)\n",
            "Requirement already satisfied: tokenizers<0.19,>=0.14 in /usr/local/lib/python3.11/dist-packages (from transformers==4.39.3) (0.15.2)\n",
            "Requirement already satisfied: safetensors>=0.4.1 in /usr/local/lib/python3.11/dist-packages (from transformers==4.39.3) (0.5.3)\n",
            "Requirement already satisfied: tqdm>=4.27 in /usr/local/lib/python3.11/dist-packages (from transformers==4.39.3) (4.67.1)\n",
            "Requirement already satisfied: fsspec>=2023.5.0 in /usr/local/lib/python3.11/dist-packages (from huggingface-hub<1.0,>=0.19.3->transformers==4.39.3) (2025.3.2)\n",
            "Requirement already satisfied: typing-extensions>=3.7.4.3 in /usr/local/lib/python3.11/dist-packages (from huggingface-hub<1.0,>=0.19.3->transformers==4.39.3) (4.13.1)\n",
            "Requirement already satisfied: charset-normalizer<4,>=2 in /usr/local/lib/python3.11/dist-packages (from requests->transformers==4.39.3) (3.4.1)\n",
            "Requirement already satisfied: idna<4,>=2.5 in /usr/local/lib/python3.11/dist-packages (from requests->transformers==4.39.3) (3.10)\n",
            "Requirement already satisfied: urllib3<3,>=1.21.1 in /usr/local/lib/python3.11/dist-packages (from requests->transformers==4.39.3) (2.3.0)\n",
            "Requirement already satisfied: certifi>=2017.4.17 in /usr/local/lib/python3.11/dist-packages (from requests->transformers==4.39.3) (2025.1.31)\n",
            "Requirement already satisfied: sentence-transformers in /usr/local/lib/python3.11/dist-packages (4.0.2)\n",
            "Collecting transformers<5.0.0,>=4.41.0 (from sentence-transformers)\n",
            "  Downloading transformers-4.51.2-py3-none-any.whl.metadata (38 kB)\n",
            "Requirement already satisfied: tqdm in /usr/local/lib/python3.11/dist-packages (from sentence-transformers) (4.67.1)\n",
            "Requirement already satisfied: torch>=1.11.0 in /usr/local/lib/python3.11/dist-packages (from sentence-transformers) (2.2.2)\n",
            "Requirement already satisfied: scikit-learn in /usr/local/lib/python3.11/dist-packages (from sentence-transformers) (1.6.1)\n",
            "Requirement already satisfied: scipy in /usr/local/lib/python3.11/dist-packages (from sentence-transformers) (1.14.1)\n",
            "Requirement already satisfied: huggingface-hub>=0.20.0 in /usr/local/lib/python3.11/dist-packages (from sentence-transformers) (0.30.1)\n",
            "Requirement already satisfied: Pillow in /usr/local/lib/python3.11/dist-packages (from sentence-transformers) (11.1.0)\n",
            "Requirement already satisfied: typing_extensions>=4.5.0 in /usr/local/lib/python3.11/dist-packages (from sentence-transformers) (4.13.1)\n",
            "Requirement already satisfied: filelock in /usr/local/lib/python3.11/dist-packages (from huggingface-hub>=0.20.0->sentence-transformers) (3.18.0)\n",
            "Requirement already satisfied: fsspec>=2023.5.0 in /usr/local/lib/python3.11/dist-packages (from huggingface-hub>=0.20.0->sentence-transformers) (2025.3.2)\n",
            "Requirement already satisfied: packaging>=20.9 in /usr/local/lib/python3.11/dist-packages (from huggingface-hub>=0.20.0->sentence-transformers) (24.2)\n",
            "Requirement already satisfied: pyyaml>=5.1 in /usr/local/lib/python3.11/dist-packages (from huggingface-hub>=0.20.0->sentence-transformers) (6.0.2)\n",
            "Requirement already satisfied: requests in /usr/local/lib/python3.11/dist-packages (from huggingface-hub>=0.20.0->sentence-transformers) (2.32.3)\n",
            "Requirement already satisfied: sympy in /usr/local/lib/python3.11/dist-packages (from torch>=1.11.0->sentence-transformers) (1.13.1)\n",
            "Requirement already satisfied: networkx in /usr/local/lib/python3.11/dist-packages (from torch>=1.11.0->sentence-transformers) (3.4.2)\n",
            "Requirement already satisfied: jinja2 in /usr/local/lib/python3.11/dist-packages (from torch>=1.11.0->sentence-transformers) (3.1.6)\n",
            "Requirement already satisfied: nvidia-cuda-nvrtc-cu12==12.1.105 in /usr/local/lib/python3.11/dist-packages (from torch>=1.11.0->sentence-transformers) (12.1.105)\n",
            "Requirement already satisfied: nvidia-cuda-runtime-cu12==12.1.105 in /usr/local/lib/python3.11/dist-packages (from torch>=1.11.0->sentence-transformers) (12.1.105)\n",
            "Requirement already satisfied: nvidia-cuda-cupti-cu12==12.1.105 in /usr/local/lib/python3.11/dist-packages (from torch>=1.11.0->sentence-transformers) (12.1.105)\n",
            "Requirement already satisfied: nvidia-cudnn-cu12==8.9.2.26 in /usr/local/lib/python3.11/dist-packages (from torch>=1.11.0->sentence-transformers) (8.9.2.26)\n",
            "Requirement already satisfied: nvidia-cublas-cu12==12.1.3.1 in /usr/local/lib/python3.11/dist-packages (from torch>=1.11.0->sentence-transformers) (12.1.3.1)\n",
            "Requirement already satisfied: nvidia-cufft-cu12==11.0.2.54 in /usr/local/lib/python3.11/dist-packages (from torch>=1.11.0->sentence-transformers) (11.0.2.54)\n",
            "Requirement already satisfied: nvidia-curand-cu12==10.3.2.106 in /usr/local/lib/python3.11/dist-packages (from torch>=1.11.0->sentence-transformers) (10.3.2.106)\n",
            "Requirement already satisfied: nvidia-cusolver-cu12==11.4.5.107 in /usr/local/lib/python3.11/dist-packages (from torch>=1.11.0->sentence-transformers) (11.4.5.107)\n",
            "Requirement already satisfied: nvidia-cusparse-cu12==12.1.0.106 in /usr/local/lib/python3.11/dist-packages (from torch>=1.11.0->sentence-transformers) (12.1.0.106)\n",
            "Requirement already satisfied: nvidia-nccl-cu12==2.19.3 in /usr/local/lib/python3.11/dist-packages (from torch>=1.11.0->sentence-transformers) (2.19.3)\n",
            "Requirement already satisfied: nvidia-nvtx-cu12==12.1.105 in /usr/local/lib/python3.11/dist-packages (from torch>=1.11.0->sentence-transformers) (12.1.105)\n",
            "Requirement already satisfied: triton==2.2.0 in /usr/local/lib/python3.11/dist-packages (from torch>=1.11.0->sentence-transformers) (2.2.0)\n",
            "Requirement already satisfied: nvidia-nvjitlink-cu12 in /usr/local/lib/python3.11/dist-packages (from nvidia-cusolver-cu12==11.4.5.107->torch>=1.11.0->sentence-transformers) (12.4.127)\n",
            "Requirement already satisfied: numpy>=1.17 in /usr/local/lib/python3.11/dist-packages (from transformers<5.0.0,>=4.41.0->sentence-transformers) (1.26.4)\n",
            "Requirement already satisfied: regex!=2019.12.17 in /usr/local/lib/python3.11/dist-packages (from transformers<5.0.0,>=4.41.0->sentence-transformers) (2024.11.6)\n",
            "Collecting tokenizers<0.22,>=0.21 (from transformers<5.0.0,>=4.41.0->sentence-transformers)\n",
            "  Downloading tokenizers-0.21.1-cp39-abi3-manylinux_2_17_x86_64.manylinux2014_x86_64.whl.metadata (6.8 kB)\n",
            "Requirement already satisfied: safetensors>=0.4.3 in /usr/local/lib/python3.11/dist-packages (from transformers<5.0.0,>=4.41.0->sentence-transformers) (0.5.3)\n",
            "Requirement already satisfied: joblib>=1.2.0 in /usr/local/lib/python3.11/dist-packages (from scikit-learn->sentence-transformers) (1.4.2)\n",
            "Requirement already satisfied: threadpoolctl>=3.1.0 in /usr/local/lib/python3.11/dist-packages (from scikit-learn->sentence-transformers) (3.6.0)\n",
            "Requirement already satisfied: MarkupSafe>=2.0 in /usr/local/lib/python3.11/dist-packages (from jinja2->torch>=1.11.0->sentence-transformers) (3.0.2)\n",
            "Requirement already satisfied: charset-normalizer<4,>=2 in /usr/local/lib/python3.11/dist-packages (from requests->huggingface-hub>=0.20.0->sentence-transformers) (3.4.1)\n",
            "Requirement already satisfied: idna<4,>=2.5 in /usr/local/lib/python3.11/dist-packages (from requests->huggingface-hub>=0.20.0->sentence-transformers) (3.10)\n",
            "Requirement already satisfied: urllib3<3,>=1.21.1 in /usr/local/lib/python3.11/dist-packages (from requests->huggingface-hub>=0.20.0->sentence-transformers) (2.3.0)\n",
            "Requirement already satisfied: certifi>=2017.4.17 in /usr/local/lib/python3.11/dist-packages (from requests->huggingface-hub>=0.20.0->sentence-transformers) (2025.1.31)\n",
            "Requirement already satisfied: mpmath<1.4,>=1.1.0 in /usr/local/lib/python3.11/dist-packages (from sympy->torch>=1.11.0->sentence-transformers) (1.3.0)\n",
            "Downloading transformers-4.51.2-py3-none-any.whl (10.4 MB)\n",
            "\u001b[2K   \u001b[90m━━━━━━━━━━━━━━━━━━━━━━━━━━━━━━━━━━━━━━━━\u001b[0m \u001b[32m10.4/10.4 MB\u001b[0m \u001b[31m66.5 MB/s\u001b[0m eta \u001b[36m0:00:00\u001b[0m\n",
            "\u001b[?25hDownloading tokenizers-0.21.1-cp39-abi3-manylinux_2_17_x86_64.manylinux2014_x86_64.whl (3.0 MB)\n",
            "\u001b[2K   \u001b[90m━━━━━━━━━━━━━━━━━━━━━━━━━━━━━━━━━━━━━━━━\u001b[0m \u001b[32m3.0/3.0 MB\u001b[0m \u001b[31m79.9 MB/s\u001b[0m eta \u001b[36m0:00:00\u001b[0m\n",
            "\u001b[?25hInstalling collected packages: tokenizers, transformers\n",
            "  Attempting uninstall: tokenizers\n",
            "    Found existing installation: tokenizers 0.15.2\n",
            "    Uninstalling tokenizers-0.15.2:\n",
            "      Successfully uninstalled tokenizers-0.15.2\n",
            "  Attempting uninstall: transformers\n",
            "    Found existing installation: transformers 4.39.3\n",
            "    Uninstalling transformers-4.39.3:\n",
            "      Successfully uninstalled transformers-4.39.3\n",
            "Successfully installed tokenizers-0.21.1 transformers-4.51.2\n",
            "Requirement already satisfied: tensorflow==2.18.0 in /usr/local/lib/python3.11/dist-packages (2.18.0)\n",
            "Requirement already satisfied: absl-py>=1.0.0 in /usr/local/lib/python3.11/dist-packages (from tensorflow==2.18.0) (1.4.0)\n",
            "Requirement already satisfied: astunparse>=1.6.0 in /usr/local/lib/python3.11/dist-packages (from tensorflow==2.18.0) (1.6.3)\n",
            "Requirement already satisfied: flatbuffers>=24.3.25 in /usr/local/lib/python3.11/dist-packages (from tensorflow==2.18.0) (25.2.10)\n",
            "Requirement already satisfied: gast!=0.5.0,!=0.5.1,!=0.5.2,>=0.2.1 in /usr/local/lib/python3.11/dist-packages (from tensorflow==2.18.0) (0.6.0)\n",
            "Requirement already satisfied: google-pasta>=0.1.1 in /usr/local/lib/python3.11/dist-packages (from tensorflow==2.18.0) (0.2.0)\n",
            "Requirement already satisfied: libclang>=13.0.0 in /usr/local/lib/python3.11/dist-packages (from tensorflow==2.18.0) (18.1.1)\n",
            "Requirement already satisfied: opt-einsum>=2.3.2 in /usr/local/lib/python3.11/dist-packages (from tensorflow==2.18.0) (3.4.0)\n",
            "Requirement already satisfied: packaging in /usr/local/lib/python3.11/dist-packages (from tensorflow==2.18.0) (24.2)\n",
            "Requirement already satisfied: protobuf!=4.21.0,!=4.21.1,!=4.21.2,!=4.21.3,!=4.21.4,!=4.21.5,<6.0.0dev,>=3.20.3 in /usr/local/lib/python3.11/dist-packages (from tensorflow==2.18.0) (5.29.4)\n",
            "Requirement already satisfied: requests<3,>=2.21.0 in /usr/local/lib/python3.11/dist-packages (from tensorflow==2.18.0) (2.32.3)\n",
            "Requirement already satisfied: setuptools in /usr/local/lib/python3.11/dist-packages (from tensorflow==2.18.0) (75.2.0)\n",
            "Requirement already satisfied: six>=1.12.0 in /usr/local/lib/python3.11/dist-packages (from tensorflow==2.18.0) (1.17.0)\n",
            "Requirement already satisfied: termcolor>=1.1.0 in /usr/local/lib/python3.11/dist-packages (from tensorflow==2.18.0) (3.0.1)\n",
            "Requirement already satisfied: typing-extensions>=3.6.6 in /usr/local/lib/python3.11/dist-packages (from tensorflow==2.18.0) (4.13.1)\n",
            "Requirement already satisfied: wrapt>=1.11.0 in /usr/local/lib/python3.11/dist-packages (from tensorflow==2.18.0) (1.17.2)\n",
            "Requirement already satisfied: grpcio<2.0,>=1.24.3 in /usr/local/lib/python3.11/dist-packages (from tensorflow==2.18.0) (1.71.0)\n",
            "Requirement already satisfied: tensorboard<2.19,>=2.18 in /usr/local/lib/python3.11/dist-packages (from tensorflow==2.18.0) (2.18.0)\n",
            "Requirement already satisfied: keras>=3.5.0 in /usr/local/lib/python3.11/dist-packages (from tensorflow==2.18.0) (3.8.0)\n",
            "Requirement already satisfied: numpy<2.1.0,>=1.26.0 in /usr/local/lib/python3.11/dist-packages (from tensorflow==2.18.0) (1.26.4)\n",
            "Requirement already satisfied: h5py>=3.11.0 in /usr/local/lib/python3.11/dist-packages (from tensorflow==2.18.0) (3.13.0)\n",
            "Requirement already satisfied: ml-dtypes<0.5.0,>=0.4.0 in /usr/local/lib/python3.11/dist-packages (from tensorflow==2.18.0) (0.4.1)\n",
            "Requirement already satisfied: tensorflow-io-gcs-filesystem>=0.23.1 in /usr/local/lib/python3.11/dist-packages (from tensorflow==2.18.0) (0.37.1)\n",
            "Requirement already satisfied: wheel<1.0,>=0.23.0 in /usr/local/lib/python3.11/dist-packages (from astunparse>=1.6.0->tensorflow==2.18.0) (0.45.1)\n",
            "Requirement already satisfied: rich in /usr/local/lib/python3.11/dist-packages (from keras>=3.5.0->tensorflow==2.18.0) (13.9.4)\n",
            "Requirement already satisfied: namex in /usr/local/lib/python3.11/dist-packages (from keras>=3.5.0->tensorflow==2.18.0) (0.0.8)\n",
            "Requirement already satisfied: optree in /usr/local/lib/python3.11/dist-packages (from keras>=3.5.0->tensorflow==2.18.0) (0.14.1)\n",
            "Requirement already satisfied: charset-normalizer<4,>=2 in /usr/local/lib/python3.11/dist-packages (from requests<3,>=2.21.0->tensorflow==2.18.0) (3.4.1)\n",
            "Requirement already satisfied: idna<4,>=2.5 in /usr/local/lib/python3.11/dist-packages (from requests<3,>=2.21.0->tensorflow==2.18.0) (3.10)\n",
            "Requirement already satisfied: urllib3<3,>=1.21.1 in /usr/local/lib/python3.11/dist-packages (from requests<3,>=2.21.0->tensorflow==2.18.0) (2.3.0)\n",
            "Requirement already satisfied: certifi>=2017.4.17 in /usr/local/lib/python3.11/dist-packages (from requests<3,>=2.21.0->tensorflow==2.18.0) (2025.1.31)\n",
            "Requirement already satisfied: markdown>=2.6.8 in /usr/local/lib/python3.11/dist-packages (from tensorboard<2.19,>=2.18->tensorflow==2.18.0) (3.7)\n",
            "Requirement already satisfied: tensorboard-data-server<0.8.0,>=0.7.0 in /usr/local/lib/python3.11/dist-packages (from tensorboard<2.19,>=2.18->tensorflow==2.18.0) (0.7.2)\n",
            "Requirement already satisfied: werkzeug>=1.0.1 in /usr/local/lib/python3.11/dist-packages (from tensorboard<2.19,>=2.18->tensorflow==2.18.0) (3.1.3)\n",
            "Requirement already satisfied: MarkupSafe>=2.1.1 in /usr/local/lib/python3.11/dist-packages (from werkzeug>=1.0.1->tensorboard<2.19,>=2.18->tensorflow==2.18.0) (3.0.2)\n",
            "Requirement already satisfied: markdown-it-py>=2.2.0 in /usr/local/lib/python3.11/dist-packages (from rich->keras>=3.5.0->tensorflow==2.18.0) (3.0.0)\n",
            "Requirement already satisfied: pygments<3.0.0,>=2.13.0 in /usr/local/lib/python3.11/dist-packages (from rich->keras>=3.5.0->tensorflow==2.18.0) (2.18.0)\n",
            "Requirement already satisfied: mdurl~=0.1 in /usr/local/lib/python3.11/dist-packages (from markdown-it-py>=2.2.0->rich->keras>=3.5.0->tensorflow==2.18.0) (0.1.2)\n",
            "Collecting transformers==4.39.3\n",
            "  Using cached transformers-4.39.3-py3-none-any.whl.metadata (134 kB)\n",
            "Requirement already satisfied: filelock in /usr/local/lib/python3.11/dist-packages (from transformers==4.39.3) (3.18.0)\n",
            "Requirement already satisfied: huggingface-hub<1.0,>=0.19.3 in /usr/local/lib/python3.11/dist-packages (from transformers==4.39.3) (0.30.1)\n",
            "Requirement already satisfied: numpy>=1.17 in /usr/local/lib/python3.11/dist-packages (from transformers==4.39.3) (1.26.4)\n",
            "Requirement already satisfied: packaging>=20.0 in /usr/local/lib/python3.11/dist-packages (from transformers==4.39.3) (24.2)\n",
            "Requirement already satisfied: pyyaml>=5.1 in /usr/local/lib/python3.11/dist-packages (from transformers==4.39.3) (6.0.2)\n",
            "Requirement already satisfied: regex!=2019.12.17 in /usr/local/lib/python3.11/dist-packages (from transformers==4.39.3) (2024.11.6)\n",
            "Requirement already satisfied: requests in /usr/local/lib/python3.11/dist-packages (from transformers==4.39.3) (2.32.3)\n",
            "Collecting tokenizers<0.19,>=0.14 (from transformers==4.39.3)\n",
            "  Using cached tokenizers-0.15.2-cp311-cp311-manylinux_2_17_x86_64.manylinux2014_x86_64.whl.metadata (6.7 kB)\n",
            "Requirement already satisfied: safetensors>=0.4.1 in /usr/local/lib/python3.11/dist-packages (from transformers==4.39.3) (0.5.3)\n",
            "Requirement already satisfied: tqdm>=4.27 in /usr/local/lib/python3.11/dist-packages (from transformers==4.39.3) (4.67.1)\n",
            "Requirement already satisfied: fsspec>=2023.5.0 in /usr/local/lib/python3.11/dist-packages (from huggingface-hub<1.0,>=0.19.3->transformers==4.39.3) (2025.3.2)\n",
            "Requirement already satisfied: typing-extensions>=3.7.4.3 in /usr/local/lib/python3.11/dist-packages (from huggingface-hub<1.0,>=0.19.3->transformers==4.39.3) (4.13.1)\n",
            "Requirement already satisfied: charset-normalizer<4,>=2 in /usr/local/lib/python3.11/dist-packages (from requests->transformers==4.39.3) (3.4.1)\n",
            "Requirement already satisfied: idna<4,>=2.5 in /usr/local/lib/python3.11/dist-packages (from requests->transformers==4.39.3) (3.10)\n",
            "Requirement already satisfied: urllib3<3,>=1.21.1 in /usr/local/lib/python3.11/dist-packages (from requests->transformers==4.39.3) (2.3.0)\n",
            "Requirement already satisfied: certifi>=2017.4.17 in /usr/local/lib/python3.11/dist-packages (from requests->transformers==4.39.3) (2025.1.31)\n",
            "Using cached transformers-4.39.3-py3-none-any.whl (8.8 MB)\n",
            "Using cached tokenizers-0.15.2-cp311-cp311-manylinux_2_17_x86_64.manylinux2014_x86_64.whl (3.6 MB)\n",
            "Installing collected packages: tokenizers, transformers\n",
            "  Attempting uninstall: tokenizers\n",
            "    Found existing installation: tokenizers 0.21.1\n",
            "    Uninstalling tokenizers-0.21.1:\n",
            "      Successfully uninstalled tokenizers-0.21.1\n",
            "  Attempting uninstall: transformers\n",
            "    Found existing installation: transformers 4.51.2\n",
            "    Uninstalling transformers-4.51.2:\n",
            "      Successfully uninstalled transformers-4.51.2\n",
            "\u001b[31mERROR: pip's dependency resolver does not currently take into account all the packages that are installed. This behaviour is the source of the following dependency conflicts.\n",
            "sentence-transformers 4.0.2 requires transformers<5.0.0,>=4.41.0, but you have transformers 4.39.3 which is incompatible.\u001b[0m\u001b[31m\n",
            "\u001b[0mSuccessfully installed tokenizers-0.15.2 transformers-4.39.3\n",
            "Requirement already satisfied: sentence-transformers in /usr/local/lib/python3.11/dist-packages (4.0.2)\n",
            "Collecting transformers<5.0.0,>=4.41.0 (from sentence-transformers)\n",
            "  Using cached transformers-4.51.2-py3-none-any.whl.metadata (38 kB)\n",
            "Requirement already satisfied: tqdm in /usr/local/lib/python3.11/dist-packages (from sentence-transformers) (4.67.1)\n",
            "Requirement already satisfied: torch>=1.11.0 in /usr/local/lib/python3.11/dist-packages (from sentence-transformers) (2.2.2)\n",
            "Requirement already satisfied: scikit-learn in /usr/local/lib/python3.11/dist-packages (from sentence-transformers) (1.6.1)\n",
            "Requirement already satisfied: scipy in /usr/local/lib/python3.11/dist-packages (from sentence-transformers) (1.14.1)\n",
            "Requirement already satisfied: huggingface-hub>=0.20.0 in /usr/local/lib/python3.11/dist-packages (from sentence-transformers) (0.30.1)\n",
            "Requirement already satisfied: Pillow in /usr/local/lib/python3.11/dist-packages (from sentence-transformers) (11.1.0)\n",
            "Requirement already satisfied: typing_extensions>=4.5.0 in /usr/local/lib/python3.11/dist-packages (from sentence-transformers) (4.13.1)\n",
            "Requirement already satisfied: filelock in /usr/local/lib/python3.11/dist-packages (from huggingface-hub>=0.20.0->sentence-transformers) (3.18.0)\n",
            "Requirement already satisfied: fsspec>=2023.5.0 in /usr/local/lib/python3.11/dist-packages (from huggingface-hub>=0.20.0->sentence-transformers) (2025.3.2)\n",
            "Requirement already satisfied: packaging>=20.9 in /usr/local/lib/python3.11/dist-packages (from huggingface-hub>=0.20.0->sentence-transformers) (24.2)\n",
            "Requirement already satisfied: pyyaml>=5.1 in /usr/local/lib/python3.11/dist-packages (from huggingface-hub>=0.20.0->sentence-transformers) (6.0.2)\n",
            "Requirement already satisfied: requests in /usr/local/lib/python3.11/dist-packages (from huggingface-hub>=0.20.0->sentence-transformers) (2.32.3)\n",
            "Requirement already satisfied: sympy in /usr/local/lib/python3.11/dist-packages (from torch>=1.11.0->sentence-transformers) (1.13.1)\n",
            "Requirement already satisfied: networkx in /usr/local/lib/python3.11/dist-packages (from torch>=1.11.0->sentence-transformers) (3.4.2)\n",
            "Requirement already satisfied: jinja2 in /usr/local/lib/python3.11/dist-packages (from torch>=1.11.0->sentence-transformers) (3.1.6)\n",
            "Requirement already satisfied: nvidia-cuda-nvrtc-cu12==12.1.105 in /usr/local/lib/python3.11/dist-packages (from torch>=1.11.0->sentence-transformers) (12.1.105)\n",
            "Requirement already satisfied: nvidia-cuda-runtime-cu12==12.1.105 in /usr/local/lib/python3.11/dist-packages (from torch>=1.11.0->sentence-transformers) (12.1.105)\n",
            "Requirement already satisfied: nvidia-cuda-cupti-cu12==12.1.105 in /usr/local/lib/python3.11/dist-packages (from torch>=1.11.0->sentence-transformers) (12.1.105)\n",
            "Requirement already satisfied: nvidia-cudnn-cu12==8.9.2.26 in /usr/local/lib/python3.11/dist-packages (from torch>=1.11.0->sentence-transformers) (8.9.2.26)\n",
            "Requirement already satisfied: nvidia-cublas-cu12==12.1.3.1 in /usr/local/lib/python3.11/dist-packages (from torch>=1.11.0->sentence-transformers) (12.1.3.1)\n",
            "Requirement already satisfied: nvidia-cufft-cu12==11.0.2.54 in /usr/local/lib/python3.11/dist-packages (from torch>=1.11.0->sentence-transformers) (11.0.2.54)\n",
            "Requirement already satisfied: nvidia-curand-cu12==10.3.2.106 in /usr/local/lib/python3.11/dist-packages (from torch>=1.11.0->sentence-transformers) (10.3.2.106)\n",
            "Requirement already satisfied: nvidia-cusolver-cu12==11.4.5.107 in /usr/local/lib/python3.11/dist-packages (from torch>=1.11.0->sentence-transformers) (11.4.5.107)\n",
            "Requirement already satisfied: nvidia-cusparse-cu12==12.1.0.106 in /usr/local/lib/python3.11/dist-packages (from torch>=1.11.0->sentence-transformers) (12.1.0.106)\n",
            "Requirement already satisfied: nvidia-nccl-cu12==2.19.3 in /usr/local/lib/python3.11/dist-packages (from torch>=1.11.0->sentence-transformers) (2.19.3)\n",
            "Requirement already satisfied: nvidia-nvtx-cu12==12.1.105 in /usr/local/lib/python3.11/dist-packages (from torch>=1.11.0->sentence-transformers) (12.1.105)\n",
            "Requirement already satisfied: triton==2.2.0 in /usr/local/lib/python3.11/dist-packages (from torch>=1.11.0->sentence-transformers) (2.2.0)\n",
            "Requirement already satisfied: nvidia-nvjitlink-cu12 in /usr/local/lib/python3.11/dist-packages (from nvidia-cusolver-cu12==11.4.5.107->torch>=1.11.0->sentence-transformers) (12.4.127)\n",
            "Requirement already satisfied: numpy>=1.17 in /usr/local/lib/python3.11/dist-packages (from transformers<5.0.0,>=4.41.0->sentence-transformers) (1.26.4)\n",
            "Requirement already satisfied: regex!=2019.12.17 in /usr/local/lib/python3.11/dist-packages (from transformers<5.0.0,>=4.41.0->sentence-transformers) (2024.11.6)\n",
            "Collecting tokenizers<0.22,>=0.21 (from transformers<5.0.0,>=4.41.0->sentence-transformers)\n",
            "  Using cached tokenizers-0.21.1-cp39-abi3-manylinux_2_17_x86_64.manylinux2014_x86_64.whl.metadata (6.8 kB)\n",
            "Requirement already satisfied: safetensors>=0.4.3 in /usr/local/lib/python3.11/dist-packages (from transformers<5.0.0,>=4.41.0->sentence-transformers) (0.5.3)\n",
            "Requirement already satisfied: joblib>=1.2.0 in /usr/local/lib/python3.11/dist-packages (from scikit-learn->sentence-transformers) (1.4.2)\n",
            "Requirement already satisfied: threadpoolctl>=3.1.0 in /usr/local/lib/python3.11/dist-packages (from scikit-learn->sentence-transformers) (3.6.0)\n",
            "Requirement already satisfied: MarkupSafe>=2.0 in /usr/local/lib/python3.11/dist-packages (from jinja2->torch>=1.11.0->sentence-transformers) (3.0.2)\n",
            "Requirement already satisfied: charset-normalizer<4,>=2 in /usr/local/lib/python3.11/dist-packages (from requests->huggingface-hub>=0.20.0->sentence-transformers) (3.4.1)\n",
            "Requirement already satisfied: idna<4,>=2.5 in /usr/local/lib/python3.11/dist-packages (from requests->huggingface-hub>=0.20.0->sentence-transformers) (3.10)\n",
            "Requirement already satisfied: urllib3<3,>=1.21.1 in /usr/local/lib/python3.11/dist-packages (from requests->huggingface-hub>=0.20.0->sentence-transformers) (2.3.0)\n",
            "Requirement already satisfied: certifi>=2017.4.17 in /usr/local/lib/python3.11/dist-packages (from requests->huggingface-hub>=0.20.0->sentence-transformers) (2025.1.31)\n",
            "Requirement already satisfied: mpmath<1.4,>=1.1.0 in /usr/local/lib/python3.11/dist-packages (from sympy->torch>=1.11.0->sentence-transformers) (1.3.0)\n",
            "Using cached transformers-4.51.2-py3-none-any.whl (10.4 MB)\n",
            "Using cached tokenizers-0.21.1-cp39-abi3-manylinux_2_17_x86_64.manylinux2014_x86_64.whl (3.0 MB)\n",
            "Installing collected packages: tokenizers, transformers\n",
            "  Attempting uninstall: tokenizers\n",
            "    Found existing installation: tokenizers 0.15.2\n",
            "    Uninstalling tokenizers-0.15.2:\n",
            "      Successfully uninstalled tokenizers-0.15.2\n",
            "  Attempting uninstall: transformers\n",
            "    Found existing installation: transformers 4.39.3\n",
            "    Uninstalling transformers-4.39.3:\n",
            "      Successfully uninstalled transformers-4.39.3\n",
            "Successfully installed tokenizers-0.21.1 transformers-4.51.2\n",
            "Requirement already satisfied: tensorflow==2.18.0 in /usr/local/lib/python3.11/dist-packages (2.18.0)\n",
            "Requirement already satisfied: absl-py>=1.0.0 in /usr/local/lib/python3.11/dist-packages (from tensorflow==2.18.0) (1.4.0)\n",
            "Requirement already satisfied: astunparse>=1.6.0 in /usr/local/lib/python3.11/dist-packages (from tensorflow==2.18.0) (1.6.3)\n",
            "Requirement already satisfied: flatbuffers>=24.3.25 in /usr/local/lib/python3.11/dist-packages (from tensorflow==2.18.0) (25.2.10)\n",
            "Requirement already satisfied: gast!=0.5.0,!=0.5.1,!=0.5.2,>=0.2.1 in /usr/local/lib/python3.11/dist-packages (from tensorflow==2.18.0) (0.6.0)\n",
            "Requirement already satisfied: google-pasta>=0.1.1 in /usr/local/lib/python3.11/dist-packages (from tensorflow==2.18.0) (0.2.0)\n",
            "Requirement already satisfied: libclang>=13.0.0 in /usr/local/lib/python3.11/dist-packages (from tensorflow==2.18.0) (18.1.1)\n",
            "Requirement already satisfied: opt-einsum>=2.3.2 in /usr/local/lib/python3.11/dist-packages (from tensorflow==2.18.0) (3.4.0)\n",
            "Requirement already satisfied: packaging in /usr/local/lib/python3.11/dist-packages (from tensorflow==2.18.0) (24.2)\n",
            "Requirement already satisfied: protobuf!=4.21.0,!=4.21.1,!=4.21.2,!=4.21.3,!=4.21.4,!=4.21.5,<6.0.0dev,>=3.20.3 in /usr/local/lib/python3.11/dist-packages (from tensorflow==2.18.0) (5.29.4)\n",
            "Requirement already satisfied: requests<3,>=2.21.0 in /usr/local/lib/python3.11/dist-packages (from tensorflow==2.18.0) (2.32.3)\n",
            "Requirement already satisfied: setuptools in /usr/local/lib/python3.11/dist-packages (from tensorflow==2.18.0) (75.2.0)\n",
            "Requirement already satisfied: six>=1.12.0 in /usr/local/lib/python3.11/dist-packages (from tensorflow==2.18.0) (1.17.0)\n",
            "Requirement already satisfied: termcolor>=1.1.0 in /usr/local/lib/python3.11/dist-packages (from tensorflow==2.18.0) (3.0.1)\n",
            "Requirement already satisfied: typing-extensions>=3.6.6 in /usr/local/lib/python3.11/dist-packages (from tensorflow==2.18.0) (4.13.1)\n",
            "Requirement already satisfied: wrapt>=1.11.0 in /usr/local/lib/python3.11/dist-packages (from tensorflow==2.18.0) (1.17.2)\n",
            "Requirement already satisfied: grpcio<2.0,>=1.24.3 in /usr/local/lib/python3.11/dist-packages (from tensorflow==2.18.0) (1.71.0)\n",
            "Requirement already satisfied: tensorboard<2.19,>=2.18 in /usr/local/lib/python3.11/dist-packages (from tensorflow==2.18.0) (2.18.0)\n",
            "Requirement already satisfied: keras>=3.5.0 in /usr/local/lib/python3.11/dist-packages (from tensorflow==2.18.0) (3.8.0)\n",
            "Requirement already satisfied: numpy<2.1.0,>=1.26.0 in /usr/local/lib/python3.11/dist-packages (from tensorflow==2.18.0) (1.26.4)\n",
            "Requirement already satisfied: h5py>=3.11.0 in /usr/local/lib/python3.11/dist-packages (from tensorflow==2.18.0) (3.13.0)\n",
            "Requirement already satisfied: ml-dtypes<0.5.0,>=0.4.0 in /usr/local/lib/python3.11/dist-packages (from tensorflow==2.18.0) (0.4.1)\n",
            "Requirement already satisfied: tensorflow-io-gcs-filesystem>=0.23.1 in /usr/local/lib/python3.11/dist-packages (from tensorflow==2.18.0) (0.37.1)\n",
            "Requirement already satisfied: wheel<1.0,>=0.23.0 in /usr/local/lib/python3.11/dist-packages (from astunparse>=1.6.0->tensorflow==2.18.0) (0.45.1)\n",
            "Requirement already satisfied: rich in /usr/local/lib/python3.11/dist-packages (from keras>=3.5.0->tensorflow==2.18.0) (13.9.4)\n",
            "Requirement already satisfied: namex in /usr/local/lib/python3.11/dist-packages (from keras>=3.5.0->tensorflow==2.18.0) (0.0.8)\n",
            "Requirement already satisfied: optree in /usr/local/lib/python3.11/dist-packages (from keras>=3.5.0->tensorflow==2.18.0) (0.14.1)\n",
            "Requirement already satisfied: charset-normalizer<4,>=2 in /usr/local/lib/python3.11/dist-packages (from requests<3,>=2.21.0->tensorflow==2.18.0) (3.4.1)\n",
            "Requirement already satisfied: idna<4,>=2.5 in /usr/local/lib/python3.11/dist-packages (from requests<3,>=2.21.0->tensorflow==2.18.0) (3.10)\n",
            "Requirement already satisfied: urllib3<3,>=1.21.1 in /usr/local/lib/python3.11/dist-packages (from requests<3,>=2.21.0->tensorflow==2.18.0) (2.3.0)\n",
            "Requirement already satisfied: certifi>=2017.4.17 in /usr/local/lib/python3.11/dist-packages (from requests<3,>=2.21.0->tensorflow==2.18.0) (2025.1.31)\n",
            "Requirement already satisfied: markdown>=2.6.8 in /usr/local/lib/python3.11/dist-packages (from tensorboard<2.19,>=2.18->tensorflow==2.18.0) (3.7)\n",
            "Requirement already satisfied: tensorboard-data-server<0.8.0,>=0.7.0 in /usr/local/lib/python3.11/dist-packages (from tensorboard<2.19,>=2.18->tensorflow==2.18.0) (0.7.2)\n",
            "Requirement already satisfied: werkzeug>=1.0.1 in /usr/local/lib/python3.11/dist-packages (from tensorboard<2.19,>=2.18->tensorflow==2.18.0) (3.1.3)\n",
            "Requirement already satisfied: MarkupSafe>=2.1.1 in /usr/local/lib/python3.11/dist-packages (from werkzeug>=1.0.1->tensorboard<2.19,>=2.18->tensorflow==2.18.0) (3.0.2)\n",
            "Requirement already satisfied: markdown-it-py>=2.2.0 in /usr/local/lib/python3.11/dist-packages (from rich->keras>=3.5.0->tensorflow==2.18.0) (3.0.0)\n",
            "Requirement already satisfied: pygments<3.0.0,>=2.13.0 in /usr/local/lib/python3.11/dist-packages (from rich->keras>=3.5.0->tensorflow==2.18.0) (2.18.0)\n",
            "Requirement already satisfied: mdurl~=0.1 in /usr/local/lib/python3.11/dist-packages (from markdown-it-py>=2.2.0->rich->keras>=3.5.0->tensorflow==2.18.0) (0.1.2)\n"
          ]
        }
      ]
    },
    {
      "cell_type": "code",
      "source": [
        "question1=\"Who went to Devonshire?\"\n",
        "question2= \"What did Holmes tell Watson?\"\n",
        "question3 = \"What is Baskerville Hall?\"\n",
        "\n",
        "context = cleaned_text[:5000]\n",
        "\n",
        "\n",
        "result1 = qa_pipeline(question=question1, context=context)\n",
        "result2 = qa_pipeline(question=question2, context=context)\n",
        "result3 = qa_pipeline(question=question3, context=context)\n",
        "print(result1)\n",
        "print(result2)\n",
        "print(result3)\n",
        "\n"
      ],
      "metadata": {
        "colab": {
          "base_uri": "https://localhost:8080/"
        },
        "id": "dtys57ONMJYp",
        "outputId": "ee510e41-6b43-4642-ce56-31cf1abbdae3"
      },
      "execution_count": null,
      "outputs": [
        {
          "output_type": "stream",
          "name": "stdout",
          "text": [
            "{'score': 0.023909490555524826, 'start': 3495, 'end': 3501, 'answer': 'Holmes'}\n",
            "{'score': 0.007883720099925995, 'start': 2151, 'end': 2170, 'answer': 'our visitor’s stick'}\n",
            "{'score': 0.00847458466887474, 'start': 2484, 'end': 2496, 'answer': 'Dr. Mortimer'}\n"
          ]
        }
      ]
    },
    {
      "cell_type": "markdown",
      "source": [
        "Ce code utilise un modèle pré-entraîné (deepset/roberta-base-squad2) pour répondre à des questions en langage naturel. Utile pour retrouver une info précise sans lire tout le roman."
      ],
      "metadata": {
        "id": "O51urj3LG3jF"
      }
    },
    {
      "cell_type": "markdown",
      "source": [
        "### Table QA"
      ],
      "metadata": {
        "id": "9GBNCPuiJiP0"
      }
    },
    {
      "cell_type": "code",
      "source": [
        "from transformers import TapasTokenizer, TapasForQuestionAnswering\n",
        "import pandas as pd\n",
        "import torch\n",
        "\n",
        "# 1. Créer le tableau traduit en anglais\n",
        "data = {\n",
        "    \"Character\": [\"Sherlock Holmes\", \"Dr. Watson\", \"Sherlock Holmes\"],\n",
        "    \"Location\": [\"Art Gallery\", \"Art Gallery\", \"Northumberland Hotel\"],\n",
        "    \"Activity\": [\"Observe paintings\", \"Accompany\", \"Arrive\"],\n",
        "    \"Duration\": [\"2 hours\", \"2 hours\", \"Not specified\"]\n",
        "}\n",
        "table = pd.DataFrame(data)\n",
        "\n",
        "# 2. Définir les questions en anglais\n",
        "questions = [\n",
        "    \"What is the location where Sherlock Holmes spent 2 hours?\",\n",
        "    \"What activity did Dr. Watson do at the art gallery?\",\n",
        "    \"What is the duration Sherlock Holmes spent at the art gallery?\",\n",
        "    \"What is the location Sherlock Holmes went to after the art gallery?\"\n",
        "]\n",
        "\n",
        "# 3. Charger le modèle et le tokenizer TAPAS\n",
        "model_name = \"google/tapas-base-finetuned-wtq\"  # Retour à la base pour tester\n",
        "tokenizer = TapasTokenizer.from_pretrained(model_name)\n",
        "model = TapasForQuestionAnswering.from_pretrained(model_name)\n",
        "\n",
        "# 4. Fonction pour répondre aux questions avec filtrage\n",
        "def answer_questions(table, questions):\n",
        "    table = table.astype(str)\n",
        "\n",
        "    for question in questions:\n",
        "        try:\n",
        "            # Tokeniser\n",
        "            inputs = tokenizer(\n",
        "                table=table,\n",
        "                queries=question,\n",
        "                padding=\"max_length\",\n",
        "                truncation=True,\n",
        "                return_tensors=\"pt\"\n",
        "            )\n",
        "\n",
        "            # Prédiction\n",
        "            with torch.no_grad():\n",
        "                outputs = model(**inputs)\n",
        "\n",
        "            # Extraire les coordonnées\n",
        "            coordinates, _ = tokenizer.convert_logits_to_predictions(\n",
        "                inputs, outputs.logits, outputs.logits_aggregation\n",
        "            )\n",
        "            coordinates = coordinates[0] if coordinates else []\n",
        "\n",
        "            # Filtrer les réponses selon la colonne attendue\n",
        "            answers = []\n",
        "            expected_column = None\n",
        "            if \"location\" in question.lower():\n",
        "                expected_column = \"Location\"\n",
        "            elif \"activity\" in question.lower():\n",
        "                expected_column = \"Activity\"\n",
        "            elif \"duration\" in question.lower():\n",
        "                expected_column = \"Duration\"\n",
        "\n",
        "            for coord in coordinates:\n",
        "                try:\n",
        "                    row, col = coord\n",
        "                    column_name = table.columns[col]\n",
        "                    cell_value = table.iloc[row, col]\n",
        "                    # Vérifier si la colonne correspond à l'attente\n",
        "                    if expected_column is None or column_name == expected_column:\n",
        "                        answers.append(cell_value)\n",
        "                    print(f\"[Debug] Cellule sélectionnée pour '{question}' : Ligne {row}, Colonne {column_name} = {cell_value}\")\n",
        "                except ValueError as e:\n",
        "                    print(f\"[Debug] Erreur de coordonnée pour '{question}' : {e}\")\n",
        "                    continue\n",
        "\n",
        "            # Afficher la question et la réponse\n",
        "            print(f\"Question: {question}\")\n",
        "            print(f\"Answer: {', '.join(answers) if answers else 'No answer'}\\n\")\n",
        "\n",
        "        except Exception as e:\n",
        "            print(f\"[Debug] Erreur pour la question '{question}' : {str(e)}\")\n",
        "            print(f\"Answer: No answer\\n\")\n",
        "\n",
        "# 5. Exécuter\n",
        "print(\"Table:\")\n",
        "print(table)\n",
        "print(\"\\nAnswers to questions:\")\n",
        "answer_questions(table, questions)"
      ],
      "metadata": {
        "colab": {
          "base_uri": "https://localhost:8080/"
        },
        "id": "p9Mwsy9JIq8_",
        "outputId": "d3737653-f955-49f9-c725-d485ecf586fe"
      },
      "execution_count": null,
      "outputs": [
        {
          "output_type": "stream",
          "name": "stdout",
          "text": [
            "Table:\n",
            "         Character              Location           Activity       Duration\n",
            "0  Sherlock Holmes           Art Gallery  Observe paintings        2 hours\n",
            "1       Dr. Watson           Art Gallery          Accompany        2 hours\n",
            "2  Sherlock Holmes  Northumberland Hotel             Arrive  Not specified\n",
            "\n",
            "Answers to questions:\n"
          ]
        },
        {
          "output_type": "stream",
          "name": "stderr",
          "text": [
            "/usr/local/lib/python3.11/dist-packages/transformers/models/tapas/tokenization_tapas.py:2699: FutureWarning: Series.__getitem__ treating keys as positions is deprecated. In a future version, integer keys will always be treated as labels (consistent with DataFrame behavior). To access a value by position, use `ser.iloc[pos]`\n",
            "  text = normalize_for_match(row[col_index].text)\n",
            "/usr/local/lib/python3.11/dist-packages/transformers/models/tapas/tokenization_tapas.py:1493: FutureWarning: Series.__getitem__ treating keys as positions is deprecated. In a future version, integer keys will always be treated as labels (consistent with DataFrame behavior). To access a value by position, use `ser.iloc[pos]`\n",
            "  cell = row[col_index]\n"
          ]
        },
        {
          "output_type": "stream",
          "name": "stdout",
          "text": [
            "[Debug] Cellule sélectionnée pour 'What is the location where Sherlock Holmes spent 2 hours?' : Ligne 0, Colonne Location = Art Gallery\n",
            "Question: What is the location where Sherlock Holmes spent 2 hours?\n",
            "Answer: Art Gallery\n",
            "\n",
            "[Debug] Cellule sélectionnée pour 'What activity did Dr. Watson do at the art gallery?' : Ligne 1, Colonne Activity = Accompany\n",
            "Question: What activity did Dr. Watson do at the art gallery?\n",
            "Answer: Accompany\n",
            "\n",
            "[Debug] Cellule sélectionnée pour 'What is the duration Sherlock Holmes spent at the art gallery?' : Ligne 0, Colonne Duration = 2 hours\n",
            "Question: What is the duration Sherlock Holmes spent at the art gallery?\n",
            "Answer: 2 hours\n",
            "\n",
            "[Debug] Cellule sélectionnée pour 'What is the location Sherlock Holmes went to after the art gallery?' : Ligne 2, Colonne Location = Northumberland Hotel\n",
            "Question: What is the location Sherlock Holmes went to after the art gallery?\n",
            "Answer: Northumberland Hotel\n",
            "\n"
          ]
        }
      ]
    },
    {
      "cell_type": "markdown",
      "source": [
        "Ce code utilise le modèle TAPAS de Google, spécialisé dans l’interrogation directe de tableaux (comme ceux d’Excel). Il peut répondre à des questions en langage naturel en sélectionnant les bonnes cellules d’un tableau de données. Ici, on observe qu’il répond bien aux questions."
      ],
      "metadata": {
        "id": "VZ2_UG_jHqk8"
      }
    },
    {
      "cell_type": "markdown",
      "source": [
        "## LDA"
      ],
      "metadata": {
        "id": "UA0UxthzGtdz"
      }
    },
    {
      "cell_type": "code",
      "source": [
        "import re\n",
        "import requests\n",
        "from sklearn.decomposition import LatentDirichletAllocation\n",
        "from sklearn.feature_extraction.text import CountVectorizer\n",
        "from nltk.corpus import stopwords\n",
        "import nltk\n",
        "\n",
        "# Téléchargez les ressources nécessaires pour NLTK\n",
        "nltk.download('punkt')\n",
        "nltk.download('stopwords')\n",
        "\n",
        "# 📥 Charger le roman depuis une URL ou fichier\n",
        "url = \"https://www.gutenberg.org/cache/epub/2852/pg2852.txt\"  # URL du roman Sherlock Holmes\n",
        "raw = requests.get(url).text\n",
        "\n",
        "# 📖 Extraire le chapitre 6\n",
        "start = raw.find(\"Chapter 6.\")\n",
        "end = raw.find(\"Chapter 7.\")\n",
        "chapter6 = raw[start:end]\n",
        "\n",
        "# Tokenisation et nettoyage du texte\n",
        "stop_words = set(stopwords.words('english'))\n",
        "tokens = nltk.word_tokenize(chapter6)\n",
        "\n",
        "# Nettoyage des tokens (enlever les caractères non alphabétiques et les stopwords)\n",
        "tokens_cleaned = [word.lower() for word in tokens if word.isalpha() and word.lower() not in stop_words]\n",
        "cleaned_text = \" \".join(tokens_cleaned)\n",
        "\n",
        "# Créer un vecteur de compte de mots (Bag-of-Words)\n",
        "vectorizer = CountVectorizer(stop_words='english')\n",
        "X = vectorizer.fit_transform([cleaned_text])\n",
        "\n",
        "# Appliquer le modèle LDA pour détecter 3 thèmes\n",
        "lda = LatentDirichletAllocation(n_components=3, random_state=42)\n",
        "lda.fit(X)\n",
        "\n",
        "#  Afficher les mots-clés de chaque thème\n",
        "n_top_words = 10\n",
        "terms = vectorizer.get_feature_names_out()\n",
        "\n",
        "for topic_idx, topic in enumerate(lda.components_):\n",
        "    print(f\"\\n Thème {topic_idx + 1}:\")\n",
        "    print(\" \".join([terms[i] for i in topic.argsort()[:-n_top_words - 1:-1]]))\n"
      ],
      "metadata": {
        "colab": {
          "base_uri": "https://localhost:8080/"
        },
        "id": "HiZBRIUsaaft",
        "outputId": "b5c77430-be5b-4646-9a28-14d2341062a2"
      },
      "execution_count": null,
      "outputs": [
        {
          "output_type": "stream",
          "name": "stderr",
          "text": [
            "[nltk_data] Downloading package punkt to /root/nltk_data...\n",
            "[nltk_data]   Package punkt is already up-to-date!\n",
            "[nltk_data] Downloading package stopwords to /root/nltk_data...\n",
            "[nltk_data]   Package stopwords is already up-to-date!\n"
          ]
        },
        {
          "output_type": "stream",
          "name": "stdout",
          "text": [
            "\n",
            " Thème 1:\n",
            "accent account yew yesterday ancestors ancient answer apartment appeared appears\n",
            "\n",
            " Thème 2:\n",
            "sir baskerville hall said henry long mortimer light old house\n",
            "\n",
            " Thème 3:\n",
            "accent account yew yesterday ancestors ancient answer apartment appeared appears\n"
          ]
        }
      ]
    },
    {
      "cell_type": "markdown",
      "source": [
        "Analyse thématique avec LDA, il détecte automatiquement les thèmes dominants.\n",
        "Il applique une vectorisation bag-of-words, supprime les mots inutiles (stopwords), puis identifie 3 groupes de mots les plus représentatifs, correspondant aux sujets récurrents du chapitre."
      ],
      "metadata": {
        "id": "8aIawlnfIoMl"
      }
    },
    {
      "cell_type": "markdown",
      "source": [
        "## Classification"
      ],
      "metadata": {
        "id": "v2evI7O8cA5o"
      }
    },
    {
      "cell_type": "code",
      "source": [
        "import pandas as pd\n",
        "from sklearn.model_selection import train_test_split, cross_val_score\n",
        "from sklearn.feature_extraction.text import TfidfVectorizer, CountVectorizer\n",
        "from sklearn.ensemble import RandomForestClassifier, VotingClassifier\n",
        "from sklearn.tree import DecisionTreeClassifier\n",
        "from sklearn.naive_bayes import MultinomialNB\n",
        "from sklearn.linear_model import LogisticRegression\n",
        "from sklearn.metrics import accuracy_score, precision_score, recall_score, f1_score\n",
        "from sklearn.pipeline import Pipeline\n",
        "from sklearn.preprocessing import LabelEncoder\n",
        "import re\n",
        "import nltk\n",
        "from nltk.corpus import stopwords\n",
        "from nltk.stem import WordNetLemmatizer\n",
        "\n",
        "nltk.download('stopwords')\n",
        "nltk.download('wordnet')\n",
        "nltk.download('omw-1.4')\n",
        "\n",
        "texts = [\n",
        "    \"Sherlock Holmes investigates the strange death of Sir Charles Baskerville\",\n",
        "    \"The mystery of the Baskerville family continues to haunt the countryside\",\n",
        "    \"A family in turmoil after the tragic death of Sir Charles Baskerville\",\n",
        "    \"Dr. Watson is concerned about the strange behavior of Sir Charles\",\n",
        "    \"The Baskerville case takes an unexpected turn with new evidence\",\n",
        "    \"Holmes uses logic to solve a complex murder mystery\",\n",
        "    \"The town is filled with drama as the case unfolds\",\n",
        "    \"Suspicion falls on various individuals, and tension rises in the village\",\n",
        "    \"A quiet and peaceful village becomes a stage for a dramatic crime\",\n",
        "    \"The murder mystery leads to a shocking revelation\",\n",
        "    \"The detective uncovers new clues in the case\",\n",
        "    \"Suspense builds as the story of a haunted mansion unfolds\"\n",
        "]\n",
        "\n",
        "# Cibles (1: Mystère, 0: Drame)\n",
        "labels = [1, 1, 0, 0, 1, 1, 0, 0, 0, 1, 1, 0]\n",
        "\n",
        "# Prétraitement des données : nettoyage et lemmatisation\n",
        "def preprocess(text):\n",
        "    # Convertir en minuscules\n",
        "    text = text.lower()\n",
        "    # Supprimer les caractères spéciaux, chiffres, etc.\n",
        "    text = re.sub(r'[^a-zA-Z\\s]', '', text)\n",
        "    # Tokenisation et suppression des stopwords\n",
        "    stop_words = set(stopwords.words('english'))\n",
        "    tokens = text.split()\n",
        "    tokens = [word for word in tokens if word not in stop_words]\n",
        "    # Lemmatisation\n",
        "    lemmatizer = WordNetLemmatizer()\n",
        "    tokens = [lemmatizer.lemmatize(word) for word in tokens]\n",
        "    return ' '.join(tokens)\n",
        "\n",
        "# Appliquer le prétraitement\n",
        "texts = [preprocess(text) for text in texts]\n",
        "\n",
        "# Vectorisation du texte avec TF-IDF\n",
        "vectorizer = TfidfVectorizer()\n",
        "\n",
        "# Encode labels\n",
        "label_encoder = LabelEncoder()\n",
        "y = label_encoder.fit_transform(labels)\n",
        "\n",
        "# Diviser en ensembles d'entraînement et de test\n",
        "X_train, X_test, y_train, y_test = train_test_split(texts, y, test_size=0.2, random_state=42)\n",
        "\n",
        "# Définir les classificateurs\n",
        "rf_classifier = RandomForestClassifier(n_estimators=100)\n",
        "dt_classifier = DecisionTreeClassifier()\n",
        "nb_classifier = MultinomialNB()\n",
        "logreg_classifier = LogisticRegression(max_iter=1000)\n",
        "\n",
        "# Pipeline pour la vectorisation et les modèles\n",
        "pipelines = {\n",
        "    'Random Forest': Pipeline([\n",
        "        ('vectorizer', vectorizer),\n",
        "        ('classifier', rf_classifier)\n",
        "    ]),\n",
        "    'Decision Tree': Pipeline([\n",
        "        ('vectorizer', vectorizer),\n",
        "        ('classifier', dt_classifier)\n",
        "    ]),\n",
        "    'Naive Bayes': Pipeline([\n",
        "        ('vectorizer', vectorizer),\n",
        "        ('classifier', nb_classifier)\n",
        "    ]),\n",
        "    'Logistic Regression': Pipeline([\n",
        "        ('vectorizer', vectorizer),\n",
        "        ('classifier', logreg_classifier)\n",
        "    ])\n",
        "}\n",
        "\n",
        "# Ajouter un classifier Voting avec tous les modèles\n",
        "voting_clf = VotingClassifier(estimators=[\n",
        "    ('rf', rf_classifier),\n",
        "    ('dt', dt_classifier),\n",
        "    ('nb', nb_classifier),\n",
        "    ('logreg', logreg_classifier)\n",
        "], voting='hard')\n",
        "\n",
        "pipelines['Voting Classifier'] = Pipeline([\n",
        "    ('vectorizer', vectorizer),\n",
        "    ('classifier', voting_clf)\n",
        "])\n",
        "\n",
        "# Dictionnaire pour stocker les résultats\n",
        "results = {}\n",
        "\n",
        "# Entraîner et évaluer chaque modèle\n",
        "for name, pipeline in pipelines.items():\n",
        "    pipeline.fit(X_train, y_train)\n",
        "    y_pred = pipeline.predict(X_test)\n",
        "\n",
        "    # Calcul des performances\n",
        "    accuracy = accuracy_score(y_test, y_pred)\n",
        "    precision = precision_score(y_test, y_pred)\n",
        "    recall = recall_score(y_test, y_pred)\n",
        "    f1 = f1_score(y_test, y_pred)\n",
        "\n",
        "    results[name] = {\n",
        "        'Accuracy': accuracy,\n",
        "        'Precision': precision,\n",
        "        'Recall': recall,\n",
        "        'F1-Score': f1\n",
        "    }\n",
        "\n",
        "# Afficher les résultats\n",
        "results_df = pd.DataFrame(results).T\n",
        "print(results_df)\n",
        "\n",
        "# Tester avec un texte inconnu pour prédire\n",
        "new_texts = [\n",
        "    \"A detective finds clues in a dark mansion\",\n",
        "    \"A couple struggles with their relationship in a tragic setting\",\n",
        "    \"Holmes uncovers a dangerous secret in the case of Sir Charles\",\n",
        "    \"The tension in the village rises after the mysterious death\"\n",
        "]\n",
        "\n",
        "# Preprocess the new texts\n",
        "new_texts_preprocessed = [preprocess(text) for text in new_texts]\n",
        "\n",
        "# Vectorize the preprocessed new texts using the fitted vectorizer\n",
        "new_texts_vectorized = vectorizer.transform(new_texts_preprocessed) # added this line\n",
        "\n",
        "# Make predictions\n",
        "predictions = voting_clf.predict(new_texts_vectorized) # changed input to new_texts_vectorized\n",
        "predictions_labels = label_encoder.inverse_transform(predictions)\n",
        "\n",
        "# Afficher les prédictions\n",
        "for text, label in zip(new_texts, predictions_labels):\n",
        "    print(f\"Text: '{text}' => Predicted Label: {label}\")\n"
      ],
      "metadata": {
        "colab": {
          "base_uri": "https://localhost:8080/"
        },
        "id": "t1X8zpx7wvV3",
        "outputId": "e175e319-aff2-4bd2-8dcf-86935bbbeb26"
      },
      "execution_count": null,
      "outputs": [
        {
          "output_type": "stream",
          "name": "stderr",
          "text": [
            "[nltk_data] Downloading package stopwords to /root/nltk_data...\n",
            "[nltk_data]   Package stopwords is already up-to-date!\n",
            "[nltk_data] Downloading package wordnet to /root/nltk_data...\n",
            "[nltk_data]   Package wordnet is already up-to-date!\n",
            "[nltk_data] Downloading package omw-1.4 to /root/nltk_data...\n",
            "[nltk_data]   Package omw-1.4 is already up-to-date!\n",
            "/usr/local/lib/python3.11/dist-packages/sklearn/metrics/_classification.py:1565: UndefinedMetricWarning: Precision is ill-defined and being set to 0.0 due to no predicted samples. Use `zero_division` parameter to control this behavior.\n",
            "  _warn_prf(average, modifier, f\"{metric.capitalize()} is\", len(result))\n",
            "/usr/local/lib/python3.11/dist-packages/sklearn/metrics/_classification.py:1565: UndefinedMetricWarning: Precision is ill-defined and being set to 0.0 due to no predicted samples. Use `zero_division` parameter to control this behavior.\n",
            "  _warn_prf(average, modifier, f\"{metric.capitalize()} is\", len(result))\n"
          ]
        },
        {
          "output_type": "stream",
          "name": "stdout",
          "text": [
            "                     Accuracy  Precision    Recall  F1-Score\n",
            "Random Forest        0.000000        0.0  0.000000       0.0\n",
            "Decision Tree        0.666667        1.0  0.666667       0.8\n",
            "Naive Bayes          0.333333        1.0  0.333333       0.5\n",
            "Logistic Regression  0.000000        0.0  0.000000       0.0\n",
            "Voting Classifier    0.000000        0.0  0.000000       0.0\n",
            "Text: 'A detective finds clues in a dark mansion' => Predicted Label: 0\n",
            "Text: 'A couple struggles with their relationship in a tragic setting' => Predicted Label: 0\n",
            "Text: 'Holmes uncovers a dangerous secret in the case of Sir Charles' => Predicted Label: 0\n",
            "Text: 'The tension in the village rises after the mysterious death' => Predicted Label: 0\n"
          ]
        },
        {
          "output_type": "stream",
          "name": "stderr",
          "text": [
            "/usr/local/lib/python3.11/dist-packages/sklearn/metrics/_classification.py:1565: UndefinedMetricWarning: Precision is ill-defined and being set to 0.0 due to no predicted samples. Use `zero_division` parameter to control this behavior.\n",
            "  _warn_prf(average, modifier, f\"{metric.capitalize()} is\", len(result))\n"
          ]
        }
      ]
    },
    {
      "cell_type": "markdown",
      "source": [
        "Il s'agit d'un petit exemple pour illustrer la manière dont je peux réaliser une tâche de classification de texte. L'objectif est de classer des phrases en deux catégories : Mystère (1) et Drame (0), en utilisant divers modèles de classification. Après un prétraitement des données comprenant la conversion en minuscules, la suppression des stopwords et la lemmatisation, les textes ont été transformés en vecteurs numériques via la méthode TF-IDF.\n",
        "Plusieurs modèles ont été entraînés pour cette tâche, parmi lesquels : Random Forest, Decision Tree, Naive Bayes, Logistic Regression, ainsi qu’un Voting Classifier combinant les prédictions de tous ces modèles. Les performances des modèles ont été évaluées à l’aide de diverses métriques, telles que l'Accuracy, la Precision, le Recall et le F1-Score.\n",
        "Les résultats ont révélé que le modèle Decision Tree était le plus performant, avec une précision de 66 % et un F1-score de 0,8. En revanche, les autres modèles ont obtenu une précision de 0 %, prédisant systématiquement la classe \"Drame\", ce qui suggère un biais notable dans leurs prédictions. Cela est probablement dû à un déséquilibre dans les données et à la taille réduite de l’échantillon utilisé pour l’entraînement."
      ],
      "metadata": {
        "id": "p1QBQUfYLWVl"
      }
    },
    {
      "cell_type": "code",
      "source": [
        "import nltk\n",
        "import re\n",
        "import random\n",
        "from nltk.classify import MaxentClassifier\n",
        "from nltk.classify import NaiveBayesClassifier\n",
        "from nltk.corpus import stopwords\n",
        "from nltk.stem import WordNetLemmatizer\n",
        "from sklearn.metrics import accuracy_score, precision_score, recall_score, f1_score\n",
        "\n",
        "\n",
        "nltk.download('punkt')\n",
        "nltk.download('stopwords')\n",
        "nltk.download('wordnet')\n",
        "\n",
        "\n",
        "# 1. Données\n",
        "mystery_texts = [\n",
        "    \"A shadowy figure disappears into the fog.\",\n",
        "    \"A locked room with no way in or out.\",\n",
        "    \"Footprints lead to a dead end in the snow.\",\n",
        "    \"Holmes studies a mysterious letter.\",\n",
        "    \"Someone is watching from the dark hallway.\",\n",
        "    \"A secret passage behind the bookshelf.\"\n",
        "]\n",
        "\n",
        "drama_texts = [\n",
        "    \"A son confronts his father after years apart.\",\n",
        "    \"She weeps as the letter is read aloud.\",\n",
        "    \"The lovers must part under tragic circumstances.\",\n",
        "    \"He regrets the words he never said.\",\n",
        "    \"Tears fall during the final goodbye.\",\n",
        "    \"A child is caught in a family feud.\"\n",
        "]\n",
        "\n",
        "# Fusionner\n",
        "data = [(txt, 'mystery') for txt in mystery_texts] + [(txt, 'drama') for txt in drama_texts]\n",
        "\n",
        "\n",
        "# 2. Prétraitement\n",
        "stop_words = set(stopwords.words('english'))\n",
        "lemmatizer = WordNetLemmatizer()\n",
        "\n",
        "def extract_features(text):\n",
        "    text = re.sub(r'[^a-zA-Z\\s]', '', text.lower())\n",
        "    tokens = nltk.word_tokenize(text)\n",
        "    tokens = [lemmatizer.lemmatize(tok) for tok in tokens if tok not in stop_words]\n",
        "    return {word: True for word in tokens}\n",
        "\n",
        "# Extraire les features\n",
        "featuresets = [(extract_features(text), label) for (text, label) in data]\n",
        "\n",
        "# Mélanger aléatoirement\n",
        "random.shuffle(featuresets)\n",
        "\n",
        "# Split train/test\n",
        "split_point = int(len(featuresets) * 0.8)\n",
        "train_set = featuresets[:split_point]\n",
        "test_set = featuresets[split_point:]\n",
        "\n",
        "\n",
        "# 3. MaxEnt Classifier\n",
        "maxent_classifier = MaxentClassifier.train(train_set, algorithm='IIS', trace=0, max_iter=1000)\n",
        "\n",
        "# Évaluation MaxEnt\n",
        "y_true = []\n",
        "y_pred = []\n",
        "\n",
        "for features, label in test_set:\n",
        "    y_true.append(label)\n",
        "    y_pred.append(maxent_classifier.classify(features))\n",
        "\n",
        "print(\"\\n MaxEnt Classifier Evaluation\")\n",
        "print(\"Accuracy:\", accuracy_score(y_true, y_pred))\n",
        "print(\"Precision:\", precision_score(y_true, y_pred, pos_label='mystery', zero_division=0))\n",
        "print(\"Recall:\", recall_score(y_true, y_pred, pos_label='mystery', zero_division=0))\n",
        "print(\"F1-Score:\", f1_score(y_true, y_pred, pos_label='mystery', zero_division=0))\n",
        "\n",
        "\n",
        "# 4. MultiBinaryClassifier (OvR avec Naive Bayes)\n",
        "labels = list(set(label for _, label in featuresets))\n",
        "binary_classifiers = {}\n",
        "\n",
        "for label in labels:\n",
        "    binary_train = [(\n",
        "        feats,\n",
        "        (lbl == label)\n",
        "    ) for feats, lbl in train_set]\n",
        "\n",
        "    clf = NaiveBayesClassifier.train(binary_train)\n",
        "    binary_classifiers[label] = clf\n",
        "\n",
        "def predict_multibinary(feats):\n",
        "    probs = {label: clf.prob_classify(feats).prob(True) for label, clf in binary_classifiers.items()}\n",
        "    return max(probs, key=probs.get)\n",
        "\n",
        "# Évaluation MultiBinary\n",
        "y_true_multi = []\n",
        "y_pred_multi = []\n",
        "\n",
        "for features, label in test_set:\n",
        "    pred = predict_multibinary(features)\n",
        "    y_true_multi.append(label)\n",
        "    y_pred_multi.append(pred)\n",
        "\n",
        "print(\"\\n MultiBinary Classifier Evaluation (OvR)\")\n",
        "print(\"Accuracy:\", accuracy_score(y_true_multi, y_pred_multi))\n",
        "print(\"Precision:\", precision_score(y_true_multi, y_pred_multi, pos_label='mystery', zero_division=0))\n",
        "print(\"Recall:\", recall_score(y_true_multi, y_pred_multi, pos_label='mystery', zero_division=0))\n",
        "print(\"F1-Score:\", f1_score(y_true_multi, y_pred_multi, pos_label='mystery', zero_division=0))\n"
      ],
      "metadata": {
        "colab": {
          "base_uri": "https://localhost:8080/"
        },
        "id": "CpjbAph6zz_K",
        "outputId": "e05c33ac-db3a-4ff4-bc9e-b3f24bfe0a00"
      },
      "execution_count": null,
      "outputs": [
        {
          "output_type": "stream",
          "name": "stderr",
          "text": [
            "[nltk_data] Downloading package punkt to /root/nltk_data...\n",
            "[nltk_data]   Package punkt is already up-to-date!\n",
            "[nltk_data] Downloading package stopwords to /root/nltk_data...\n",
            "[nltk_data]   Package stopwords is already up-to-date!\n",
            "[nltk_data] Downloading package wordnet to /root/nltk_data...\n",
            "[nltk_data]   Package wordnet is already up-to-date!\n"
          ]
        },
        {
          "output_type": "stream",
          "name": "stdout",
          "text": [
            "\n",
            " MaxEnt Classifier Evaluation\n",
            "Accuracy: 0.0\n",
            "Precision: 0.0\n",
            "Recall: 0.0\n",
            "F1-Score: 0.0\n",
            "\n",
            " MultiBinary Classifier Evaluation (OvR)\n",
            "Accuracy: 0.0\n",
            "Precision: 0.0\n",
            "Recall: 0.0\n",
            "F1-Score: 0.0\n"
          ]
        }
      ]
    },
    {
      "cell_type": "markdown",
      "source": [
        "Dans ce cas, j'ai appliqué les modèles suivants :\n",
        "* MaxEnt Classifier : Un classificateur basé sur l'entropie maximale a été utilisé pour l’entraînement. Ce modèle apprend à partir des données d’entraînement, puis est évalué sur l’ensemble de test.\n",
        "* MultiBinary Classifier (Naive Bayes OvR) : Il s'agit d'un classificateur One-vs-Rest (OvR), où chaque catégorie est traitée indépendamment. Ce modèle génère des classificateurs binaires pour chaque classe et prédit celle ayant la plus grande probabilité.\n",
        "\n",
        "Cependant, les résultats indiquent que ces modèles ne sont pas suffisamment performants lorsqu'ils sont appliqués à de petits jeux de données. Ils nécessitent un entraînement plus approfondi et une plus grande diversité dans les textes pour améliorer leurs performances."
      ],
      "metadata": {
        "id": "oj4rUOByMld6"
      }
    },
    {
      "cell_type": "markdown",
      "source": [
        "## Regression"
      ],
      "metadata": {
        "id": "-Wge9sDExl74"
      }
    },
    {
      "cell_type": "code",
      "source": [
        "import pandas as pd\n",
        "from sklearn.model_selection import train_test_split\n",
        "from sklearn.feature_extraction.text import TfidfVectorizer\n",
        "from sklearn.linear_model import LinearRegression, Lasso\n",
        "from sklearn.ensemble import RandomForestRegressor\n",
        "from sklearn.metrics import mean_squared_error\n",
        "\n",
        "\n",
        "phrases = [\n",
        "    \"Sherlock Holmes investigates a strange case\",\n",
        "    \"The Baskerville family is in danger and Watson is concerned\",\n",
        "    \"Dr. Mortimer speaks of strange occurrences\",\n",
        "    \"Sir Charles Baskerville is found dead under mysterious circumstances\",\n",
        "    \"Holmes uses his reasoning to solve the case\"\n",
        "]\n",
        "\n",
        "# Longueur des phrases (en mots)\n",
        "lengths = [len(phrase.split()) for phrase in phrases]\n",
        "\n",
        "# Vectorisation du texte avec TF-IDF\n",
        "vectorizer = TfidfVectorizer()\n",
        "X = vectorizer.fit_transform(phrases)\n",
        "\n",
        "# Diviser en ensembles d'entraînement et de test\n",
        "X_train, X_test, y_train, y_test = train_test_split(X, lengths, test_size=0.2, random_state=42)\n",
        "\n",
        "# Créer et entraîner les modèles de régression\n",
        "# Régression Linéaire\n",
        "linear_regressor = LinearRegression()\n",
        "linear_regressor.fit(X_train, y_train)\n",
        "\n",
        "# Random Forest Regressor\n",
        "rf_regressor = RandomForestRegressor(n_estimators=100)\n",
        "rf_regressor.fit(X_train, y_train)\n",
        "\n",
        "# Lasso Regressor\n",
        "lasso_regressor = Lasso(alpha=0.1)\n",
        "lasso_regressor.fit(X_train, y_train)\n",
        "\n",
        "# Prédictions\n",
        "y_pred_linear = linear_regressor.predict(X_test)\n",
        "y_pred_rf = rf_regressor.predict(X_test)\n",
        "y_pred_lasso = lasso_regressor.predict(X_test)\n",
        "\n",
        "# Calcul des erreurs quadratiques moyennes (RMSE)\n",
        "rmse_linear = mean_squared_error(y_test, y_pred_linear) ** 0.5\n",
        "rmse_rf = mean_squared_error(y_test, y_pred_rf) ** 0.5\n",
        "rmse_lasso = mean_squared_error(y_test, y_pred_lasso) ** 0.5\n",
        "\n",
        "# Affichage des résultats\n",
        "print(f\"RMSE de la régression linéaire : {rmse_linear}\")\n",
        "print(f\"RMSE du Random Forest Regressor : {rmse_rf}\")\n",
        "print(f\"RMSE du Lasso Regressor : {rmse_lasso}\")\n"
      ],
      "metadata": {
        "colab": {
          "base_uri": "https://localhost:8080/"
        },
        "id": "Vr3aDw1zzR_H",
        "outputId": "9c71ad22-59d7-4552-a11d-d0da03a0e615"
      },
      "execution_count": null,
      "outputs": [
        {
          "output_type": "stream",
          "name": "stdout",
          "text": [
            "RMSE de la régression linéaire : 2.201949260116556\n",
            "RMSE du Random Forest Regressor : 2.3099999999999996\n",
            "RMSE du Lasso Regressor : 2.0479239489797374\n"
          ]
        }
      ]
    },
    {
      "cell_type": "markdown",
      "source": [
        "J'ai réalisé une prédiction de la longueur des phrases en nombre de mots en utilisant trois modèles de régression : régression linéaire, Random Forest Regressor et Lasso Regressor. Le texte est d'abord transformé en vecteurs numériques à l'aide de TF-IDF. Ensuite, les données sont divisées en ensembles d'entraînement et de test. Chaque modèle est entraîné pour prédire la longueur des phrases, et leur performance est mesurée à l'aide de l'erreur quadratique moyenne (RMSE).\n",
        "Les résultats montrent que le Lasso Regressor obtient le meilleur RMSE (2.05), suivi de près par la régression linéaire (2.20) et le Random Forest (2.31). Un RMSE plus faible indique une meilleure précision des prédictions."
      ],
      "metadata": {
        "id": "se1dTel2NzRr"
      }
    },
    {
      "cell_type": "markdown",
      "source": [
        "## Sentiment analysis"
      ],
      "metadata": {
        "id": "lJCayvZ85Ri9"
      }
    },
    {
      "cell_type": "markdown",
      "source": [
        "### NLTK+Naive bayesian classifier"
      ],
      "metadata": {
        "id": "Yra3ElVx5V5G"
      }
    },
    {
      "cell_type": "code",
      "source": [
        "import nltk\n",
        "from nltk.corpus import movie_reviews\n",
        "import random\n",
        "from nltk.classify import NaiveBayesClassifier\n",
        "from nltk.classify.util import accuracy\n",
        "\n",
        "nltk.download('movie_reviews')\n",
        "\n",
        "# Préparer les données\n",
        "documents = [(list(movie_reviews.words(fileid)), category)\n",
        "             for category in movie_reviews.categories()\n",
        "             for fileid in movie_reviews.fileids(category)]\n",
        "\n",
        "random.shuffle(documents)\n",
        "\n",
        "# Extraire les caractéristiques\n",
        "all_words = nltk.FreqDist(w.lower() for w in movie_reviews.words())\n",
        "word_features = list(all_words)[:2000]\n",
        "\n",
        "def document_features(document):\n",
        "    words = set(document)\n",
        "    return {w: (w in words) for w in word_features}\n",
        "\n",
        "featuresets = [(document_features(d), c) for (d, c) in documents]\n",
        "\n",
        "# Train/test split\n",
        "train_set, test_set = featuresets[:1500], featuresets[1500:]\n",
        "classifier = NaiveBayesClassifier.train(train_set)\n",
        "\n",
        "print(\"Accuracy:\", accuracy(classifier, test_set))\n",
        "classifier.show_most_informative_features(10)\n",
        "\n",
        "# Test avec un extrait de roman :\n",
        "test_text = \"Her heart sank as she read the final letter from him\"\n",
        "features = document_features(test_text.split())\n",
        "print(\"Sentiment:\", classifier.classify(features))\n"
      ],
      "metadata": {
        "colab": {
          "base_uri": "https://localhost:8080/"
        },
        "id": "jYc8A7cB5UnZ",
        "outputId": "b170c312-b41e-411d-fa41-1b7a9b05237a"
      },
      "execution_count": null,
      "outputs": [
        {
          "output_type": "stream",
          "name": "stderr",
          "text": [
            "[nltk_data] Downloading package movie_reviews to /root/nltk_data...\n",
            "[nltk_data]   Unzipping corpora/movie_reviews.zip.\n"
          ]
        },
        {
          "output_type": "stream",
          "name": "stdout",
          "text": [
            "Accuracy: 0.796\n",
            "Most Informative Features\n",
            "             outstanding = True              pos : neg    =      8.8 : 1.0\n",
            "             wonderfully = True              pos : neg    =      8.2 : 1.0\n",
            "                   mulan = True              pos : neg    =      7.3 : 1.0\n",
            "                  truman = True              pos : neg    =      7.3 : 1.0\n",
            "                  seagal = True              neg : pos    =      7.1 : 1.0\n",
            "                  wasted = True              neg : pos    =      6.7 : 1.0\n",
            "                  poorly = True              neg : pos    =      6.6 : 1.0\n",
            "                   damon = True              pos : neg    =      6.1 : 1.0\n",
            "                   awful = True              neg : pos    =      6.0 : 1.0\n",
            "                   hanks = True              pos : neg    =      5.8 : 1.0\n",
            "Sentiment: neg\n"
          ]
        }
      ]
    },
    {
      "cell_type": "markdown",
      "source": [
        "### Hugging face"
      ],
      "metadata": {
        "id": "MDyLq6cN5pXb"
      }
    },
    {
      "cell_type": "code",
      "source": [
        "from transformers import pipeline\n",
        "\n",
        "# Pipeline pré-entraîné pour sentiment analysis\n",
        "classifier = pipeline(\"sentiment-analysis\")\n",
        "\n",
        "# Exemple avec ton roman\n",
        "text = \"She felt hopeless and broken after the incident\"\n",
        "result = classifier(text)\n",
        "print(result)  # [{'label': 'NEGATIVE', 'score': 0.999...}]\n"
      ],
      "metadata": {
        "colab": {
          "base_uri": "https://localhost:8080/",
          "height": 369,
          "referenced_widgets": [
            "2830c0d0207b43829e5edb31e4214386",
            "a58d60f9934c46e2bf6c6ecc1912fb27",
            "040d4b33cbec4599b0233999a09d4023",
            "1d2facb24ee143c6a1f18eb8c14204c7",
            "12da2c9205894cf4b6bc9b1b34828913",
            "f1ed83aa4737412d952928c0f4acbcc9",
            "c5bc37521bc84b3c98e9335ee320666b",
            "4ef7fdc9433246679eef2f3e97c6ffce",
            "efad2f30eb024498be344ad8b251e957",
            "270996a1243a431cb8bc1f475a940ab6",
            "a0744227e6b44eb0a582aac7fe3dbc88",
            "14b405539fa341dd991829f1427ad879",
            "6fb517053ebf4473b77270ae53a12dfb",
            "cbee7f34885243dfb67dbabd674de70f",
            "9bd820f754b84210a4e70301b1de2edd",
            "4b3a7b6520c641fb944e707e60f75f1b",
            "aa5919cf542241f5b2b2ebaa5afece78",
            "503a448c81f342b6b235d70f9c4a2f4c",
            "1a0ba0825df44d61ad5ac2bb19ddc1a6",
            "6abdb76ef8814cc696e26b6215bcaf91",
            "9ca07039c9014068b64f6dc721b2db39",
            "2da309823f25480c927b3d71c0c7e090",
            "cc980a6b17484b4b8970a79b7d62e467",
            "4e636e0be67d42b1969f08549be0c669",
            "0acf199117e64be5b1c9f5e4c0b35408",
            "3d1505768d2647028eb1e27b9e1204bf",
            "5d0ba503b0bc4b168efbb252774ace36",
            "f4680952c5b84d8f8ab233f7caae012a",
            "c0a171df34eb4ea2a243154a5b6d7b90",
            "e8a6885adb4b42f28c57e9ee677fcd4e",
            "df6e26c5da3a484ea109eb6b3078f9e8",
            "55e4d1a7ceda4526b3022c916441d89c",
            "3146b6474a774beb9bc3952ddd968f71",
            "775f2a963f0f4f9687e3eec1495e4103",
            "ac70b3c74a114a539b4bdc6ebcb29a13",
            "e122de7f1ed74404b595b33aff39ec0e",
            "1f4d1237ffa64ada801d0699c8a6f773",
            "a689bf1a1987405199a66cf999d9b082",
            "2181f636fd6b4a4b817b267a9224d995",
            "b85d3996b14d4a63af4f1218bdf306fc",
            "94a1c8720072493fa4ccab5fca92e3ea",
            "05c493ecbb074a7aa8a43089fcfc8089",
            "72f999430c6a42e4b895f7d3a486f82c",
            "54bd7129978746b1ae80f0749f9a9155"
          ]
        },
        "id": "lQ9vmgrm5oZ_",
        "outputId": "36d0df05-e1e2-4a1f-f185-dedd2bb79922"
      },
      "execution_count": null,
      "outputs": [
        {
          "output_type": "stream",
          "name": "stderr",
          "text": [
            "No model was supplied, defaulted to distilbert/distilbert-base-uncased-finetuned-sst-2-english and revision 714eb0f (https://huggingface.co/distilbert/distilbert-base-uncased-finetuned-sst-2-english).\n",
            "Using a pipeline without specifying a model name and revision in production is not recommended.\n",
            "/usr/local/lib/python3.11/dist-packages/huggingface_hub/utils/_auth.py:94: UserWarning: \n",
            "The secret `HF_TOKEN` does not exist in your Colab secrets.\n",
            "To authenticate with the Hugging Face Hub, create a token in your settings tab (https://huggingface.co/settings/tokens), set it as secret in your Google Colab and restart your session.\n",
            "You will be able to reuse this secret in all of your notebooks.\n",
            "Please note that authentication is recommended but still optional to access public models or datasets.\n",
            "  warnings.warn(\n"
          ]
        },
        {
          "output_type": "display_data",
          "data": {
            "text/plain": [
              "config.json:   0%|          | 0.00/629 [00:00<?, ?B/s]"
            ],
            "application/vnd.jupyter.widget-view+json": {
              "version_major": 2,
              "version_minor": 0,
              "model_id": "2830c0d0207b43829e5edb31e4214386"
            }
          },
          "metadata": {}
        },
        {
          "output_type": "stream",
          "name": "stderr",
          "text": [
            "Xet Storage is enabled for this repo, but the 'hf_xet' package is not installed. Falling back to regular HTTP download. For better performance, install the package with: `pip install huggingface_hub[hf_xet]` or `pip install hf_xet`\n",
            "WARNING:huggingface_hub.file_download:Xet Storage is enabled for this repo, but the 'hf_xet' package is not installed. Falling back to regular HTTP download. For better performance, install the package with: `pip install huggingface_hub[hf_xet]` or `pip install hf_xet`\n"
          ]
        },
        {
          "output_type": "display_data",
          "data": {
            "text/plain": [
              "model.safetensors:   0%|          | 0.00/268M [00:00<?, ?B/s]"
            ],
            "application/vnd.jupyter.widget-view+json": {
              "version_major": 2,
              "version_minor": 0,
              "model_id": "14b405539fa341dd991829f1427ad879"
            }
          },
          "metadata": {}
        },
        {
          "output_type": "display_data",
          "data": {
            "text/plain": [
              "tokenizer_config.json:   0%|          | 0.00/48.0 [00:00<?, ?B/s]"
            ],
            "application/vnd.jupyter.widget-view+json": {
              "version_major": 2,
              "version_minor": 0,
              "model_id": "cc980a6b17484b4b8970a79b7d62e467"
            }
          },
          "metadata": {}
        },
        {
          "output_type": "display_data",
          "data": {
            "text/plain": [
              "vocab.txt:   0%|          | 0.00/232k [00:00<?, ?B/s]"
            ],
            "application/vnd.jupyter.widget-view+json": {
              "version_major": 2,
              "version_minor": 0,
              "model_id": "775f2a963f0f4f9687e3eec1495e4103"
            }
          },
          "metadata": {}
        },
        {
          "output_type": "stream",
          "name": "stderr",
          "text": [
            "Device set to use cpu\n"
          ]
        },
        {
          "output_type": "stream",
          "name": "stdout",
          "text": [
            "[{'label': 'NEGATIVE', 'score': 0.9993752837181091}]\n"
          ]
        }
      ]
    },
    {
      "cell_type": "markdown",
      "source": [
        "### RNN"
      ],
      "metadata": {
        "id": "geplPDv557py"
      }
    },
    {
      "cell_type": "code",
      "source": [
        "# annotation auto avec hugging face\n",
        "from transformers import pipeline\n",
        "classifier = pipeline(\"sentiment-analysis\")\n",
        "\n",
        "annotated = []\n",
        "\n",
        "for sent in sentences[:500]:  # Limite pour tester\n",
        "    result = classifier(sent)[0]\n",
        "    label = result['label'].lower()  # 'POSITIVE', 'NEGATIVE'\n",
        "    annotated.append((sent, label))\n",
        "\n",
        "print(annotated[:100])"
      ],
      "metadata": {
        "id": "NIgLT4dO7dvJ"
      },
      "execution_count": null,
      "outputs": []
    },
    {
      "cell_type": "code",
      "source": [
        "### creation un csv\n",
        "import csv\n",
        "\n",
        "with open(\"hound_sentiment.csv\", \"w\", newline='', encoding='utf-8') as file:\n",
        "    writer = csv.writer(file)\n",
        "    writer.writerow([\"text\", \"label\"])\n",
        "    for sent, label in annotated:\n",
        "        writer.writerow([sent, label])"
      ],
      "metadata": {
        "id": "WyBYXi0V_ALQ"
      },
      "execution_count": null,
      "outputs": []
    },
    {
      "cell_type": "code",
      "source": [
        "pip uninstall torch torchtext torchvision torchaudio timm fastai sentence-transformers accelerate peft -y\n"
      ],
      "metadata": {
        "colab": {
          "base_uri": "https://localhost:8080/"
        },
        "id": "IjdPf_TZGFXH",
        "outputId": "76f06e0a-41c1-4f86-ed79-2fb009144a5a"
      },
      "execution_count": null,
      "outputs": [
        {
          "output_type": "stream",
          "name": "stdout",
          "text": [
            "Found existing installation: torch 2.2.2\n",
            "Uninstalling torch-2.2.2:\n",
            "  Successfully uninstalled torch-2.2.2\n",
            "Found existing installation: torchtext 0.17.2\n",
            "Uninstalling torchtext-0.17.2:\n",
            "  Successfully uninstalled torchtext-0.17.2\n",
            "Found existing installation: torchvision 0.17.2\n",
            "Uninstalling torchvision-0.17.2:\n",
            "  Successfully uninstalled torchvision-0.17.2\n",
            "Found existing installation: torchaudio 2.2.2\n",
            "Uninstalling torchaudio-2.2.2:\n",
            "  Successfully uninstalled torchaudio-2.2.2\n",
            "Found existing installation: timm 1.0.15\n",
            "Uninstalling timm-1.0.15:\n",
            "  Successfully uninstalled timm-1.0.15\n",
            "Found existing installation: fastai 2.7.19\n",
            "Uninstalling fastai-2.7.19:\n",
            "  Successfully uninstalled fastai-2.7.19\n",
            "Found existing installation: sentence-transformers 4.0.2\n",
            "Uninstalling sentence-transformers-4.0.2:\n",
            "  Successfully uninstalled sentence-transformers-4.0.2\n",
            "Found existing installation: accelerate 1.6.0\n",
            "Uninstalling accelerate-1.6.0:\n",
            "  Successfully uninstalled accelerate-1.6.0\n",
            "Found existing installation: peft 0.15.1\n",
            "Uninstalling peft-0.15.1:\n",
            "  Successfully uninstalled peft-0.15.1\n"
          ]
        }
      ]
    },
    {
      "cell_type": "code",
      "source": [
        "!pip install torch==2.2.2 torchvision torchaudio torchtext==0.17.2\n",
        "!pip install timm fastai sentence-transformers accelerate peft"
      ],
      "metadata": {
        "colab": {
          "base_uri": "https://localhost:8080/",
          "height": 1000
        },
        "id": "VOuFR8IWGIci",
        "outputId": "69161bea-cb32-477c-bd3c-981866b1ffd6"
      },
      "execution_count": null,
      "outputs": [
        {
          "output_type": "stream",
          "name": "stdout",
          "text": [
            "Collecting torch==2.2.2\n",
            "  Using cached torch-2.2.2-cp311-cp311-manylinux1_x86_64.whl.metadata (25 kB)\n",
            "Collecting torchvision\n",
            "  Using cached torchvision-0.21.0-cp311-cp311-manylinux1_x86_64.whl.metadata (6.1 kB)\n",
            "Collecting torchaudio\n",
            "  Using cached torchaudio-2.6.0-cp311-cp311-manylinux1_x86_64.whl.metadata (6.6 kB)\n",
            "Collecting torchtext==0.17.2\n",
            "  Using cached torchtext-0.17.2-cp311-cp311-manylinux1_x86_64.whl.metadata (7.9 kB)\n",
            "Requirement already satisfied: filelock in /usr/local/lib/python3.11/dist-packages (from torch==2.2.2) (3.18.0)\n",
            "Requirement already satisfied: typing-extensions>=4.8.0 in /usr/local/lib/python3.11/dist-packages (from torch==2.2.2) (4.13.1)\n",
            "Requirement already satisfied: sympy in /usr/local/lib/python3.11/dist-packages (from torch==2.2.2) (1.13.1)\n",
            "Requirement already satisfied: networkx in /usr/local/lib/python3.11/dist-packages (from torch==2.2.2) (3.4.2)\n",
            "Requirement already satisfied: jinja2 in /usr/local/lib/python3.11/dist-packages (from torch==2.2.2) (3.1.6)\n",
            "Requirement already satisfied: fsspec in /usr/local/lib/python3.11/dist-packages (from torch==2.2.2) (2024.12.0)\n",
            "Requirement already satisfied: nvidia-cuda-nvrtc-cu12==12.1.105 in /usr/local/lib/python3.11/dist-packages (from torch==2.2.2) (12.1.105)\n",
            "Requirement already satisfied: nvidia-cuda-runtime-cu12==12.1.105 in /usr/local/lib/python3.11/dist-packages (from torch==2.2.2) (12.1.105)\n",
            "Requirement already satisfied: nvidia-cuda-cupti-cu12==12.1.105 in /usr/local/lib/python3.11/dist-packages (from torch==2.2.2) (12.1.105)\n",
            "Requirement already satisfied: nvidia-cudnn-cu12==8.9.2.26 in /usr/local/lib/python3.11/dist-packages (from torch==2.2.2) (8.9.2.26)\n",
            "Requirement already satisfied: nvidia-cublas-cu12==12.1.3.1 in /usr/local/lib/python3.11/dist-packages (from torch==2.2.2) (12.1.3.1)\n",
            "Requirement already satisfied: nvidia-cufft-cu12==11.0.2.54 in /usr/local/lib/python3.11/dist-packages (from torch==2.2.2) (11.0.2.54)\n",
            "Requirement already satisfied: nvidia-curand-cu12==10.3.2.106 in /usr/local/lib/python3.11/dist-packages (from torch==2.2.2) (10.3.2.106)\n",
            "Requirement already satisfied: nvidia-cusolver-cu12==11.4.5.107 in /usr/local/lib/python3.11/dist-packages (from torch==2.2.2) (11.4.5.107)\n",
            "Requirement already satisfied: nvidia-cusparse-cu12==12.1.0.106 in /usr/local/lib/python3.11/dist-packages (from torch==2.2.2) (12.1.0.106)\n",
            "Requirement already satisfied: nvidia-nccl-cu12==2.19.3 in /usr/local/lib/python3.11/dist-packages (from torch==2.2.2) (2.19.3)\n",
            "Requirement already satisfied: nvidia-nvtx-cu12==12.1.105 in /usr/local/lib/python3.11/dist-packages (from torch==2.2.2) (12.1.105)\n",
            "Requirement already satisfied: triton==2.2.0 in /usr/local/lib/python3.11/dist-packages (from torch==2.2.2) (2.2.0)\n",
            "Requirement already satisfied: tqdm in /usr/local/lib/python3.11/dist-packages (from torchtext==0.17.2) (4.67.1)\n",
            "Requirement already satisfied: requests in /usr/local/lib/python3.11/dist-packages (from torchtext==0.17.2) (2.32.3)\n",
            "Requirement already satisfied: numpy in /usr/local/lib/python3.11/dist-packages (from torchtext==0.17.2) (2.2.4)\n",
            "Requirement already satisfied: nvidia-nvjitlink-cu12 in /usr/local/lib/python3.11/dist-packages (from nvidia-cusolver-cu12==11.4.5.107->torch==2.2.2) (12.4.127)\n",
            "INFO: pip is looking at multiple versions of torchvision to determine which version is compatible with other requirements. This could take a while.\n",
            "Collecting torchvision\n",
            "  Using cached torchvision-0.20.1-cp311-cp311-manylinux1_x86_64.whl.metadata (6.1 kB)\n",
            "  Using cached torchvision-0.20.0-cp311-cp311-manylinux1_x86_64.whl.metadata (6.1 kB)\n",
            "  Using cached torchvision-0.19.1-cp311-cp311-manylinux1_x86_64.whl.metadata (6.0 kB)\n",
            "  Using cached torchvision-0.19.0-cp311-cp311-manylinux1_x86_64.whl.metadata (6.0 kB)\n",
            "  Using cached torchvision-0.18.1-cp311-cp311-manylinux1_x86_64.whl.metadata (6.6 kB)\n",
            "  Using cached torchvision-0.18.0-cp311-cp311-manylinux1_x86_64.whl.metadata (6.6 kB)\n",
            "  Using cached torchvision-0.17.2-cp311-cp311-manylinux1_x86_64.whl.metadata (6.6 kB)\n",
            "Requirement already satisfied: pillow!=8.3.*,>=5.3.0 in /usr/local/lib/python3.11/dist-packages (from torchvision) (10.4.0)\n",
            "INFO: pip is looking at multiple versions of torchaudio to determine which version is compatible with other requirements. This could take a while.\n",
            "Collecting torchaudio\n",
            "  Using cached torchaudio-2.5.1-cp311-cp311-manylinux1_x86_64.whl.metadata (6.4 kB)\n",
            "  Using cached torchaudio-2.5.0-cp311-cp311-manylinux1_x86_64.whl.metadata (6.4 kB)\n",
            "  Using cached torchaudio-2.4.1-cp311-cp311-manylinux1_x86_64.whl.metadata (6.4 kB)\n",
            "  Using cached torchaudio-2.4.0-cp311-cp311-manylinux1_x86_64.whl.metadata (6.4 kB)\n",
            "  Using cached torchaudio-2.3.1-cp311-cp311-manylinux1_x86_64.whl.metadata (6.4 kB)\n",
            "  Using cached torchaudio-2.3.0-cp311-cp311-manylinux1_x86_64.whl.metadata (6.4 kB)\n",
            "  Using cached torchaudio-2.2.2-cp311-cp311-manylinux1_x86_64.whl.metadata (6.4 kB)\n",
            "Requirement already satisfied: MarkupSafe>=2.0 in /usr/local/lib/python3.11/dist-packages (from jinja2->torch==2.2.2) (3.0.2)\n",
            "Requirement already satisfied: charset-normalizer<4,>=2 in /usr/local/lib/python3.11/dist-packages (from requests->torchtext==0.17.2) (3.4.1)\n",
            "Requirement already satisfied: idna<4,>=2.5 in /usr/local/lib/python3.11/dist-packages (from requests->torchtext==0.17.2) (3.10)\n",
            "Requirement already satisfied: urllib3<3,>=1.21.1 in /usr/local/lib/python3.11/dist-packages (from requests->torchtext==0.17.2) (1.26.20)\n",
            "Requirement already satisfied: certifi>=2017.4.17 in /usr/local/lib/python3.11/dist-packages (from requests->torchtext==0.17.2) (2025.1.31)\n",
            "Requirement already satisfied: mpmath<1.4,>=1.1.0 in /usr/local/lib/python3.11/dist-packages (from sympy->torch==2.2.2) (1.3.0)\n",
            "Using cached torch-2.2.2-cp311-cp311-manylinux1_x86_64.whl (755.6 MB)\n",
            "Using cached torchtext-0.17.2-cp311-cp311-manylinux1_x86_64.whl (2.0 MB)\n",
            "Using cached torchvision-0.17.2-cp311-cp311-manylinux1_x86_64.whl (6.9 MB)\n",
            "Using cached torchaudio-2.2.2-cp311-cp311-manylinux1_x86_64.whl (3.3 MB)\n",
            "Installing collected packages: torch, torchvision, torchtext, torchaudio\n",
            "\u001b[31mERROR: pip's dependency resolver does not currently take into account all the packages that are installed. This behaviour is the source of the following dependency conflicts.\n",
            "docling-ibm-models 3.4.1 requires transformers<5.0.0,>=4.42.0; sys_platform != \"darwin\" or platform_machine != \"x86_64\", but you have transformers 4.31.0 which is incompatible.\n",
            "spacy-transformers 1.2.5 requires transformers<4.31.0,>=3.4.0, but you have transformers 4.31.0 which is incompatible.\n",
            "en-core-web-trf 3.5.0 requires spacy<3.6.0,>=3.5.0, but you have spacy 3.8.5 which is incompatible.\u001b[0m\u001b[31m\n",
            "\u001b[0mSuccessfully installed torch-2.2.2 torchaudio-2.2.2 torchtext-0.17.2 torchvision-0.17.2\n"
          ]
        },
        {
          "output_type": "display_data",
          "data": {
            "application/vnd.colab-display-data+json": {
              "pip_warning": {
                "packages": [
                  "torch",
                  "torchgen"
                ]
              },
              "id": "60563b968b444773a3749e1f648b4b1d"
            }
          },
          "metadata": {}
        },
        {
          "output_type": "stream",
          "name": "stdout",
          "text": [
            "Collecting timm\n",
            "  Using cached timm-1.0.15-py3-none-any.whl.metadata (52 kB)\n",
            "Collecting fastai\n",
            "  Using cached fastai-2.7.19-py3-none-any.whl.metadata (9.2 kB)\n",
            "Collecting sentence-transformers\n",
            "  Using cached sentence_transformers-4.0.2-py3-none-any.whl.metadata (13 kB)\n",
            "Collecting accelerate\n",
            "  Using cached accelerate-1.6.0-py3-none-any.whl.metadata (19 kB)\n",
            "Collecting peft\n",
            "  Using cached peft-0.15.1-py3-none-any.whl.metadata (13 kB)\n",
            "Requirement already satisfied: torch in /usr/local/lib/python3.11/dist-packages (from timm) (2.2.2)\n",
            "Requirement already satisfied: torchvision in /usr/local/lib/python3.11/dist-packages (from timm) (0.17.2)\n",
            "Requirement already satisfied: pyyaml in /usr/local/lib/python3.11/dist-packages (from timm) (6.0.2)\n",
            "Requirement already satisfied: huggingface_hub in /usr/local/lib/python3.11/dist-packages (from timm) (0.30.1)\n",
            "Requirement already satisfied: safetensors in /usr/local/lib/python3.11/dist-packages (from timm) (0.5.3)\n",
            "Requirement already satisfied: pip in /usr/local/lib/python3.11/dist-packages (from fastai) (24.1.2)\n",
            "Requirement already satisfied: packaging in /usr/local/lib/python3.11/dist-packages (from fastai) (24.2)\n",
            "Requirement already satisfied: fastdownload<2,>=0.0.5 in /usr/local/lib/python3.11/dist-packages (from fastai) (0.0.7)\n",
            "Requirement already satisfied: fastcore<1.8,>=1.5.29 in /usr/local/lib/python3.11/dist-packages (from fastai) (1.7.29)\n",
            "Requirement already satisfied: matplotlib in /usr/local/lib/python3.11/dist-packages (from fastai) (3.10.0)\n",
            "Requirement already satisfied: pandas in /usr/local/lib/python3.11/dist-packages (from fastai) (2.2.2)\n",
            "Requirement already satisfied: requests in /usr/local/lib/python3.11/dist-packages (from fastai) (2.32.3)\n",
            "Requirement already satisfied: fastprogress>=0.2.4 in /usr/local/lib/python3.11/dist-packages (from fastai) (1.0.3)\n",
            "Requirement already satisfied: pillow>=9.0.0 in /usr/local/lib/python3.11/dist-packages (from fastai) (10.4.0)\n",
            "Requirement already satisfied: scikit-learn in /usr/local/lib/python3.11/dist-packages (from fastai) (1.6.1)\n",
            "Requirement already satisfied: scipy in /usr/local/lib/python3.11/dist-packages (from fastai) (1.14.1)\n",
            "Requirement already satisfied: spacy<4 in /usr/local/lib/python3.11/dist-packages (from fastai) (3.8.5)\n",
            "Collecting transformers<5.0.0,>=4.41.0 (from sentence-transformers)\n",
            "  Using cached transformers-4.51.2-py3-none-any.whl.metadata (38 kB)\n",
            "Requirement already satisfied: tqdm in /usr/local/lib/python3.11/dist-packages (from sentence-transformers) (4.67.1)\n",
            "Requirement already satisfied: typing_extensions>=4.5.0 in /usr/local/lib/python3.11/dist-packages (from sentence-transformers) (4.13.1)\n",
            "Requirement already satisfied: numpy<3.0.0,>=1.17 in /usr/local/lib/python3.11/dist-packages (from accelerate) (2.2.4)\n",
            "Requirement already satisfied: psutil in /usr/local/lib/python3.11/dist-packages (from accelerate) (7.0.0)\n",
            "Requirement already satisfied: filelock in /usr/local/lib/python3.11/dist-packages (from huggingface_hub->timm) (3.18.0)\n",
            "Requirement already satisfied: fsspec>=2023.5.0 in /usr/local/lib/python3.11/dist-packages (from huggingface_hub->timm) (2024.12.0)\n",
            "Requirement already satisfied: spacy-legacy<3.1.0,>=3.0.11 in /usr/local/lib/python3.11/dist-packages (from spacy<4->fastai) (3.0.12)\n",
            "Requirement already satisfied: spacy-loggers<2.0.0,>=1.0.0 in /usr/local/lib/python3.11/dist-packages (from spacy<4->fastai) (1.0.5)\n",
            "Requirement already satisfied: murmurhash<1.1.0,>=0.28.0 in /usr/local/lib/python3.11/dist-packages (from spacy<4->fastai) (1.0.12)\n",
            "Requirement already satisfied: cymem<2.1.0,>=2.0.2 in /usr/local/lib/python3.11/dist-packages (from spacy<4->fastai) (2.0.11)\n",
            "Requirement already satisfied: preshed<3.1.0,>=3.0.2 in /usr/local/lib/python3.11/dist-packages (from spacy<4->fastai) (3.0.9)\n",
            "Requirement already satisfied: thinc<8.4.0,>=8.3.4 in /usr/local/lib/python3.11/dist-packages (from spacy<4->fastai) (8.3.6)\n",
            "Requirement already satisfied: wasabi<1.2.0,>=0.9.1 in /usr/local/lib/python3.11/dist-packages (from spacy<4->fastai) (1.1.3)\n",
            "Requirement already satisfied: srsly<3.0.0,>=2.4.3 in /usr/local/lib/python3.11/dist-packages (from spacy<4->fastai) (2.5.1)\n",
            "Requirement already satisfied: catalogue<2.1.0,>=2.0.6 in /usr/local/lib/python3.11/dist-packages (from spacy<4->fastai) (2.0.10)\n",
            "Requirement already satisfied: weasel<0.5.0,>=0.1.0 in /usr/local/lib/python3.11/dist-packages (from spacy<4->fastai) (0.4.1)\n",
            "Requirement already satisfied: typer<1.0.0,>=0.3.0 in /usr/local/lib/python3.11/dist-packages (from spacy<4->fastai) (0.9.4)\n",
            "Requirement already satisfied: pydantic!=1.8,!=1.8.1,<3.0.0,>=1.7.4 in /usr/local/lib/python3.11/dist-packages (from spacy<4->fastai) (2.11.3)\n",
            "Requirement already satisfied: jinja2 in /usr/local/lib/python3.11/dist-packages (from spacy<4->fastai) (3.1.6)\n",
            "Requirement already satisfied: setuptools in /usr/local/lib/python3.11/dist-packages (from spacy<4->fastai) (75.2.0)\n",
            "Requirement already satisfied: langcodes<4.0.0,>=3.2.0 in /usr/local/lib/python3.11/dist-packages (from spacy<4->fastai) (3.5.0)\n",
            "Requirement already satisfied: charset-normalizer<4,>=2 in /usr/local/lib/python3.11/dist-packages (from requests->fastai) (3.4.1)\n",
            "Requirement already satisfied: idna<4,>=2.5 in /usr/local/lib/python3.11/dist-packages (from requests->fastai) (3.10)\n",
            "Requirement already satisfied: urllib3<3,>=1.21.1 in /usr/local/lib/python3.11/dist-packages (from requests->fastai) (1.26.20)\n",
            "Requirement already satisfied: certifi>=2017.4.17 in /usr/local/lib/python3.11/dist-packages (from requests->fastai) (2025.1.31)\n",
            "Requirement already satisfied: sympy in /usr/local/lib/python3.11/dist-packages (from torch->timm) (1.13.1)\n",
            "Requirement already satisfied: networkx in /usr/local/lib/python3.11/dist-packages (from torch->timm) (3.4.2)\n",
            "Requirement already satisfied: nvidia-cuda-nvrtc-cu12==12.1.105 in /usr/local/lib/python3.11/dist-packages (from torch->timm) (12.1.105)\n",
            "Requirement already satisfied: nvidia-cuda-runtime-cu12==12.1.105 in /usr/local/lib/python3.11/dist-packages (from torch->timm) (12.1.105)\n",
            "Requirement already satisfied: nvidia-cuda-cupti-cu12==12.1.105 in /usr/local/lib/python3.11/dist-packages (from torch->timm) (12.1.105)\n",
            "Requirement already satisfied: nvidia-cudnn-cu12==8.9.2.26 in /usr/local/lib/python3.11/dist-packages (from torch->timm) (8.9.2.26)\n",
            "Requirement already satisfied: nvidia-cublas-cu12==12.1.3.1 in /usr/local/lib/python3.11/dist-packages (from torch->timm) (12.1.3.1)\n",
            "Requirement already satisfied: nvidia-cufft-cu12==11.0.2.54 in /usr/local/lib/python3.11/dist-packages (from torch->timm) (11.0.2.54)\n",
            "Requirement already satisfied: nvidia-curand-cu12==10.3.2.106 in /usr/local/lib/python3.11/dist-packages (from torch->timm) (10.3.2.106)\n",
            "Requirement already satisfied: nvidia-cusolver-cu12==11.4.5.107 in /usr/local/lib/python3.11/dist-packages (from torch->timm) (11.4.5.107)\n",
            "Requirement already satisfied: nvidia-cusparse-cu12==12.1.0.106 in /usr/local/lib/python3.11/dist-packages (from torch->timm) (12.1.0.106)\n",
            "Requirement already satisfied: nvidia-nccl-cu12==2.19.3 in /usr/local/lib/python3.11/dist-packages (from torch->timm) (2.19.3)\n",
            "Requirement already satisfied: nvidia-nvtx-cu12==12.1.105 in /usr/local/lib/python3.11/dist-packages (from torch->timm) (12.1.105)\n",
            "Requirement already satisfied: triton==2.2.0 in /usr/local/lib/python3.11/dist-packages (from torch->timm) (2.2.0)\n",
            "Requirement already satisfied: nvidia-nvjitlink-cu12 in /usr/local/lib/python3.11/dist-packages (from nvidia-cusolver-cu12==11.4.5.107->torch->timm) (12.4.127)\n",
            "Requirement already satisfied: regex!=2019.12.17 in /usr/local/lib/python3.11/dist-packages (from transformers<5.0.0,>=4.41.0->sentence-transformers) (2024.11.6)\n",
            "Traceback (most recent call last):\n",
            "  File \"/usr/local/lib/python3.11/dist-packages/pip/_internal/cli/base_command.py\", line 179, in exc_logging_wrapper\n",
            "    status = run_func(*args)\n",
            "             ^^^^^^^^^^^^^^^\n",
            "  File \"/usr/local/lib/python3.11/dist-packages/pip/_internal/cli/req_command.py\", line 67, in wrapper\n",
            "    return func(self, options, args)\n",
            "           ^^^^^^^^^^^^^^^^^^^^^^^^^\n",
            "  File \"/usr/local/lib/python3.11/dist-packages/pip/_internal/commands/install.py\", line 377, in run\n",
            "    requirement_set = resolver.resolve(\n",
            "                      ^^^^^^^^^^^^^^^^^\n",
            "  File \"/usr/local/lib/python3.11/dist-packages/pip/_internal/resolution/resolvelib/resolver.py\", line 95, in resolve\n",
            "    result = self._result = resolver.resolve(\n",
            "                            ^^^^^^^^^^^^^^^^^\n",
            "  File \"/usr/local/lib/python3.11/dist-packages/pip/_vendor/resolvelib/resolvers.py\", line 546, in resolve\n",
            "^C\n"
          ]
        }
      ]
    },
    {
      "cell_type": "code",
      "source": [
        "import torch\n",
        "import torch.nn as nn\n",
        "import torch.optim as optim\n",
        "import pandas as pd\n",
        "from torch.utils.data import Dataset, DataLoader\n",
        "from torchtext.data.utils import get_tokenizer\n",
        "from torchtext.vocab import build_vocab_from_iterator\n",
        "from sklearn.model_selection import train_test_split\n",
        "\n",
        "# Charger les données avec pandas\n",
        "df = pd.read_csv(\"hound_sentiment.csv\")  # Assure-toi que les colonnes sont 'text' et 'label'\n",
        "\n",
        "# Tokenizer spaCy\n",
        "tokenizer = get_tokenizer(\"spacy\", language=\"en_core_web_sm\")\n",
        "\n",
        "# Construction du vocabulaire\n",
        "def yield_tokens(texts):\n",
        "    for text in texts:\n",
        "        yield tokenizer(text)\n",
        "\n",
        "# Split train/test\n",
        "train_texts, test_texts, train_labels, test_labels = train_test_split(\n",
        "    df[\"text\"].tolist(), df[\"label\"].tolist(), test_size=0.2, random_state=42\n",
        ")\n",
        "\n",
        "# Build vocab\n",
        "vocab = build_vocab_from_iterator(yield_tokens(train_texts), specials=[\"<unk>\", \"<pad>\"])\n",
        "vocab.set_default_index(vocab[\"<unk>\"])\n",
        "\n",
        "# Mapping des labels\n",
        "label_vocab = {label: idx for idx, label in enumerate(sorted(set(train_labels)))}\n",
        "inv_label_vocab = {v: k for k, v in label_vocab.items()}\n",
        "\n",
        "# Dataset personnalisé\n",
        "class TextDataset(Dataset):\n",
        "    def __init__(self, texts, labels, tokenizer, vocab, label_vocab):\n",
        "        self.texts = texts\n",
        "        self.labels = labels\n",
        "        self.tokenizer = tokenizer\n",
        "        self.vocab = vocab\n",
        "        self.label_vocab = label_vocab\n",
        "\n",
        "    def __len__(self):\n",
        "        return len(self.texts)\n",
        "\n",
        "    def __getitem__(self, idx):\n",
        "        tokens = self.tokenizer(self.texts[idx])\n",
        "        indices = [self.vocab[token] for token in tokens]\n",
        "        label = self.label_vocab[self.labels[idx]]\n",
        "        return torch.tensor(indices), torch.tensor(label)\n",
        "\n",
        "# Collate function pour padding dynamique\n",
        "def collate_batch(batch):\n",
        "    text_list, label_list = [], []\n",
        "    for text, label in batch:\n",
        "        text_list.append(text)\n",
        "        label_list.append(label)\n",
        "    text_batch = torch.nn.utils.rnn.pad_sequence(text_list, batch_first=True, padding_value=vocab[\"<pad>\"])\n",
        "    label_batch = torch.tensor(label_list)\n",
        "    return text_batch, label_batch\n",
        "\n",
        "# Instancier les datasets\n",
        "train_dataset = TextDataset(train_texts, train_labels, tokenizer, vocab, label_vocab)\n",
        "test_dataset = TextDataset(test_texts, test_labels, tokenizer, vocab, label_vocab)\n",
        "\n",
        "# DataLoaders\n",
        "device = torch.device(\"cuda\" if torch.cuda.is_available() else \"cpu\")\n",
        "train_loader = DataLoader(train_dataset, batch_size=32, shuffle=True, collate_fn=collate_batch)\n",
        "test_loader = DataLoader(test_dataset, batch_size=32, shuffle=False, collate_fn=collate_batch)\n",
        "\n",
        "# Modèle RNN\n",
        "class SentimentRNN(nn.Module):\n",
        "    def __init__(self, vocab_size, embed_dim, hidden_dim, output_dim):\n",
        "        super().__init__()\n",
        "        self.embedding = nn.Embedding(vocab_size, embed_dim, padding_idx=vocab[\"<pad>\"])\n",
        "        self.rnn = nn.LSTM(embed_dim, hidden_dim, batch_first=True)\n",
        "        self.fc = nn.Linear(hidden_dim, output_dim)\n",
        "\n",
        "    def forward(self, text):\n",
        "        embedded = self.embedding(text)\n",
        "        output, (hidden, _) = self.rnn(embedded)\n",
        "        return self.fc(hidden[-1])\n",
        "\n",
        "# Instancier le modèle\n",
        "model = SentimentRNN(len(vocab), 100, 128, len(label_vocab)).to(device)\n",
        "\n",
        "# Optimizer et Loss\n",
        "optimizer = optim.Adam(model.parameters(), lr=0.001)\n",
        "criterion = nn.CrossEntropyLoss().to(device)\n"
      ],
      "metadata": {
        "colab": {
          "base_uri": "https://localhost:8080/"
        },
        "id": "D1hkCXrFEw0P",
        "outputId": "fd640f62-afd2-408c-e28a-ae9dd17a05bd"
      },
      "execution_count": null,
      "outputs": [
        {
          "output_type": "stream",
          "name": "stderr",
          "text": [
            "\n",
            "A module that was compiled using NumPy 1.x cannot be run in\n",
            "NumPy 2.0.2 as it may crash. To support both 1.x and 2.x\n",
            "versions of NumPy, modules must be compiled with NumPy 2.0.\n",
            "Some module may need to rebuild instead e.g. with 'pybind11>=2.12'.\n",
            "\n",
            "If you are a user of the module, the easiest solution will be to\n",
            "downgrade to 'numpy<2' or try to upgrade the affected module.\n",
            "We expect that some modules will need time to support NumPy 2.\n",
            "\n",
            "Traceback (most recent call last):  File \"<frozen runpy>\", line 198, in _run_module_as_main\n",
            "  File \"<frozen runpy>\", line 88, in _run_code\n",
            "  File \"/usr/local/lib/python3.11/dist-packages/colab_kernel_launcher.py\", line 37, in <module>\n",
            "    ColabKernelApp.launch_instance()\n",
            "  File \"/usr/local/lib/python3.11/dist-packages/traitlets/config/application.py\", line 992, in launch_instance\n",
            "    app.start()\n",
            "  File \"/usr/local/lib/python3.11/dist-packages/ipykernel/kernelapp.py\", line 712, in start\n",
            "    self.io_loop.start()\n",
            "  File \"/usr/local/lib/python3.11/dist-packages/tornado/platform/asyncio.py\", line 205, in start\n",
            "    self.asyncio_loop.run_forever()\n",
            "  File \"/usr/lib/python3.11/asyncio/base_events.py\", line 608, in run_forever\n",
            "    self._run_once()\n",
            "  File \"/usr/lib/python3.11/asyncio/base_events.py\", line 1936, in _run_once\n",
            "    handle._run()\n",
            "  File \"/usr/lib/python3.11/asyncio/events.py\", line 84, in _run\n",
            "    self._context.run(self._callback, *self._args)\n",
            "  File \"/usr/local/lib/python3.11/dist-packages/ipykernel/kernelbase.py\", line 510, in dispatch_queue\n",
            "    await self.process_one()\n",
            "  File \"/usr/local/lib/python3.11/dist-packages/ipykernel/kernelbase.py\", line 499, in process_one\n",
            "    await dispatch(*args)\n",
            "  File \"/usr/local/lib/python3.11/dist-packages/ipykernel/kernelbase.py\", line 406, in dispatch_shell\n",
            "    await result\n",
            "  File \"/usr/local/lib/python3.11/dist-packages/ipykernel/kernelbase.py\", line 730, in execute_request\n",
            "    reply_content = await reply_content\n",
            "  File \"/usr/local/lib/python3.11/dist-packages/ipykernel/ipkernel.py\", line 383, in do_execute\n",
            "    res = shell.run_cell(\n",
            "  File \"/usr/local/lib/python3.11/dist-packages/ipykernel/zmqshell.py\", line 528, in run_cell\n",
            "    return super().run_cell(*args, **kwargs)\n",
            "  File \"/usr/local/lib/python3.11/dist-packages/IPython/core/interactiveshell.py\", line 2975, in run_cell\n",
            "    result = self._run_cell(\n",
            "  File \"/usr/local/lib/python3.11/dist-packages/IPython/core/interactiveshell.py\", line 3030, in _run_cell\n",
            "    return runner(coro)\n",
            "  File \"/usr/local/lib/python3.11/dist-packages/IPython/core/async_helpers.py\", line 78, in _pseudo_sync_runner\n",
            "    coro.send(None)\n",
            "  File \"/usr/local/lib/python3.11/dist-packages/IPython/core/interactiveshell.py\", line 3257, in run_cell_async\n",
            "    has_raised = await self.run_ast_nodes(code_ast.body, cell_name,\n",
            "  File \"/usr/local/lib/python3.11/dist-packages/IPython/core/interactiveshell.py\", line 3473, in run_ast_nodes\n",
            "    if (await self.run_code(code, result,  async_=asy)):\n",
            "  File \"/usr/local/lib/python3.11/dist-packages/IPython/core/interactiveshell.py\", line 3553, in run_code\n",
            "    exec(code_obj, self.user_global_ns, self.user_ns)\n",
            "  File \"<ipython-input-1-84a639206bf7>\", line 1, in <cell line: 0>\n",
            "    import torch\n",
            "  File \"/usr/local/lib/python3.11/dist-packages/torch/__init__.py\", line 1477, in <module>\n",
            "    from .functional import *  # noqa: F403\n",
            "  File \"/usr/local/lib/python3.11/dist-packages/torch/functional.py\", line 9, in <module>\n",
            "    import torch.nn.functional as F\n",
            "  File \"/usr/local/lib/python3.11/dist-packages/torch/nn/__init__.py\", line 1, in <module>\n",
            "    from .modules import *  # noqa: F403\n",
            "  File \"/usr/local/lib/python3.11/dist-packages/torch/nn/modules/__init__.py\", line 35, in <module>\n",
            "    from .transformer import TransformerEncoder, TransformerDecoder, \\\n",
            "  File \"/usr/local/lib/python3.11/dist-packages/torch/nn/modules/transformer.py\", line 20, in <module>\n",
            "    device: torch.device = torch.device(torch._C._get_default_device()),  # torch.device('cpu'),\n",
            "/usr/local/lib/python3.11/dist-packages/torch/nn/modules/transformer.py:20: UserWarning: Failed to initialize NumPy: _ARRAY_API not found (Triggered internally at ../torch/csrc/utils/tensor_numpy.cpp:84.)\n",
            "  device: torch.device = torch.device(torch._C._get_default_device()),  # torch.device('cpu'),\n"
          ]
        }
      ]
    },
    {
      "cell_type": "code",
      "source": [
        "### Entraînement du modèle\n",
        "def train(model, dataloader, optimizer, criterion):\n",
        "    model.train()\n",
        "    total_loss, correct, total = 0, 0, 0\n",
        "    for texts, labels in dataloader:\n",
        "        texts, labels = texts.to(device), labels.to(device)\n",
        "\n",
        "        optimizer.zero_grad()\n",
        "        outputs = model(texts)\n",
        "        loss = criterion(outputs, labels)\n",
        "        loss.backward()\n",
        "        optimizer.step()\n",
        "\n",
        "        total_loss += loss.item()\n",
        "        preds = outputs.argmax(1)\n",
        "        correct += (preds == labels).sum().item()\n",
        "        total += labels.size(0)\n",
        "\n",
        "    accuracy = correct / total\n",
        "    return total_loss / len(dataloader), accuracy\n",
        "\n"
      ],
      "metadata": {
        "id": "ttQRXIVxHVxN"
      },
      "execution_count": null,
      "outputs": []
    },
    {
      "cell_type": "code",
      "source": [
        "### Évaluation\n",
        "def evaluate(model, dataloader, criterion):\n",
        "    model.eval()\n",
        "    total_loss, correct, total = 0, 0, 0\n",
        "    with torch.no_grad():\n",
        "        for texts, labels in dataloader:\n",
        "            texts, labels = texts.to(device), labels.to(device)\n",
        "            outputs = model(texts)\n",
        "            loss = criterion(outputs, labels)\n",
        "\n",
        "            total_loss += loss.item()\n",
        "            preds = outputs.argmax(1)\n",
        "            correct += (preds == labels).sum().item()\n",
        "            total += labels.size(0)\n",
        "\n",
        "    accuracy = correct / total\n",
        "    return total_loss / len(dataloader), accuracy\n"
      ],
      "metadata": {
        "id": "z_GjawBoJtrV"
      },
      "execution_count": null,
      "outputs": []
    },
    {
      "cell_type": "code",
      "source": [
        "###Boucle d'entraînement principale\n",
        "NUM_EPOCHS = 5\n",
        "\n",
        "for epoch in range(NUM_EPOCHS):\n",
        "    train_loss, train_acc = train(model, train_loader, optimizer, criterion)\n",
        "    val_loss, val_acc = evaluate(model, test_loader, criterion)\n",
        "    print(f\"Epoch {epoch+1}: Train Loss={train_loss:.4f}, Acc={train_acc*100:.2f}%, Val Loss={val_loss:.4f}, Acc={val_acc*100:.2f}%\")\n",
        "\n"
      ],
      "metadata": {
        "colab": {
          "base_uri": "https://localhost:8080/"
        },
        "id": "md5CRQJ8HgkE",
        "outputId": "a19403c8-32ba-484e-a9d3-8a74c0102bd2"
      },
      "execution_count": null,
      "outputs": [
        {
          "output_type": "stream",
          "name": "stdout",
          "text": [
            "Epoch 1: Train Loss=0.6999, Acc=47.00%, Val Loss=0.6628, Acc=60.00%\n",
            "Epoch 2: Train Loss=0.6881, Acc=54.75%, Val Loss=0.6727, Acc=60.00%\n",
            "Epoch 3: Train Loss=0.6850, Acc=55.00%, Val Loss=0.6568, Acc=60.00%\n",
            "Epoch 4: Train Loss=0.6854, Acc=55.00%, Val Loss=0.6477, Acc=60.00%\n",
            "Epoch 5: Train Loss=0.6822, Acc=55.50%, Val Loss=0.6531, Acc=59.00%\n"
          ]
        }
      ]
    },
    {
      "cell_type": "code",
      "source": [
        "### predire un sentiment\n",
        "def predict_sentiment(sentence):\n",
        "    model.eval()\n",
        "    tokens = tokenizer(sentence)\n",
        "    indices = torch.tensor([vocab[token] for token in tokens]).unsqueeze(0).to(device)\n",
        "    with torch.no_grad():\n",
        "        output = model(indices)\n",
        "        pred = torch.argmax(output, dim=1).item()\n",
        "    return inv_label_vocab[pred]\n",
        "\n",
        "# Test\n",
        "print(predict_sentiment(\"He was terrified by the howling wind and darkness.\"))\n"
      ],
      "metadata": {
        "colab": {
          "base_uri": "https://localhost:8080/"
        },
        "id": "pgUXEG2sJ9Rp",
        "outputId": "18b1462d-7b40-4bfd-96cd-b3382ee89175"
      },
      "execution_count": null,
      "outputs": [
        {
          "output_type": "stream",
          "name": "stdout",
          "text": [
            "negative\n"
          ]
        }
      ]
    },
    {
      "cell_type": "markdown",
      "source": [
        "Dans cette partie, j'ai effectué une analyse de sentiment sur des phrases en utilisant trois méthodes différentes.\n",
        "* Naive Bayes Classifier : J'ai d'abord utilisé un classificateur Naive Bayes pour analyser des critiques de films provenant du corpus movie_reviews de NLTK. Le texte est prétraité et transformé en caractéristiques sous forme de mots (features), et le modèle est formé sur un sous-ensemble de données. Ensuite, la précision du modèle est évaluée sur un ensemble de test, et je teste également le classificateur sur un extrait de texte donné.\n",
        "* Pipeline Transformers (Hugging Face) : Ensuite, j'ai utilisé un pipeline de modèles pré-entraînés pour l'analyse de sentiment de Hugging Face. J'ai appliqué un modèle de classification de sentiment sur un extrait de texte, qui fournit directement une étiquette de sentiment (positif ou négatif) avec un score de confiance.\n",
        "* Réseau de Neurones (RNN avec PyTorch) : Enfin, j'ai implémenté un réseau de neurones récurrent (RNN) avec PyTorch pour l'analyse de sentiment. Le modèle utilise des embeddings, une couche LSTM et une couche linéaire pour prédire le sentiment d'une phrase. Le modèle est entraîné sur un jeu de données annotées automatiquement et évalué sur un ensemble de test. La perte et la précision sont calculées à chaque époque. Ce modèle est capable de prédire si une phrase est positive ou négative après l'entraînement."
      ],
      "metadata": {
        "id": "N0kyq12mPi-H"
      }
    },
    {
      "cell_type": "markdown",
      "source": [
        "## Résumé"
      ],
      "metadata": {
        "id": "BchBUxL8VtAL"
      }
    },
    {
      "cell_type": "markdown",
      "source": [
        "### Sumy"
      ],
      "metadata": {
        "id": "uqWIHZpFSSUC"
      }
    },
    {
      "cell_type": "code",
      "source": [
        "!pip install sumy"
      ],
      "metadata": {
        "colab": {
          "base_uri": "https://localhost:8080/"
        },
        "id": "jAO-nzUgV9rW",
        "outputId": "15ce0564-3ef3-42c0-c704-57bfeede4a91"
      },
      "execution_count": null,
      "outputs": [
        {
          "output_type": "stream",
          "name": "stdout",
          "text": [
            "Collecting sumy\n",
            "  Downloading sumy-0.11.0-py2.py3-none-any.whl.metadata (7.5 kB)\n",
            "Collecting docopt<0.7,>=0.6.1 (from sumy)\n",
            "  Downloading docopt-0.6.2.tar.gz (25 kB)\n",
            "  Preparing metadata (setup.py) ... \u001b[?25l\u001b[?25hdone\n",
            "Collecting breadability>=0.1.20 (from sumy)\n",
            "  Downloading breadability-0.1.20.tar.gz (32 kB)\n",
            "  Preparing metadata (setup.py) ... \u001b[?25l\u001b[?25hdone\n",
            "Requirement already satisfied: requests>=2.7.0 in /usr/local/lib/python3.11/dist-packages (from sumy) (2.32.3)\n",
            "Collecting pycountry>=18.2.23 (from sumy)\n",
            "  Downloading pycountry-24.6.1-py3-none-any.whl.metadata (12 kB)\n",
            "Requirement already satisfied: nltk>=3.0.2 in /usr/local/lib/python3.11/dist-packages (from sumy) (3.9.1)\n",
            "Requirement already satisfied: chardet in /usr/local/lib/python3.11/dist-packages (from breadability>=0.1.20->sumy) (5.2.0)\n",
            "Requirement already satisfied: lxml>=2.0 in /usr/local/lib/python3.11/dist-packages (from breadability>=0.1.20->sumy) (5.3.1)\n",
            "Requirement already satisfied: click in /usr/local/lib/python3.11/dist-packages (from nltk>=3.0.2->sumy) (8.1.8)\n",
            "Requirement already satisfied: joblib in /usr/local/lib/python3.11/dist-packages (from nltk>=3.0.2->sumy) (1.4.2)\n",
            "Requirement already satisfied: regex>=2021.8.3 in /usr/local/lib/python3.11/dist-packages (from nltk>=3.0.2->sumy) (2024.11.6)\n",
            "Requirement already satisfied: tqdm in /usr/local/lib/python3.11/dist-packages (from nltk>=3.0.2->sumy) (4.67.1)\n",
            "Requirement already satisfied: charset-normalizer<4,>=2 in /usr/local/lib/python3.11/dist-packages (from requests>=2.7.0->sumy) (3.4.1)\n",
            "Requirement already satisfied: idna<4,>=2.5 in /usr/local/lib/python3.11/dist-packages (from requests>=2.7.0->sumy) (3.10)\n",
            "Requirement already satisfied: urllib3<3,>=1.21.1 in /usr/local/lib/python3.11/dist-packages (from requests>=2.7.0->sumy) (2.3.0)\n",
            "Requirement already satisfied: certifi>=2017.4.17 in /usr/local/lib/python3.11/dist-packages (from requests>=2.7.0->sumy) (2025.1.31)\n",
            "Downloading sumy-0.11.0-py2.py3-none-any.whl (97 kB)\n",
            "\u001b[2K   \u001b[90m━━━━━━━━━━━━━━━━━━━━━━━━━━━━━━━━━━━━━━━━\u001b[0m \u001b[32m97.3/97.3 kB\u001b[0m \u001b[31m4.4 MB/s\u001b[0m eta \u001b[36m0:00:00\u001b[0m\n",
            "\u001b[?25hDownloading pycountry-24.6.1-py3-none-any.whl (6.3 MB)\n",
            "\u001b[2K   \u001b[90m━━━━━━━━━━━━━━━━━━━━━━━━━━━━━━━━━━━━━━━━\u001b[0m \u001b[32m6.3/6.3 MB\u001b[0m \u001b[31m58.3 MB/s\u001b[0m eta \u001b[36m0:00:00\u001b[0m\n",
            "\u001b[?25hBuilding wheels for collected packages: breadability, docopt\n",
            "  Building wheel for breadability (setup.py) ... \u001b[?25l\u001b[?25hdone\n",
            "  Created wheel for breadability: filename=breadability-0.1.20-py2.py3-none-any.whl size=21693 sha256=6a184d0ec5a8b858b49b7f4aef3ea7b7127a77d45a51151fb825a4e7eecb8ea6\n",
            "  Stored in directory: /root/.cache/pip/wheels/4d/57/58/7e3d7fedf51fe248b7fcee3df6945ae28638e22cddf01eb92b\n",
            "  Building wheel for docopt (setup.py) ... \u001b[?25l\u001b[?25hdone\n",
            "  Created wheel for docopt: filename=docopt-0.6.2-py2.py3-none-any.whl size=13706 sha256=0e94951766fc23a4333d4f4a90fd7eedd213bea4933dcd0dc97195c431cc5b9a\n",
            "  Stored in directory: /root/.cache/pip/wheels/1a/b0/8c/4b75c4116c31f83c8f9f047231251e13cc74481cca4a78a9ce\n",
            "Successfully built breadability docopt\n",
            "Installing collected packages: docopt, pycountry, breadability, sumy\n",
            "Successfully installed breadability-0.1.20 docopt-0.6.2 pycountry-24.6.1 sumy-0.11.0\n"
          ]
        }
      ]
    },
    {
      "cell_type": "code",
      "source": [
        "from sumy.parsers.plaintext import PlaintextParser\n",
        "from sumy.nlp.tokenizers import Tokenizer\n",
        "from sumy.summarizers.lsa import LsaSummarizer  # ou LexRankSummarizer, LuhnSummarizer, etc.\n",
        "from sumy.nlp.stemmers import Stemmer\n",
        "from sumy.utils import get_stop_words\n",
        "\n",
        "LANGUAGE = \"english\"  # ou \"french\"\n",
        "SENTENCES_COUNT = 5   # nombre de phrases du résumé\n",
        "\n",
        "text = cleaned_text[:10000]\n",
        "# Parser le texte\n",
        "parser = PlaintextParser.from_string(text, Tokenizer(LANGUAGE))\n",
        "stemmer = Stemmer(LANGUAGE)\n",
        "\n",
        "# Choisir un algorithme de résumé\n",
        "summarizer = LsaSummarizer(stemmer)\n",
        "summarizer.stop_words = get_stop_words(LANGUAGE)\n",
        "\n",
        "# Résumer\n",
        "summary = summarizer(parser.document, SENTENCES_COUNT)\n",
        "\n",
        "# Afficher\n",
        "print(\"Résumé :\\n\")\n",
        "for sentence in summary:\n",
        "    print(\"-\", sentence)\n"
      ],
      "metadata": {
        "colab": {
          "base_uri": "https://localhost:8080/"
        },
        "id": "ULNeScqtVu2D",
        "outputId": "6fc358da-37db-49cf-837e-d0822b77530f"
      },
      "execution_count": null,
      "outputs": [
        {
          "output_type": "stream",
          "name": "stdout",
          "text": [
            "Résumé :\n",
            "\n",
            "- It was a fine, thick piece of wood, bulbous-headed, of the sort which is known as a “Penang lawyer.” Just under the head was a broad silver band nearly an inch across.\n",
            "- He had never said as much before, and I must admit that his words gave me keen pleasure, for I had often been piqued by his indifference to my admiration and to the attempts which I had made to give publicity to his methods.\n",
            "- So your grave, middle-aged family practitioner vanishes into thin air, my dear Watson, and there emerges a young fellow under thirty, amiable, unambitious, absent-minded, and the possessor of a favourite dog, which I should describe roughly as being larger than a terrier and smaller than a mastiff.”\n",
            "- I laughed incredulously as Sherlock Holmes leaned back in his settee and blew little wavering rings of smoke up to the ceiling.\n",
            "- It is my experience that it is only an amiable man in this world who receives testimonials, only an unambitious one who abandons a London career for the country, and only an absent-minded one who leaves his stick and not his visiting-card after waiting an hour in your room.”\n"
          ]
        }
      ]
    },
    {
      "cell_type": "markdown",
      "source": [
        "### Bart"
      ],
      "metadata": {
        "id": "VKll0byhZ3QK"
      }
    },
    {
      "cell_type": "code",
      "source": [
        "from transformers import pipeline\n",
        "\n",
        "# Initialiser le pipeline de résumé avec un modèle pré-entraîné (ici BART pour le résumé)\n",
        "summarizer = pipeline(\"summarization\", model=\"facebook/bart-large-cnn\", tokenizer=\"facebook/bart-large-cnn\")\n",
        "\n",
        "# Fonction pour découper un texte en morceaux\n",
        "def split_into_chunks(text, num_chunks=5):\n",
        "    chunk_length = len(text) // num_chunks\n",
        "    chunks = [text[i:i + chunk_length] for i in range(0, len(text), chunk_length)]\n",
        "\n",
        "    if len(chunks) > num_chunks:\n",
        "        chunks = chunks[:num_chunks]\n",
        "    elif len(chunks) < num_chunks:\n",
        "        last_chunk = chunks[-1] + text[len(chunks) * chunk_length:]\n",
        "        chunks[-1] = last_chunk\n",
        "\n",
        "    return chunks\n",
        "\n",
        "\n",
        "# Découper le texte en 5 morceaux\n",
        "chunks = split_into_chunks(text, num_chunks=5)\n",
        "\n",
        "# Résumer chaque morceau\n",
        "for i, chunk in enumerate(chunks):\n",
        "    summary = summarizer(chunk, max_length=100, min_length=30, do_sample=False)\n",
        "    print(f\"\\nRésumé du Morceau {i+1} :\\n\", summary[0]['summary_text'])\n"
      ],
      "metadata": {
        "colab": {
          "base_uri": "https://localhost:8080/"
        },
        "id": "3WasStgsYXl4",
        "outputId": "629f783c-6b12-45cd-91ab-a746c8490ca1"
      },
      "execution_count": null,
      "outputs": [
        {
          "output_type": "stream",
          "name": "stderr",
          "text": [
            "Device set to use cpu\n"
          ]
        },
        {
          "output_type": "stream",
          "name": "stdout",
          "text": [
            "\n",
            "Résumé du Morceau 1 :\n",
            " The Hound of the Baskervilles, by A. Conan Doyle, published in 1884. The book is about the adventures of Sherlock Holmes and Dr. Watson. The story is told in 15 chapters.\n",
            "\n",
            "Résumé du Morceau 2 :\n",
            " Holmes asks Watson to reconstruct the identity of Dr. Mortimer. Watson says that Mortimer is a successful, elderly medical man. Holmes says that he is very much in Watson's debt for his work.\n",
            "\n",
            "Résumé du Morceau 3 :\n",
            " Watson had often been piqued by his indifference to his admiration and to his attempts to give publicity to his methods. He was proud, too, to think that he had so far mastered his system as to apply it in a way which earned his approval. He took the stick from my hands and examined it for a few minutes with his naked eyes.\n",
            "\n",
            "Résumé du Morceau 4 :\n",
            " ‘C.C.H.’ does stand for ‘Charing Cross Hospital’ ‘I can only think of the obvious conclusion that the man has. practised in town before going to the country,’ Sherlock Holmes said. ‘We believe there has been a change from a town hospital to a country practice’\n",
            "\n",
            "Résumé du Morceau 5 :\n",
            " Mortimer, James, M.R.C.S., 1882, Grimpen, Dartmoor, Devon. House-surgeon, from 1882 to 1884, at Charing Cross Hospital. Winner of Jackson prize for Comparative Pathology, with essay entitled ‘Is Disease a Reversion?’\n"
          ]
        }
      ]
    },
    {
      "cell_type": "markdown",
      "source": [
        "Les deux méthodes ont été utilisées pour résumer un texte :\n",
        "* Sumy : Un résumé est généré avec l'algorithme LSA (Latent Semantic Analysis), qui extrait les concepts clés du texte pour créer un résumé basé sur la sémantique. Le texte est analysé, tokenisé, puis résumé en 5 phrases.\n",
        "* Transformers (BART) : Le modèle pré-entraîné BART est utilisé pour générer un résumé en découpant le texte en morceaux. Chaque morceau est résumé de manière cohérente en ajustant la longueur du résumé.\n",
        "Ces deux techniques permettent de comparer un résumé statistique et un résumé généré par un modèle de deep learning."
      ],
      "metadata": {
        "id": "KGpuU8ZcTg2N"
      }
    },
    {
      "cell_type": "markdown",
      "source": [
        "## Analyse linguistique avec spacy"
      ],
      "metadata": {
        "id": "1sqQlC8MURN-"
      }
    },
    {
      "cell_type": "code",
      "source": [
        "import spacy\n",
        "from spacy import displacy\n",
        "\n",
        "# Charger le modèle pré-entraîné en anglais\n",
        "nlp = spacy.load(\"en_core_web_sm\")\n",
        "\n",
        "# Exemple de texte\n",
        "text = \"\"\"\n",
        "\n",
        "      Sherlock Holmes was born in London on January 6, 1854.\n",
        "\n",
        "\"\"\"\n",
        "\n",
        "# Traiter le texte avec le modèle spaCy\n",
        "doc = nlp(text)\n",
        "\n",
        "# Extraire les entités nommées\n",
        "named_entities = [(ent.text, ent.label_) for ent in doc.ents]\n",
        "\n",
        "print(\"Entités nommées extraites :\")\n",
        "for entity in named_entities:\n",
        "    print(f\"Texte : {entity[0]}, Type : {entity[1]}\")\n",
        "\n",
        "# Afficher les dépendances syntaxiques\n",
        "print(\"Dépendances syntaxiques :\")\n",
        "for token in doc:\n",
        "    print(f\"{token.text} -> {token.dep_} (Tête : {token.head.text})\")\n",
        "\n",
        "# Visualisation des dépendances syntaxiques (relation entre les mots)\n",
        "displacy.serve(doc, style=\"dep\")\n"
      ],
      "metadata": {
        "colab": {
          "base_uri": "https://localhost:8080/",
          "height": 1000
        },
        "id": "L-Y-FQTi_HFV",
        "outputId": "517a07ab-0dd3-4d49-873e-77ff1033a847"
      },
      "execution_count": null,
      "outputs": [
        {
          "output_type": "stream",
          "name": "stdout",
          "text": [
            "Entités nommées extraites :\n",
            "Texte : Holmes, Type : PERSON\n",
            "Texte : London, Type : GPE\n",
            "Texte : January 6, 1854, Type : DATE\n",
            "Dépendances syntaxiques :\n",
            "\n",
            "      \n",
            "       -> dep (Tête : Sherlock)\n",
            "Sherlock -> compound (Tête : Holmes)\n",
            "Holmes -> nsubjpass (Tête : born)\n",
            "was -> auxpass (Tête : born)\n",
            "born -> ROOT (Tête : born)\n",
            "in -> prep (Tête : born)\n",
            "London -> pobj (Tête : in)\n",
            "on -> prep (Tête : born)\n",
            "January -> pobj (Tête : on)\n",
            "6 -> nummod (Tête : January)\n",
            ", -> punct (Tête : January)\n",
            "1854 -> nummod (Tête : January)\n",
            ". -> punct (Tête : born)\n",
            "\n",
            "\n",
            " -> dep (Tête : .)\n"
          ]
        },
        {
          "output_type": "display_data",
          "data": {
            "text/plain": [
              "<IPython.core.display.HTML object>"
            ],
            "text/html": [
              "<span class=\"tex2jax_ignore\"><!DOCTYPE html>\n",
              "<html lang=\"en\">\n",
              "    <head>\n",
              "        <title>displaCy</title>\n",
              "    </head>\n",
              "\n",
              "    <body style=\"font-size: 16px; font-family: -apple-system, BlinkMacSystemFont, 'Segoe UI', Helvetica, Arial, sans-serif, 'Apple Color Emoji', 'Segoe UI Emoji', 'Segoe UI Symbol'; padding: 4rem 2rem; direction: ltr\">\n",
              "<figure style=\"margin-bottom: 6rem\">\n",
              "<svg xmlns=\"http://www.w3.org/2000/svg\" xmlns:xlink=\"http://www.w3.org/1999/xlink\" xml:lang=\"en\" id=\"d2205eecb9c2418e90c8ce0113a202ef-0\" class=\"displacy\" width=\"2150\" height=\"399.5\" direction=\"ltr\" style=\"max-width: none; height: 399.5px; color: #000000; background: #ffffff; font-family: Arial; direction: ltr\">\n",
              "<text class=\"displacy-token\" fill=\"currentColor\" text-anchor=\"middle\" y=\"309.5\">\n",
              "    <tspan class=\"displacy-word\" fill=\"currentColor\" x=\"50\">\n",
              "      \n",
              "      </tspan>\n",
              "    <tspan class=\"displacy-tag\" dy=\"2em\" fill=\"currentColor\" x=\"50\">SPACE</tspan>\n",
              "</text>\n",
              "\n",
              "<text class=\"displacy-token\" fill=\"currentColor\" text-anchor=\"middle\" y=\"309.5\">\n",
              "    <tspan class=\"displacy-word\" fill=\"currentColor\" x=\"225\">Sherlock</tspan>\n",
              "    <tspan class=\"displacy-tag\" dy=\"2em\" fill=\"currentColor\" x=\"225\">PROPN</tspan>\n",
              "</text>\n",
              "\n",
              "<text class=\"displacy-token\" fill=\"currentColor\" text-anchor=\"middle\" y=\"309.5\">\n",
              "    <tspan class=\"displacy-word\" fill=\"currentColor\" x=\"400\">Holmes</tspan>\n",
              "    <tspan class=\"displacy-tag\" dy=\"2em\" fill=\"currentColor\" x=\"400\">PROPN</tspan>\n",
              "</text>\n",
              "\n",
              "<text class=\"displacy-token\" fill=\"currentColor\" text-anchor=\"middle\" y=\"309.5\">\n",
              "    <tspan class=\"displacy-word\" fill=\"currentColor\" x=\"575\">was</tspan>\n",
              "    <tspan class=\"displacy-tag\" dy=\"2em\" fill=\"currentColor\" x=\"575\">AUX</tspan>\n",
              "</text>\n",
              "\n",
              "<text class=\"displacy-token\" fill=\"currentColor\" text-anchor=\"middle\" y=\"309.5\">\n",
              "    <tspan class=\"displacy-word\" fill=\"currentColor\" x=\"750\">born</tspan>\n",
              "    <tspan class=\"displacy-tag\" dy=\"2em\" fill=\"currentColor\" x=\"750\">VERB</tspan>\n",
              "</text>\n",
              "\n",
              "<text class=\"displacy-token\" fill=\"currentColor\" text-anchor=\"middle\" y=\"309.5\">\n",
              "    <tspan class=\"displacy-word\" fill=\"currentColor\" x=\"925\">in</tspan>\n",
              "    <tspan class=\"displacy-tag\" dy=\"2em\" fill=\"currentColor\" x=\"925\">ADP</tspan>\n",
              "</text>\n",
              "\n",
              "<text class=\"displacy-token\" fill=\"currentColor\" text-anchor=\"middle\" y=\"309.5\">\n",
              "    <tspan class=\"displacy-word\" fill=\"currentColor\" x=\"1100\">London</tspan>\n",
              "    <tspan class=\"displacy-tag\" dy=\"2em\" fill=\"currentColor\" x=\"1100\">PROPN</tspan>\n",
              "</text>\n",
              "\n",
              "<text class=\"displacy-token\" fill=\"currentColor\" text-anchor=\"middle\" y=\"309.5\">\n",
              "    <tspan class=\"displacy-word\" fill=\"currentColor\" x=\"1275\">on</tspan>\n",
              "    <tspan class=\"displacy-tag\" dy=\"2em\" fill=\"currentColor\" x=\"1275\">ADP</tspan>\n",
              "</text>\n",
              "\n",
              "<text class=\"displacy-token\" fill=\"currentColor\" text-anchor=\"middle\" y=\"309.5\">\n",
              "    <tspan class=\"displacy-word\" fill=\"currentColor\" x=\"1450\">January</tspan>\n",
              "    <tspan class=\"displacy-tag\" dy=\"2em\" fill=\"currentColor\" x=\"1450\">PROPN</tspan>\n",
              "</text>\n",
              "\n",
              "<text class=\"displacy-token\" fill=\"currentColor\" text-anchor=\"middle\" y=\"309.5\">\n",
              "    <tspan class=\"displacy-word\" fill=\"currentColor\" x=\"1625\">6,</tspan>\n",
              "    <tspan class=\"displacy-tag\" dy=\"2em\" fill=\"currentColor\" x=\"1625\">NUM</tspan>\n",
              "</text>\n",
              "\n",
              "<text class=\"displacy-token\" fill=\"currentColor\" text-anchor=\"middle\" y=\"309.5\">\n",
              "    <tspan class=\"displacy-word\" fill=\"currentColor\" x=\"1800\">1854.</tspan>\n",
              "    <tspan class=\"displacy-tag\" dy=\"2em\" fill=\"currentColor\" x=\"1800\">PUNCT</tspan>\n",
              "</text>\n",
              "\n",
              "<text class=\"displacy-token\" fill=\"currentColor\" text-anchor=\"middle\" y=\"309.5\">\n",
              "    <tspan class=\"displacy-word\" fill=\"currentColor\" x=\"1975\">\n",
              "\n",
              "</tspan>\n",
              "    <tspan class=\"displacy-tag\" dy=\"2em\" fill=\"currentColor\" x=\"1975\">SPACE</tspan>\n",
              "</text>\n",
              "\n",
              "<g class=\"displacy-arrow\">\n",
              "    <path class=\"displacy-arc\" id=\"arrow-d2205eecb9c2418e90c8ce0113a202ef-0-0\" stroke-width=\"2px\" d=\"M70,264.5 C70,177.0 215.0,177.0 215.0,264.5\" fill=\"none\" stroke=\"currentColor\"/>\n",
              "    <text dy=\"1.25em\" style=\"font-size: 0.8em; letter-spacing: 1px\">\n",
              "        <textPath xlink:href=\"#arrow-d2205eecb9c2418e90c8ce0113a202ef-0-0\" class=\"displacy-label\" startOffset=\"50%\" side=\"left\" fill=\"currentColor\" text-anchor=\"middle\">dep</textPath>\n",
              "    </text>\n",
              "    <path class=\"displacy-arrowhead\" d=\"M70,266.5 L62,254.5 78,254.5\" fill=\"currentColor\"/>\n",
              "</g>\n",
              "\n",
              "<g class=\"displacy-arrow\">\n",
              "    <path class=\"displacy-arc\" id=\"arrow-d2205eecb9c2418e90c8ce0113a202ef-0-1\" stroke-width=\"2px\" d=\"M245,264.5 C245,177.0 390.0,177.0 390.0,264.5\" fill=\"none\" stroke=\"currentColor\"/>\n",
              "    <text dy=\"1.25em\" style=\"font-size: 0.8em; letter-spacing: 1px\">\n",
              "        <textPath xlink:href=\"#arrow-d2205eecb9c2418e90c8ce0113a202ef-0-1\" class=\"displacy-label\" startOffset=\"50%\" side=\"left\" fill=\"currentColor\" text-anchor=\"middle\">compound</textPath>\n",
              "    </text>\n",
              "    <path class=\"displacy-arrowhead\" d=\"M245,266.5 L237,254.5 253,254.5\" fill=\"currentColor\"/>\n",
              "</g>\n",
              "\n",
              "<g class=\"displacy-arrow\">\n",
              "    <path class=\"displacy-arc\" id=\"arrow-d2205eecb9c2418e90c8ce0113a202ef-0-2\" stroke-width=\"2px\" d=\"M420,264.5 C420,89.5 745.0,89.5 745.0,264.5\" fill=\"none\" stroke=\"currentColor\"/>\n",
              "    <text dy=\"1.25em\" style=\"font-size: 0.8em; letter-spacing: 1px\">\n",
              "        <textPath xlink:href=\"#arrow-d2205eecb9c2418e90c8ce0113a202ef-0-2\" class=\"displacy-label\" startOffset=\"50%\" side=\"left\" fill=\"currentColor\" text-anchor=\"middle\">nsubjpass</textPath>\n",
              "    </text>\n",
              "    <path class=\"displacy-arrowhead\" d=\"M420,266.5 L412,254.5 428,254.5\" fill=\"currentColor\"/>\n",
              "</g>\n",
              "\n",
              "<g class=\"displacy-arrow\">\n",
              "    <path class=\"displacy-arc\" id=\"arrow-d2205eecb9c2418e90c8ce0113a202ef-0-3\" stroke-width=\"2px\" d=\"M595,264.5 C595,177.0 740.0,177.0 740.0,264.5\" fill=\"none\" stroke=\"currentColor\"/>\n",
              "    <text dy=\"1.25em\" style=\"font-size: 0.8em; letter-spacing: 1px\">\n",
              "        <textPath xlink:href=\"#arrow-d2205eecb9c2418e90c8ce0113a202ef-0-3\" class=\"displacy-label\" startOffset=\"50%\" side=\"left\" fill=\"currentColor\" text-anchor=\"middle\">auxpass</textPath>\n",
              "    </text>\n",
              "    <path class=\"displacy-arrowhead\" d=\"M595,266.5 L587,254.5 603,254.5\" fill=\"currentColor\"/>\n",
              "</g>\n",
              "\n",
              "<g class=\"displacy-arrow\">\n",
              "    <path class=\"displacy-arc\" id=\"arrow-d2205eecb9c2418e90c8ce0113a202ef-0-4\" stroke-width=\"2px\" d=\"M770,264.5 C770,177.0 915.0,177.0 915.0,264.5\" fill=\"none\" stroke=\"currentColor\"/>\n",
              "    <text dy=\"1.25em\" style=\"font-size: 0.8em; letter-spacing: 1px\">\n",
              "        <textPath xlink:href=\"#arrow-d2205eecb9c2418e90c8ce0113a202ef-0-4\" class=\"displacy-label\" startOffset=\"50%\" side=\"left\" fill=\"currentColor\" text-anchor=\"middle\">prep</textPath>\n",
              "    </text>\n",
              "    <path class=\"displacy-arrowhead\" d=\"M915.0,266.5 L923.0,254.5 907.0,254.5\" fill=\"currentColor\"/>\n",
              "</g>\n",
              "\n",
              "<g class=\"displacy-arrow\">\n",
              "    <path class=\"displacy-arc\" id=\"arrow-d2205eecb9c2418e90c8ce0113a202ef-0-5\" stroke-width=\"2px\" d=\"M945,264.5 C945,177.0 1090.0,177.0 1090.0,264.5\" fill=\"none\" stroke=\"currentColor\"/>\n",
              "    <text dy=\"1.25em\" style=\"font-size: 0.8em; letter-spacing: 1px\">\n",
              "        <textPath xlink:href=\"#arrow-d2205eecb9c2418e90c8ce0113a202ef-0-5\" class=\"displacy-label\" startOffset=\"50%\" side=\"left\" fill=\"currentColor\" text-anchor=\"middle\">pobj</textPath>\n",
              "    </text>\n",
              "    <path class=\"displacy-arrowhead\" d=\"M1090.0,266.5 L1098.0,254.5 1082.0,254.5\" fill=\"currentColor\"/>\n",
              "</g>\n",
              "\n",
              "<g class=\"displacy-arrow\">\n",
              "    <path class=\"displacy-arc\" id=\"arrow-d2205eecb9c2418e90c8ce0113a202ef-0-6\" stroke-width=\"2px\" d=\"M770,264.5 C770,89.5 1270.0,89.5 1270.0,264.5\" fill=\"none\" stroke=\"currentColor\"/>\n",
              "    <text dy=\"1.25em\" style=\"font-size: 0.8em; letter-spacing: 1px\">\n",
              "        <textPath xlink:href=\"#arrow-d2205eecb9c2418e90c8ce0113a202ef-0-6\" class=\"displacy-label\" startOffset=\"50%\" side=\"left\" fill=\"currentColor\" text-anchor=\"middle\">prep</textPath>\n",
              "    </text>\n",
              "    <path class=\"displacy-arrowhead\" d=\"M1270.0,266.5 L1278.0,254.5 1262.0,254.5\" fill=\"currentColor\"/>\n",
              "</g>\n",
              "\n",
              "<g class=\"displacy-arrow\">\n",
              "    <path class=\"displacy-arc\" id=\"arrow-d2205eecb9c2418e90c8ce0113a202ef-0-7\" stroke-width=\"2px\" d=\"M1295,264.5 C1295,177.0 1440.0,177.0 1440.0,264.5\" fill=\"none\" stroke=\"currentColor\"/>\n",
              "    <text dy=\"1.25em\" style=\"font-size: 0.8em; letter-spacing: 1px\">\n",
              "        <textPath xlink:href=\"#arrow-d2205eecb9c2418e90c8ce0113a202ef-0-7\" class=\"displacy-label\" startOffset=\"50%\" side=\"left\" fill=\"currentColor\" text-anchor=\"middle\">pobj</textPath>\n",
              "    </text>\n",
              "    <path class=\"displacy-arrowhead\" d=\"M1440.0,266.5 L1448.0,254.5 1432.0,254.5\" fill=\"currentColor\"/>\n",
              "</g>\n",
              "\n",
              "<g class=\"displacy-arrow\">\n",
              "    <path class=\"displacy-arc\" id=\"arrow-d2205eecb9c2418e90c8ce0113a202ef-0-8\" stroke-width=\"2px\" d=\"M1470,264.5 C1470,177.0 1615.0,177.0 1615.0,264.5\" fill=\"none\" stroke=\"currentColor\"/>\n",
              "    <text dy=\"1.25em\" style=\"font-size: 0.8em; letter-spacing: 1px\">\n",
              "        <textPath xlink:href=\"#arrow-d2205eecb9c2418e90c8ce0113a202ef-0-8\" class=\"displacy-label\" startOffset=\"50%\" side=\"left\" fill=\"currentColor\" text-anchor=\"middle\">nummod</textPath>\n",
              "    </text>\n",
              "    <path class=\"displacy-arrowhead\" d=\"M1615.0,266.5 L1623.0,254.5 1607.0,254.5\" fill=\"currentColor\"/>\n",
              "</g>\n",
              "\n",
              "<g class=\"displacy-arrow\">\n",
              "    <path class=\"displacy-arc\" id=\"arrow-d2205eecb9c2418e90c8ce0113a202ef-0-9\" stroke-width=\"2px\" d=\"M770,264.5 C770,2.0 1800.0,2.0 1800.0,264.5\" fill=\"none\" stroke=\"currentColor\"/>\n",
              "    <text dy=\"1.25em\" style=\"font-size: 0.8em; letter-spacing: 1px\">\n",
              "        <textPath xlink:href=\"#arrow-d2205eecb9c2418e90c8ce0113a202ef-0-9\" class=\"displacy-label\" startOffset=\"50%\" side=\"left\" fill=\"currentColor\" text-anchor=\"middle\">punct</textPath>\n",
              "    </text>\n",
              "    <path class=\"displacy-arrowhead\" d=\"M1800.0,266.5 L1808.0,254.5 1792.0,254.5\" fill=\"currentColor\"/>\n",
              "</g>\n",
              "\n",
              "<g class=\"displacy-arrow\">\n",
              "    <path class=\"displacy-arc\" id=\"arrow-d2205eecb9c2418e90c8ce0113a202ef-0-10\" stroke-width=\"2px\" d=\"M1820,264.5 C1820,177.0 1965.0,177.0 1965.0,264.5\" fill=\"none\" stroke=\"currentColor\"/>\n",
              "    <text dy=\"1.25em\" style=\"font-size: 0.8em; letter-spacing: 1px\">\n",
              "        <textPath xlink:href=\"#arrow-d2205eecb9c2418e90c8ce0113a202ef-0-10\" class=\"displacy-label\" startOffset=\"50%\" side=\"left\" fill=\"currentColor\" text-anchor=\"middle\">dep</textPath>\n",
              "    </text>\n",
              "    <path class=\"displacy-arrowhead\" d=\"M1965.0,266.5 L1973.0,254.5 1957.0,254.5\" fill=\"currentColor\"/>\n",
              "</g>\n",
              "</svg>\n",
              "</figure>\n",
              "</body>\n",
              "</html></span>"
            ]
          },
          "metadata": {}
        },
        {
          "output_type": "stream",
          "name": "stdout",
          "text": [
            "\n",
            "Using the 'dep' visualizer\n",
            "Serving on http://0.0.0.0:5000 ...\n",
            "\n",
            "Shutting down server on port 5000.\n"
          ]
        }
      ]
    },
    {
      "cell_type": "markdown",
      "source": [
        "Le code utilise spaCy pour extraire les entités nommées (comme des personnes ou des lieux) et analyser les dépendances syntaxiques du texte. Il affiche également une visualisation graphique des relations entre les mots."
      ],
      "metadata": {
        "id": "eCQgD6YdUPcM"
      }
    },
    {
      "cell_type": "markdown",
      "source": [
        "## Traduction Automatique avec Encoder-Decoder"
      ],
      "metadata": {
        "id": "_D1siuJBKoxG"
      }
    },
    {
      "cell_type": "code",
      "source": [
        "import tensorflow as tf\n",
        "from tensorflow.keras import layers, models\n",
        "import numpy as np\n",
        "\n",
        "# 1. Données\n",
        "english_sentences = [\n",
        "    \"Sherlock Holmes had, in a very remarkable degree, the power of detaching his mind at will.\",\n",
        "    \"For two hours the strange business in which we had been involved appeared to be forgotten, and he was entirely absorbed in the pictures of the modern Belgian masters.\",\n",
        "    \"He would talk of nothing but art, of which he had the crudest ideas, from our leaving the gallery until we found ourselves at the Northumberland Hotel.\"\n",
        "]\n",
        "\n",
        "french_sentences = [\n",
        "    \"[start] Sherlock Holmes possédait, à un degré tout à fait remarquable, le pouvoir de détacher son esprit à volonté. [end]\",\n",
        "    \"[start] Pendant deux heures, l'étrange affaire dans laquelle nous étions impliqués sembla être oubliée, et il fut entièrement absorbé par les tableaux des maîtres belges modernes. [end]\",\n",
        "    \"[start] Il ne parlait de rien d'autre que d'art, sujet dont il avait les idées les plus rudimentaires, depuis notre départ de la galerie jusqu'à ce que nous nous trouvions à l'Hôtel Northumberland. [end]\"\n",
        "]\n",
        "\n",
        "# Augmenter artificiellement les données (répétition)\n",
        "english_sentences = english_sentences * 5  # Répéter 5 fois\n",
        "french_sentences = french_sentences * 5\n",
        "\n",
        "# 2. Tokenisation\n",
        "def build_tokenizer(sentences, max_words=10000):\n",
        "    tokenizer = tf.keras.preprocessing.text.Tokenizer(num_words=max_words, filters='', lower=False)\n",
        "    tokenizer.fit_on_texts(sentences)\n",
        "    return tokenizer\n",
        "\n",
        "eng_tokenizer = build_tokenizer(english_sentences)\n",
        "fr_tokenizer = build_tokenizer(french_sentences)\n",
        "\n",
        "# Convertir en séquences\n",
        "eng_sequences = eng_tokenizer.texts_to_sequences(english_sentences)\n",
        "fr_sequences = fr_tokenizer.texts_to_sequences(french_sentences)\n",
        "\n",
        "# Padding\n",
        "max_eng_len = max(len(seq) for seq in eng_sequences)\n",
        "max_fr_len = max(len(seq) for seq in fr_sequences)\n",
        "eng_sequences = tf.keras.preprocessing.sequence.pad_sequences(eng_sequences, maxlen=max_eng_len, padding='post')\n",
        "fr_sequences = tf.keras.preprocessing.sequence.pad_sequences(fr_sequences, maxlen=max_fr_len, padding='post')\n",
        "\n",
        "# Préparer le décodeur\n",
        "decoder_input_data = fr_sequences[:, :-1]\n",
        "decoder_target_data = fr_sequences[:, 1:]\n",
        "\n",
        "# Convertir les cibles en one-hot\n",
        "fr_vocab_size = len(fr_tokenizer.word_index) + 1\n",
        "decoder_target_data = np.zeros((len(fr_sequences), max_fr_len-1, fr_vocab_size), dtype='float32')\n",
        "for i, seq in enumerate(fr_sequences[:, 1:]):\n",
        "    for t, word_idx in enumerate(seq):\n",
        "        if word_idx > 0:\n",
        "            decoder_target_data[i, t, word_idx] = 1.0\n",
        "\n",
        "# 3. Modèle Encoder-Decoder simplifié\n",
        "def build_model(eng_vocab_size, fr_vocab_size, max_eng_len, max_fr_len, units=32):\n",
        "    # Encodeur\n",
        "    encoder_inputs = layers.Input(shape=(max_eng_len,))\n",
        "    encoder_emb = layers.Embedding(eng_vocab_size, units)(encoder_inputs)\n",
        "    encoder_lstm = layers.LSTM(units, return_state=True)\n",
        "    _, state_h, state_c = encoder_lstm(encoder_emb)\n",
        "    encoder_states = [state_h, state_c]\n",
        "\n",
        "    # Décodeur\n",
        "    decoder_inputs = layers.Input(shape=(max_fr_len-1,))\n",
        "    decoder_emb = layers.Embedding(fr_vocab_size, units)(decoder_inputs)\n",
        "    decoder_lstm = layers.LSTM(units, return_sequences=True, return_state=True)\n",
        "    decoder_outputs, _, _ = decoder_lstm(decoder_emb, initial_state=encoder_states)\n",
        "    decoder_dense = layers.Dense(fr_vocab_size, activation='softmax')\n",
        "    decoder_outputs = decoder_dense(decoder_outputs)\n",
        "\n",
        "    # Modèle\n",
        "    model = models.Model([encoder_inputs, decoder_inputs], decoder_outputs)\n",
        "    model.compile(optimizer='adam', loss='categorical_crossentropy', metrics=['accuracy'])\n",
        "    return model\n",
        "\n",
        "eng_vocab_size = len(eng_tokenizer.word_index) + 1\n",
        "model = build_model(eng_vocab_size, fr_vocab_size, max_eng_len, max_fr_len)\n",
        "model.fit([eng_sequences, decoder_input_data], decoder_target_data, batch_size=2, epochs=100, verbose=1)\n",
        "\n",
        "# 4. Modèles d’inférence\n",
        "def build_inference_models(model, units=32):\n",
        "    encoder_inputs = model.input[0]\n",
        "    encoder_emb = model.layers[2](encoder_inputs)\n",
        "    encoder_lstm = model.layers[4]\n",
        "    _, state_h, state_c = encoder_lstm(encoder_emb)\n",
        "    encoder_model = models.Model(encoder_inputs, [state_h, state_c])\n",
        "\n",
        "    decoder_inputs = model.input[1]\n",
        "    decoder_state_input_h = layers.Input(shape=(units,))\n",
        "    decoder_state_input_c = layers.Input(shape=(units,))\n",
        "    decoder_emb = model.layers[3](decoder_inputs)\n",
        "    decoder_lstm = model.layers[5]\n",
        "    decoder_outputs, state_h, state_c = decoder_lstm(decoder_emb, initial_state=[decoder_state_input_h, decoder_state_input_c])\n",
        "    decoder_dense = model.layers[6]\n",
        "    decoder_outputs = decoder_dense(decoder_outputs)\n",
        "    decoder_model = models.Model(\n",
        "        [decoder_inputs] + [decoder_state_input_h, decoder_state_input_c],\n",
        "        [decoder_outputs] + [state_h, state_c]\n",
        "    )\n",
        "    return encoder_model, decoder_model\n",
        "\n",
        "encoder_model, decoder_model = build_inference_models(model)\n",
        "\n",
        "# 5. Traduction\n",
        "def translate_sentence(sentence, eng_tokenizer, fr_tokenizer, encoder_model, decoder_model, max_fr_len):\n",
        "    seq = eng_tokenizer.texts_to_sequences([sentence])\n",
        "    seq = tf.keras.preprocessing.sequence.pad_sequences(seq, maxlen=max_eng_len, padding='post')\n",
        "    states = encoder_model.predict(seq, verbose=0)\n",
        "\n",
        "    target_seq = np.zeros((1, 1))\n",
        "    target_seq[0, 0] = fr_tokenizer.word_index.get('[start]', 1)\n",
        "\n",
        "    output_tokens = []\n",
        "    for _ in range(max_fr_len):\n",
        "        output, h, c = decoder_model.predict([target_seq] + states, verbose=0)\n",
        "        idx = np.argmax(output[0, 0, :])\n",
        "        if idx == fr_tokenizer.word_index.get('[end]', 0) or idx == 0:\n",
        "            break\n",
        "        word = fr_tokenizer.index_word.get(idx, '')\n",
        "        if word:  # Ignorer les tokens vides\n",
        "            output_tokens.append(word)\n",
        "        target_seq[0, 0] = idx\n",
        "        states = [h, c]\n",
        "\n",
        "    return ' '.join(output_tokens)\n",
        "\n",
        "# 6. Tester\n",
        "print(\"Traductions:\")\n",
        "for sentence in english_sentences[:3]:  # Tester les 3 phrases originales\n",
        "    print(f\"EN: {sentence}\")\n",
        "    translation = translate_sentence(sentence, eng_tokenizer, fr_tokenizer, encoder_model, decoder_model, max_fr_len)\n",
        "    print(f\"FR: {translation}\\n\")"
      ],
      "metadata": {
        "colab": {
          "base_uri": "https://localhost:8080/"
        },
        "id": "ItTIEyLAKJC5",
        "outputId": "660e6db3-123d-4226-830e-e57a84fbe82b"
      },
      "execution_count": null,
      "outputs": [
        {
          "output_type": "stream",
          "name": "stdout",
          "text": [
            "Epoch 1/100\n",
            "8/8 ━━━━━━━━━━━━━━━━━━━━ 11s 60ms/step - accuracy: 0.0472 - loss: 3.2091\n",
            "Epoch 2/100\n",
            "8/8 ━━━━━━━━━━━━━━━━━━━━ 1s 92ms/step - accuracy: 0.1581 - loss: 3.5567\n",
            "Epoch 3/100\n",
            "8/8 ━━━━━━━━━━━━━━━━━━━━ 1s 62ms/step - accuracy: 0.1565 - loss: 3.2429\n",
            "Epoch 4/100\n",
            "8/8 ━━━━━━━━━━━━━━━━━━━━ 1s 68ms/step - accuracy: 0.1584 - loss: 3.1081\n",
            "Epoch 5/100\n",
            "8/8 ━━━━━━━━━━━━━━━━━━━━ 1s 100ms/step - accuracy: 0.1317 - loss: 3.1114\n",
            "Epoch 6/100\n",
            "8/8 ━━━━━━━━━━━━━━━━━━━━ 1s 88ms/step - accuracy: 0.1100 - loss: 3.1735\n",
            "Epoch 7/100\n",
            "8/8 ━━━━━━━━━━━━━━━━━━━━ 0s 41ms/step - accuracy: 0.1255 - loss: 2.9363\n",
            "Epoch 8/100\n",
            "8/8 ━━━━━━━━━━━━━━━━━━━━ 0s 26ms/step - accuracy: 0.1201 - loss: 3.0327\n",
            "Epoch 9/100\n",
            "8/8 ━━━━━━━━━━━━━━━━━━━━ 0s 24ms/step - accuracy: 0.1559 - loss: 2.8703\n",
            "Epoch 10/100\n",
            "8/8 ━━━━━━━━━━━━━━━━━━━━ 0s 25ms/step - accuracy: 0.1302 - loss: 2.7842\n",
            "Epoch 11/100\n",
            "8/8 ━━━━━━━━━━━━━━━━━━━━ 0s 25ms/step - accuracy: 0.1217 - loss: 2.7035\n",
            "Epoch 12/100\n",
            "8/8 ━━━━━━━━━━━━━━━━━━━━ 0s 23ms/step - accuracy: 0.1318 - loss: 2.8426\n",
            "Epoch 13/100\n",
            "8/8 ━━━━━━━━━━━━━━━━━━━━ 0s 25ms/step - accuracy: 0.1431 - loss: 2.3332\n",
            "Epoch 14/100\n",
            "8/8 ━━━━━━━━━━━━━━━━━━━━ 0s 24ms/step - accuracy: 0.1805 - loss: 2.4652\n",
            "Epoch 15/100\n",
            "8/8 ━━━━━━━━━━━━━━━━━━━━ 0s 26ms/step - accuracy: 0.1825 - loss: 2.3942\n",
            "Epoch 16/100\n",
            "8/8 ━━━━━━━━━━━━━━━━━━━━ 0s 24ms/step - accuracy: 0.2085 - loss: 2.1928\n",
            "Epoch 17/100\n",
            "8/8 ━━━━━━━━━━━━━━━━━━━━ 0s 23ms/step - accuracy: 0.2338 - loss: 2.1965\n",
            "Epoch 18/100\n",
            "8/8 ━━━━━━━━━━━━━━━━━━━━ 0s 24ms/step - accuracy: 0.1961 - loss: 2.0539\n",
            "Epoch 19/100\n",
            "8/8 ━━━━━━━━━━━━━━━━━━━━ 0s 36ms/step - accuracy: 0.2167 - loss: 1.9623\n",
            "Epoch 20/100\n",
            "8/8 ━━━━━━━━━━━━━━━━━━━━ 0s 41ms/step - accuracy: 0.2347 - loss: 1.9896\n",
            "Epoch 21/100\n",
            "8/8 ━━━━━━━━━━━━━━━━━━━━ 1s 37ms/step - accuracy: 0.2382 - loss: 1.9666\n",
            "Epoch 22/100\n",
            "8/8 ━━━━━━━━━━━━━━━━━━━━ 0s 36ms/step - accuracy: 0.2634 - loss: 2.0085\n",
            "Epoch 23/100\n",
            "8/8 ━━━━━━━━━━━━━━━━━━━━ 0s 40ms/step - accuracy: 0.2835 - loss: 1.8879\n",
            "Epoch 24/100\n",
            "8/8 ━━━━━━━━━━━━━━━━━━━━ 1s 36ms/step - accuracy: 0.2982 - loss: 1.8063\n",
            "Epoch 25/100\n",
            "8/8 ━━━━━━━━━━━━━━━━━━━━ 0s 37ms/step - accuracy: 0.3242 - loss: 1.8642\n",
            "Epoch 26/100\n",
            "8/8 ━━━━━━━━━━━━━━━━━━━━ 0s 24ms/step - accuracy: 0.3417 - loss: 1.7267\n",
            "Epoch 27/100\n",
            "8/8 ━━━━━━━━━━━━━━━━━━━━ 0s 26ms/step - accuracy: 0.3462 - loss: 1.5913\n",
            "Epoch 28/100\n",
            "8/8 ━━━━━━━━━━━━━━━━━━━━ 0s 24ms/step - accuracy: 0.4151 - loss: 1.6845\n",
            "Epoch 29/100\n",
            "8/8 ━━━━━━━━━━━━━━━━━━━━ 0s 33ms/step - accuracy: 0.4192 - loss: 1.6554\n",
            "Epoch 30/100\n",
            "8/8 ━━━━━━━━━━━━━━━━━━━━ 0s 24ms/step - accuracy: 0.4088 - loss: 1.4964\n",
            "Epoch 31/100\n",
            "8/8 ━━━━━━━━━━━━━━━━━━━━ 0s 26ms/step - accuracy: 0.4065 - loss: 1.4826\n",
            "Epoch 32/100\n",
            "8/8 ━━━━━━━━━━━━━━━━━━━━ 0s 25ms/step - accuracy: 0.4476 - loss: 1.4926\n",
            "Epoch 33/100\n",
            "8/8 ━━━━━━━━━━━━━━━━━━━━ 0s 24ms/step - accuracy: 0.4717 - loss: 1.5521\n",
            "Epoch 34/100\n",
            "8/8 ━━━━━━━━━━━━━━━━━━━━ 0s 25ms/step - accuracy: 0.4871 - loss: 1.4278\n",
            "Epoch 35/100\n",
            "8/8 ━━━━━━━━━━━━━━━━━━━━ 0s 25ms/step - accuracy: 0.4684 - loss: 1.4267\n",
            "Epoch 36/100\n",
            "8/8 ━━━━━━━━━━━━━━━━━━━━ 0s 24ms/step - accuracy: 0.4422 - loss: 1.2656\n",
            "Epoch 37/100\n",
            "8/8 ━━━━━━━━━━━━━━━━━━━━ 0s 24ms/step - accuracy: 0.5423 - loss: 1.4418\n",
            "Epoch 38/100\n",
            "8/8 ━━━━━━━━━━━━━━━━━━━━ 0s 24ms/step - accuracy: 0.4902 - loss: 1.3488\n",
            "Epoch 39/100\n",
            "8/8 ━━━━━━━━━━━━━━━━━━━━ 0s 24ms/step - accuracy: 0.5016 - loss: 1.3615\n",
            "Epoch 40/100\n",
            "8/8 ━━━━━━━━━━━━━━━━━━━━ 0s 24ms/step - accuracy: 0.5174 - loss: 1.2364\n",
            "Epoch 41/100\n",
            "8/8 ━━━━━━━━━━━━━━━━━━━━ 0s 23ms/step - accuracy: 0.5369 - loss: 1.3295\n",
            "Epoch 42/100\n",
            "8/8 ━━━━━━━━━━━━━━━━━━━━ 0s 23ms/step - accuracy: 0.5648 - loss: 1.3418\n",
            "Epoch 43/100\n",
            "8/8 ━━━━━━━━━━━━━━━━━━━━ 0s 23ms/step - accuracy: 0.5350 - loss: 1.1635\n",
            "Epoch 44/100\n",
            "8/8 ━━━━━━━━━━━━━━━━━━━━ 0s 23ms/step - accuracy: 0.5937 - loss: 1.2846\n",
            "Epoch 45/100\n",
            "8/8 ━━━━━━━━━━━━━━━━━━━━ 0s 24ms/step - accuracy: 0.5444 - loss: 1.2138\n",
            "Epoch 46/100\n",
            "8/8 ━━━━━━━━━━━━━━━━━━━━ 0s 24ms/step - accuracy: 0.5909 - loss: 1.1829\n",
            "Epoch 47/100\n",
            "8/8 ━━━━━━━━━━━━━━━━━━━━ 0s 25ms/step - accuracy: 0.6457 - loss: 1.1894\n",
            "Epoch 48/100\n",
            "8/8 ━━━━━━━━━━━━━━━━━━━━ 0s 24ms/step - accuracy: 0.6846 - loss: 1.2636\n",
            "Epoch 49/100\n",
            "8/8 ━━━━━━━━━━━━━━━━━━━━ 0s 24ms/step - accuracy: 0.6385 - loss: 1.1282\n",
            "Epoch 50/100\n",
            "8/8 ━━━━━━━━━━━━━━━━━━━━ 0s 24ms/step - accuracy: 0.6694 - loss: 1.1501\n",
            "Epoch 51/100\n",
            "8/8 ━━━━━━━━━━━━━━━━━━━━ 0s 26ms/step - accuracy: 0.6664 - loss: 1.0792\n",
            "Epoch 52/100\n",
            "8/8 ━━━━━━━━━━━━━━━━━━━━ 0s 23ms/step - accuracy: 0.6806 - loss: 1.0704\n",
            "Epoch 53/100\n",
            "8/8 ━━━━━━━━━━━━━━━━━━━━ 0s 23ms/step - accuracy: 0.6706 - loss: 1.0496\n",
            "Epoch 54/100\n",
            "8/8 ━━━━━━━━━━━━━━━━━━━━ 0s 23ms/step - accuracy: 0.6643 - loss: 1.1191\n",
            "Epoch 55/100\n",
            "8/8 ━━━━━━━━━━━━━━━━━━━━ 0s 24ms/step - accuracy: 0.6815 - loss: 0.9591\n",
            "Epoch 56/100\n",
            "8/8 ━━━━━━━━━━━━━━━━━━━━ 0s 25ms/step - accuracy: 0.6867 - loss: 0.9429\n",
            "Epoch 57/100\n",
            "8/8 ━━━━━━━━━━━━━━━━━━━━ 0s 24ms/step - accuracy: 0.7640 - loss: 1.0381\n",
            "Epoch 58/100\n",
            "8/8 ━━━━━━━━━━━━━━━━━━━━ 0s 24ms/step - accuracy: 0.7531 - loss: 1.0379\n",
            "Epoch 59/100\n",
            "8/8 ━━━━━━━━━━━━━━━━━━━━ 0s 24ms/step - accuracy: 0.7574 - loss: 0.9902\n",
            "Epoch 60/100\n",
            "8/8 ━━━━━━━━━━━━━━━━━━━━ 0s 24ms/step - accuracy: 0.7416 - loss: 0.9050\n",
            "Epoch 61/100\n",
            "8/8 ━━━━━━━━━━━━━━━━━━━━ 0s 25ms/step - accuracy: 0.7480 - loss: 0.8996\n",
            "Epoch 62/100\n",
            "8/8 ━━━━━━━━━━━━━━━━━━━━ 0s 25ms/step - accuracy: 0.7862 - loss: 0.9575\n",
            "Epoch 63/100\n",
            "8/8 ━━━━━━━━━━━━━━━━━━━━ 0s 27ms/step - accuracy: 0.8068 - loss: 0.9663\n",
            "Epoch 64/100\n",
            "8/8 ━━━━━━━━━━━━━━━━━━━━ 0s 24ms/step - accuracy: 0.7441 - loss: 0.8803\n",
            "Epoch 65/100\n",
            "8/8 ━━━━━━━━━━━━━━━━━━━━ 0s 36ms/step - accuracy: 0.8121 - loss: 0.9393\n",
            "Epoch 66/100\n",
            "8/8 ━━━━━━━━━━━━━━━━━━━━ 1s 38ms/step - accuracy: 0.7661 - loss: 0.8662\n",
            "Epoch 67/100\n",
            "8/8 ━━━━━━━━━━━━━━━━━━━━ 0s 38ms/step - accuracy: 0.7891 - loss: 0.8642\n",
            "Epoch 68/100\n",
            "8/8 ━━━━━━━━━━━━━━━━━━━━ 0s 42ms/step - accuracy: 0.8226 - loss: 0.8905\n",
            "Epoch 69/100\n",
            "8/8 ━━━━━━━━━━━━━━━━━━━━ 1s 39ms/step - accuracy: 0.7425 - loss: 0.7792\n",
            "Epoch 70/100\n",
            "8/8 ━━━━━━━━━━━━━━━━━━━━ 1s 27ms/step - accuracy: 0.7437 - loss: 0.7424\n",
            "Epoch 71/100\n",
            "8/8 ━━━━━━━━━━━━━━━━━━━━ 0s 25ms/step - accuracy: 0.7867 - loss: 0.7872\n",
            "Epoch 72/100\n",
            "8/8 ━━━━━━━━━━━━━━━━━━━━ 0s 23ms/step - accuracy: 0.7653 - loss: 0.7461\n",
            "Epoch 73/100\n",
            "8/8 ━━━━━━━━━━━━━━━━━━━━ 0s 25ms/step - accuracy: 0.7531 - loss: 0.7135\n",
            "Epoch 74/100\n",
            "8/8 ━━━━━━━━━━━━━━━━━━━━ 0s 25ms/step - accuracy: 0.7824 - loss: 0.7319\n",
            "Epoch 75/100\n",
            "8/8 ━━━━━━━━━━━━━━━━━━━━ 0s 24ms/step - accuracy: 0.8315 - loss: 0.7908\n",
            "Epoch 76/100\n",
            "8/8 ━━━━━━━━━━━━━━━━━━━━ 0s 24ms/step - accuracy: 0.7890 - loss: 0.7154\n",
            "Epoch 77/100\n",
            "8/8 ━━━━━━━━━━━━━━━━━━━━ 0s 24ms/step - accuracy: 0.7559 - loss: 0.6680\n",
            "Epoch 78/100\n",
            "8/8 ━━━━━━━━━━━━━━━━━━━━ 0s 25ms/step - accuracy: 0.7961 - loss: 0.7069\n",
            "Epoch 79/100\n",
            "8/8 ━━━━━━━━━━━━━━━━━━━━ 0s 24ms/step - accuracy: 0.7513 - loss: 0.6358\n",
            "Epoch 80/100\n",
            "8/8 ━━━━━━━━━━━━━━━━━━━━ 0s 24ms/step - accuracy: 0.7813 - loss: 0.6643\n",
            "Epoch 81/100\n",
            "8/8 ━━━━━━━━━━━━━━━━━━━━ 0s 24ms/step - accuracy: 0.7636 - loss: 0.6141\n",
            "Epoch 82/100\n",
            "8/8 ━━━━━━━━━━━━━━━━━━━━ 0s 25ms/step - accuracy: 0.8122 - loss: 0.6656\n",
            "Epoch 83/100\n",
            "8/8 ━━━━━━━━━━━━━━━━━━━━ 0s 25ms/step - accuracy: 0.7858 - loss: 0.6120\n",
            "Epoch 84/100\n",
            "8/8 ━━━━━━━━━━━━━━━━━━━━ 0s 24ms/step - accuracy: 0.7658 - loss: 0.5929\n",
            "Epoch 85/100\n",
            "8/8 ━━━━━━━━━━━━━━━━━━━━ 0s 24ms/step - accuracy: 0.8182 - loss: 0.6207\n",
            "Epoch 86/100\n",
            "8/8 ━━━━━━━━━━━━━━━━━━━━ 0s 25ms/step - accuracy: 0.7718 - loss: 0.5625\n",
            "Epoch 87/100\n",
            "8/8 ━━━━━━━━━━━━━━━━━━━━ 0s 25ms/step - accuracy: 0.8233 - loss: 0.6102\n",
            "Epoch 88/100\n",
            "8/8 ━━━━━━━━━━━━━━━━━━━━ 0s 24ms/step - accuracy: 0.7899 - loss: 0.5544\n",
            "Epoch 89/100\n",
            "8/8 ━━━━━━━━━━━━━━━━━━━━ 0s 24ms/step - accuracy: 0.8129 - loss: 0.5739\n",
            "Epoch 90/100\n",
            "8/8 ━━━━━━━━━━━━━━━━━━━━ 0s 24ms/step - accuracy: 0.7574 - loss: 0.4955\n",
            "Epoch 91/100\n",
            "8/8 ━━━━━━━━━━━━━━━━━━━━ 0s 24ms/step - accuracy: 0.7965 - loss: 0.5272\n",
            "Epoch 92/100\n",
            "8/8 ━━━━━━━━━━━━━━━━━━━━ 0s 25ms/step - accuracy: 0.7971 - loss: 0.5001\n",
            "Epoch 93/100\n",
            "8/8 ━━━━━━━━━━━━━━━━━━━━ 0s 24ms/step - accuracy: 0.7804 - loss: 0.4914\n",
            "Epoch 94/100\n",
            "8/8 ━━━━━━━━━━━━━━━━━━━━ 0s 24ms/step - accuracy: 0.7961 - loss: 0.4849\n",
            "Epoch 95/100\n",
            "8/8 ━━━━━━━━━━━━━━━━━━━━ 0s 26ms/step - accuracy: 0.8070 - loss: 0.4786\n",
            "Epoch 96/100\n",
            "8/8 ━━━━━━━━━━━━━━━━━━━━ 0s 24ms/step - accuracy: 0.7772 - loss: 0.4511\n",
            "Epoch 97/100\n",
            "8/8 ━━━━━━━━━━━━━━━━━━━━ 0s 24ms/step - accuracy: 0.7622 - loss: 0.4301\n",
            "Epoch 98/100\n",
            "8/8 ━━━━━━━━━━━━━━━━━━━━ 0s 25ms/step - accuracy: 0.8726 - loss: 0.5067\n",
            "Epoch 99/100\n",
            "8/8 ━━━━━━━━━━━━━━━━━━━━ 0s 27ms/step - accuracy: 0.7635 - loss: 0.4089\n",
            "Epoch 100/100\n",
            "8/8 ━━━━━━━━━━━━━━━━━━━━ 0s 25ms/step - accuracy: 0.7928 - loss: 0.4188\n",
            "Traductions:\n",
            "EN: Sherlock Holmes had, in a very remarkable degree, the power of detaching his mind at will.\n",
            "FR: Sherlock Holmes possédait, à un degré tout à fait remarquable, le pouvoir de détacher son esprit à volonté.\n",
            "\n",
            "EN: For two hours the strange business in which we had been involved appeared to be forgotten, and he was entirely absorbed in the pictures of the modern Belgian masters.\n",
            "FR: Pendant deux heures, l'étrange affaire dans laquelle nous étions impliqués sembla être oubliée, et il fut entièrement absorbé par les tableaux des maîtres belges modernes.\n",
            "\n",
            "EN: He would talk of nothing but art, of which he had the crudest ideas, from our leaving the gallery until we found ourselves at the Northumberland Hotel.\n",
            "FR: Il ne parlait de rien d'autre que d'art, sujet dont il avait les idées les plus rudimentaires, depuis notre départ de la galerie jusqu'à ce que nous nous trouvions à l'Hôtel Northumberland.\n",
            "\n"
          ]
        }
      ]
    },
    {
      "cell_type": "markdown",
      "source": [
        "Il implémente un modèle de traduction automatique utilisant une architecture Encoder-Decoder avec LSTM. Il commence par préparer les données en anglais et en français, en tokenisant les phrases et en appliquant un padding pour uniformiser la longueur des séquences. Ensuite, un modèle Encoder-Decoder est construit : l'encodeur traite la phrase source (en anglais) et le décodeur génère la traduction (en français). Des modèles d'inférence sont utilisés pour traduire de nouvelles phrases en temps réel. Enfin, le modèle est testé avec quelques phrases en anglais, qui sont traduites en français."
      ],
      "metadata": {
        "id": "gZE6lKE_U2JS"
      }
    },
    {
      "cell_type": "markdown",
      "source": [
        "## Generer le texte"
      ],
      "metadata": {
        "id": "hbY18oE-eQVR"
      }
    },
    {
      "cell_type": "code",
      "source": [
        "from transformers import AutoModelForCausalLM, AutoTokenizer\n",
        "import torch\n",
        "\n",
        "# Charger le modèle et le tokenizer\n",
        "checkpoint = \"HuggingFaceTB/SmolLM2-1.7B-Instruct\"\n",
        "device = \"cuda\" if torch.cuda.is_available() else \"cpu\"\n",
        "\n",
        "tokenizer = AutoTokenizer.from_pretrained(checkpoint)\n",
        "model = AutoModelForCausalLM.from_pretrained(checkpoint).to(device)\n",
        "\n",
        "# Ton extrait de roman\n",
        "extrait = (\n",
        "   \"\"\" It is murder, Watson—refined, cold-blooded, deliberate murder.\n",
        "      Do not ask me for particulars. My nets are closing upon him, even\n",
        "      as his are upon Sir Henry, and with your help he is already\n",
        "      almost at my mercy.\"\"\"\n",
        ")\n",
        "\n",
        "# Préparer l'entrée pour le modèle\n",
        "inputs = tokenizer.encode(extrait, return_tensors=\"pt\").to(device)\n",
        "\n",
        "# Générer la suite du texte\n",
        "outputs = model.generate(\n",
        "    inputs,\n",
        "    max_new_tokens=100,\n",
        "    temperature=0.7,\n",
        "    top_p=0.9,\n",
        "    do_sample=True,\n",
        "    pad_token_id=tokenizer.eos_token_id\n",
        ")\n",
        "\n",
        "# Afficher le texte généré\n",
        "texte_genere = tokenizer.decode(outputs[0], skip_special_tokens=True)\n",
        "print(texte_genere)\n"
      ],
      "metadata": {
        "colab": {
          "base_uri": "https://localhost:8080/"
        },
        "id": "6FwF_qXMbA7T",
        "outputId": "59bc2061-05e1-44cc-9e98-e89f3b6a622a"
      },
      "execution_count": null,
      "outputs": [
        {
          "output_type": "stream",
          "name": "stderr",
          "text": [
            "\n",
            "A module that was compiled using NumPy 1.x cannot be run in\n",
            "NumPy 2.2.4 as it may crash. To support both 1.x and 2.x\n",
            "versions of NumPy, modules must be compiled with NumPy 2.0.\n",
            "Some module may need to rebuild instead e.g. with 'pybind11>=2.12'.\n",
            "\n",
            "If you are a user of the module, the easiest solution will be to\n",
            "downgrade to 'numpy<2' or try to upgrade the affected module.\n",
            "We expect that some modules will need time to support NumPy 2.\n",
            "\n",
            "Traceback (most recent call last):  File \"<frozen runpy>\", line 198, in _run_module_as_main\n",
            "  File \"<frozen runpy>\", line 88, in _run_code\n",
            "  File \"/usr/local/lib/python3.11/dist-packages/colab_kernel_launcher.py\", line 37, in <module>\n",
            "    ColabKernelApp.launch_instance()\n",
            "  File \"/usr/local/lib/python3.11/dist-packages/traitlets/config/application.py\", line 992, in launch_instance\n",
            "    app.start()\n",
            "  File \"/usr/local/lib/python3.11/dist-packages/ipykernel/kernelapp.py\", line 712, in start\n",
            "    self.io_loop.start()\n",
            "  File \"/usr/local/lib/python3.11/dist-packages/tornado/platform/asyncio.py\", line 205, in start\n",
            "    self.asyncio_loop.run_forever()\n",
            "  File \"/usr/lib/python3.11/asyncio/base_events.py\", line 608, in run_forever\n",
            "    self._run_once()\n",
            "  File \"/usr/lib/python3.11/asyncio/base_events.py\", line 1936, in _run_once\n",
            "    handle._run()\n",
            "  File \"/usr/lib/python3.11/asyncio/events.py\", line 84, in _run\n",
            "    self._context.run(self._callback, *self._args)\n",
            "  File \"/usr/local/lib/python3.11/dist-packages/ipykernel/kernelbase.py\", line 510, in dispatch_queue\n",
            "    await self.process_one()\n",
            "  File \"/usr/local/lib/python3.11/dist-packages/ipykernel/kernelbase.py\", line 499, in process_one\n",
            "    await dispatch(*args)\n",
            "  File \"/usr/local/lib/python3.11/dist-packages/ipykernel/kernelbase.py\", line 406, in dispatch_shell\n",
            "    await result\n",
            "  File \"/usr/local/lib/python3.11/dist-packages/ipykernel/kernelbase.py\", line 730, in execute_request\n",
            "    reply_content = await reply_content\n",
            "  File \"/usr/local/lib/python3.11/dist-packages/ipykernel/ipkernel.py\", line 383, in do_execute\n",
            "    res = shell.run_cell(\n",
            "  File \"/usr/local/lib/python3.11/dist-packages/ipykernel/zmqshell.py\", line 528, in run_cell\n",
            "    return super().run_cell(*args, **kwargs)\n",
            "  File \"/usr/local/lib/python3.11/dist-packages/IPython/core/interactiveshell.py\", line 2975, in run_cell\n",
            "    result = self._run_cell(\n",
            "  File \"/usr/local/lib/python3.11/dist-packages/IPython/core/interactiveshell.py\", line 3030, in _run_cell\n",
            "    return runner(coro)\n",
            "  File \"/usr/local/lib/python3.11/dist-packages/IPython/core/async_helpers.py\", line 78, in _pseudo_sync_runner\n",
            "    coro.send(None)\n",
            "  File \"/usr/local/lib/python3.11/dist-packages/IPython/core/interactiveshell.py\", line 3257, in run_cell_async\n",
            "    has_raised = await self.run_ast_nodes(code_ast.body, cell_name,\n",
            "  File \"/usr/local/lib/python3.11/dist-packages/IPython/core/interactiveshell.py\", line 3473, in run_ast_nodes\n",
            "    if (await self.run_code(code, result,  async_=asy)):\n",
            "  File \"/usr/local/lib/python3.11/dist-packages/IPython/core/interactiveshell.py\", line 3553, in run_code\n",
            "    exec(code_obj, self.user_global_ns, self.user_ns)\n",
            "  File \"<ipython-input-1-086b210c2daf>\", line 1, in <cell line: 0>\n",
            "    from transformers import AutoModelForCausalLM, AutoTokenizer\n",
            "  File \"/usr/local/lib/python3.11/dist-packages/transformers/__init__.py\", line 26, in <module>\n",
            "    from . import dependency_versions_check\n",
            "  File \"/usr/local/lib/python3.11/dist-packages/transformers/dependency_versions_check.py\", line 16, in <module>\n",
            "    from .utils.versions import require_version, require_version_core\n",
            "  File \"/usr/local/lib/python3.11/dist-packages/transformers/utils/__init__.py\", line 25, in <module>\n",
            "    from .chat_template_utils import DocstringParsingException, TypeHintParsingException, get_json_schema\n",
            "  File \"/usr/local/lib/python3.11/dist-packages/transformers/utils/chat_template_utils.py\", line 40, in <module>\n",
            "    from torch import Tensor\n",
            "  File \"/usr/local/lib/python3.11/dist-packages/torch/__init__.py\", line 1477, in <module>\n",
            "    from .functional import *  # noqa: F403\n",
            "  File \"/usr/local/lib/python3.11/dist-packages/torch/functional.py\", line 9, in <module>\n",
            "    import torch.nn.functional as F\n",
            "  File \"/usr/local/lib/python3.11/dist-packages/torch/nn/__init__.py\", line 1, in <module>\n",
            "    from .modules import *  # noqa: F403\n",
            "  File \"/usr/local/lib/python3.11/dist-packages/torch/nn/modules/__init__.py\", line 35, in <module>\n",
            "    from .transformer import TransformerEncoder, TransformerDecoder, \\\n",
            "  File \"/usr/local/lib/python3.11/dist-packages/torch/nn/modules/transformer.py\", line 20, in <module>\n",
            "    device: torch.device = torch.device(torch._C._get_default_device()),  # torch.device('cpu'),\n",
            "/usr/local/lib/python3.11/dist-packages/torch/nn/modules/transformer.py:20: UserWarning: Failed to initialize NumPy: _ARRAY_API not found (Triggered internally at ../torch/csrc/utils/tensor_numpy.cpp:84.)\n",
            "  device: torch.device = torch.device(torch._C._get_default_device()),  # torch.device('cpu'),\n",
            "/usr/local/lib/python3.11/dist-packages/huggingface_hub/utils/_auth.py:94: UserWarning: \n",
            "The secret `HF_TOKEN` does not exist in your Colab secrets.\n",
            "To authenticate with the Hugging Face Hub, create a token in your settings tab (https://huggingface.co/settings/tokens), set it as secret in your Google Colab and restart your session.\n",
            "You will be able to reuse this secret in all of your notebooks.\n",
            "Please note that authentication is recommended but still optional to access public models or datasets.\n",
            "  warnings.warn(\n",
            "The attention mask is not set and cannot be inferred from input because pad token is same as eos token. As a consequence, you may observe unexpected behavior. Please pass your input's `attention_mask` to obtain reliable results.\n"
          ]
        },
        {
          "output_type": "stream",
          "name": "stdout",
          "text": [
            " It is murder, Watson—refined, cold-blooded, deliberate murder.\n",
            "      Do not ask me for particulars. My nets are closing upon him, even\n",
            "      as his are upon Sir Henry, and with your help he is already\n",
            "      almost at my mercy. I shall not be so easily caught, however, and\n",
            "      I will not be so easily killed.\n",
            "\n",
            "He paused, looking at me with an unyielding eye, while I stood silent\n",
            "and motionless, my head bent and my eyes fixed on the floor.\n",
            "\n",
            "\"I will not be so easily caught, however, and I will not be so easily\n",
            "killed,\" he repeated.\n",
            "\n",
            "He paused, looking at me with an unyielding eye, while I stood\n"
          ]
        }
      ]
    },
    {
      "cell_type": "markdown",
      "source": [
        "Le texte orginal:\n",
        "It is murder, Watson—refined, cold-blooded, deliberate murder.\n",
        "Do not ask me for particulars. My nets are closing upon him, even\n",
        "      as his are upon Sir Henry, and with your help he is already\n",
        "      almost at my mercy. There is but one danger which can threaten\n",
        "      us. It is that he should strike before we are ready to do so.\n",
        "      Another day—two at the most—and I have my case complete, but\n",
        "      until then guard your charge as closely as ever a fond mother\n",
        "      watched her ailing child. Your mission today has justified\n",
        "      itself, and yet I could almost wish that you had not left his\n",
        "      side. Hark!"
      ],
      "metadata": {
        "id": "7C4NyfrAc5sN"
      }
    },
    {
      "cell_type": "markdown",
      "source": [
        "C'est un modèle pré-entraîné \"SmolLM2-1.7B-Instruct\" de HuggingFace et son tokenizer. Il prend un extrait de texte de roman et le prépare pour le modèle en l'encodant. Ensuite, il génère une suite du texte en utilisant des paramètres de génération tels que la température et le top-p pour contrôler la diversité de la sortie.  Cela permet de créer une continuation fluide et créative de l'extrait donné.\n",
        "\n",
        "Le modèle a généré du texte qui suit bien le début de l'extrait, mais il a tendance à répéter certaines phrases. Ce comportement peut être causé par les paramètres de génération, notamment la température et le top_p, qui favorisent des répétitions. De plus, le texte généré s'éloigne un peu du texte original, ce qui montre que le modèle prend des libertés créatives."
      ],
      "metadata": {
        "id": "Zz8GguISVQN3"
      }
    }
  ]
}